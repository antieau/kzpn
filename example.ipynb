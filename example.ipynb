{
 "cells": [
  {
   "cell_type": "code",
   "execution_count": 1,
   "metadata": {},
   "outputs": [],
   "source": [
    "# Imports\n",
    "load('prismatic_envelope.sage')\n",
    "load('precision.py')\n",
    "load('homology.sage')"
   ]
  },
  {
   "cell_type": "markdown",
   "metadata": {},
   "source": [
    "### User-defined input"
   ]
  },
  {
   "cell_type": "code",
   "execution_count": 2,
   "metadata": {},
   "outputs": [],
   "source": [
    "# The prime p\n",
    "p=2\n",
    "\n",
    "# The motivic weight i\n",
    "i=16\n",
    "\n",
    "# The power of the uniformizer n\n",
    "n=2\n",
    "\n",
    "# The residual degree f\n",
    "# The present code only supports totally ramified extensions of Qp,\n",
    "# i.e., where f=1\n",
    "f=1"
   ]
  },
  {
   "cell_type": "markdown",
   "metadata": {},
   "source": [
    "### Some precision calculations"
   ]
  },
  {
   "cell_type": "code",
   "execution_count": 3,
   "metadata": {},
   "outputs": [
    {
     "name": "stdout",
     "output_type": "stream",
     "text": [
      "total p-adic precision is 309\n",
      "Fprec is 32\n"
     ]
    }
   ],
   "source": [
    "# The calculated F-precision needed to compute at this weight\n",
    "Fprec=n*i\n",
    "\n",
    "# The target precision\n",
    "target_precision=nygaard_exponent(p,i,n)\n",
    "\n",
    "####################\n",
    "# Precision losses #\n",
    "####################\n",
    "\n",
    "### From \\delta\n",
    "precision_loss_delta=math.floor(math.log(Fprec-1,p))\n",
    "\n",
    "### From passing from OK to OK/pi^n\n",
    "precision_loss_quotient=0\n",
    "for q in range(p,i):\n",
    "    precision_loss_quotient+=n*valuation(p,math.factorial(q))\n",
    "    \n",
    "### From lifting nabla to Nygaard\n",
    "precision_loss_nygaard=n*math.floor(i*(i-1)/2)\n",
    "\n",
    "### From computing can-phi on primitives\n",
    "precision_loss_primitives=target_precision\n",
    "\n",
    "### From renormalizing the Eisenstein polynomial\n",
    "precision_loss_from_Eisenstein=1\n",
    "\n",
    "total_precision=(target_precision+precision_loss_delta\n",
    "                 +precision_loss_quotient\n",
    "                 +precision_loss_nygaard\n",
    "                 +precision_loss_primitives\n",
    "                 +precision_loss_from_Eisenstein)\n",
    "\n",
    "print(\"total p-adic precision is {}\".format(total_precision))\n",
    "print(\"Fprec is {}\".format(Fprec))\n",
    "\n",
    "# The coefficient ring W\n",
    "if f==1:\n",
    "    W=Zp(p,total_precision,type='capped-abs',print_mode='digits',show_prec=False)\n",
    "else:\n",
    "    W=Zq(p**f,total_precision,names='a',type='capped-abs',print_mode='series',show_prec=False)\n",
    "    \n",
    "# The Breuil-Kisin ring A\n",
    "A.<z>=PowerSeriesRing(W,Fprec)"
   ]
  },
  {
   "cell_type": "markdown",
   "metadata": {},
   "source": [
    "### User-defined input: the Eisenstein polynomial\n",
    "\n",
    "Note that in order for this to be created in a power series ring with the correct p-adic and F-adic precisions,\n",
    "the elements p,i,n,f should be set above *before* defining the Eisenstein polynomial."
   ]
  },
  {
   "cell_type": "code",
   "execution_count": 4,
   "metadata": {},
   "outputs": [],
   "source": [
    "# The Eisenstein polynomial E\n",
    "E=A(z+p)"
   ]
  },
  {
   "cell_type": "markdown",
   "metadata": {},
   "source": [
    "### The main calculation"
   ]
  },
  {
   "cell_type": "code",
   "execution_count": 5,
   "metadata": {
    "scrolled": true
   },
   "outputs": [
    {
     "ename": "RecursionError",
     "evalue": "maximum recursion depth exceeded while calling a Python object",
     "output_type": "error",
     "traceback": [
      "\u001b[0;31m---------------------------------------------------------------------------\u001b[0m",
      "\u001b[0;31mRecursionError\u001b[0m                            Traceback (most recent call last)",
      "Cell \u001b[0;32mIn [5], line 12\u001b[0m\n\u001b[1;32m      9\u001b[0m g_monomials_dict\u001b[38;5;241m=\u001b[39m{}\n\u001b[1;32m     11\u001b[0m \u001b[38;5;66;03m# The syntomic matrices from new\u001b[39;00m\n\u001b[0;32m---> 12\u001b[0m \u001b[43mget_ipython\u001b[49m\u001b[43m(\u001b[49m\u001b[43m)\u001b[49m\u001b[38;5;241;43m.\u001b[39;49m\u001b[43mrun_line_magic\u001b[49m\u001b[43m(\u001b[49m\u001b[38;5;124;43m'\u001b[39;49m\u001b[38;5;124;43mprun\u001b[39;49m\u001b[38;5;124;43m'\u001b[39;49m\u001b[43m,\u001b[49m\u001b[43m \u001b[49m\u001b[38;5;124;43m'\u001b[39;49m\u001b[38;5;124;43m-s cumulative syn_cplx=SyntomicComplex(p,i,n,E,total_precision,Fprec,debug=False)\u001b[39;49m\u001b[38;5;124;43m'\u001b[39;49m\u001b[43m)\u001b[49m\n",
      "File \u001b[0;32m/private/var/tmp/sage-10.2-current/local/var/lib/sage/venv-python3.11.1/lib/python3.11/site-packages/IPython/core/interactiveshell.py:2364\u001b[0m, in \u001b[0;36mInteractiveShell.run_line_magic\u001b[0;34m(self, magic_name, line, _stack_depth)\u001b[0m\n\u001b[1;32m   2362\u001b[0m     kwargs[\u001b[38;5;124m'\u001b[39m\u001b[38;5;124mlocal_ns\u001b[39m\u001b[38;5;124m'\u001b[39m] \u001b[38;5;241m=\u001b[39m \u001b[38;5;28mself\u001b[39m\u001b[38;5;241m.\u001b[39mget_local_scope(stack_depth)\n\u001b[1;32m   2363\u001b[0m \u001b[38;5;28;01mwith\u001b[39;00m \u001b[38;5;28mself\u001b[39m\u001b[38;5;241m.\u001b[39mbuiltin_trap:\n\u001b[0;32m-> 2364\u001b[0m     result \u001b[38;5;241m=\u001b[39m \u001b[43mfn\u001b[49m\u001b[43m(\u001b[49m\u001b[38;5;241;43m*\u001b[39;49m\u001b[43margs\u001b[49m\u001b[43m,\u001b[49m\u001b[43m \u001b[49m\u001b[38;5;241;43m*\u001b[39;49m\u001b[38;5;241;43m*\u001b[39;49m\u001b[43mkwargs\u001b[49m\u001b[43m)\u001b[49m\n\u001b[1;32m   2365\u001b[0m \u001b[38;5;28;01mreturn\u001b[39;00m result\n",
      "File \u001b[0;32m/private/var/tmp/sage-10.2-current/local/var/lib/sage/venv-python3.11.1/lib/python3.11/site-packages/IPython/core/magics/execution.py:296\u001b[0m, in \u001b[0;36mExecutionMagics.prun\u001b[0;34m(self, parameter_s, cell)\u001b[0m\n\u001b[1;32m    294\u001b[0m     arg_str \u001b[38;5;241m+\u001b[39m\u001b[38;5;241m=\u001b[39m \u001b[38;5;124m'\u001b[39m\u001b[38;5;130;01m\\n\u001b[39;00m\u001b[38;5;124m'\u001b[39m \u001b[38;5;241m+\u001b[39m cell\n\u001b[1;32m    295\u001b[0m arg_str \u001b[38;5;241m=\u001b[39m \u001b[38;5;28mself\u001b[39m\u001b[38;5;241m.\u001b[39mshell\u001b[38;5;241m.\u001b[39mtransform_cell(arg_str)\n\u001b[0;32m--> 296\u001b[0m \u001b[38;5;28;01mreturn\u001b[39;00m \u001b[38;5;28;43mself\u001b[39;49m\u001b[38;5;241;43m.\u001b[39;49m\u001b[43m_run_with_profiler\u001b[49m\u001b[43m(\u001b[49m\u001b[43marg_str\u001b[49m\u001b[43m,\u001b[49m\u001b[43m \u001b[49m\u001b[43mopts\u001b[49m\u001b[43m,\u001b[49m\u001b[43m \u001b[49m\u001b[38;5;28;43mself\u001b[39;49m\u001b[38;5;241;43m.\u001b[39;49m\u001b[43mshell\u001b[49m\u001b[38;5;241;43m.\u001b[39;49m\u001b[43muser_ns\u001b[49m\u001b[43m)\u001b[49m\n",
      "File \u001b[0;32m/private/var/tmp/sage-10.2-current/local/var/lib/sage/venv-python3.11.1/lib/python3.11/site-packages/IPython/core/magics/execution.py:318\u001b[0m, in \u001b[0;36mExecutionMagics._run_with_profiler\u001b[0;34m(self, code, opts, namespace)\u001b[0m\n\u001b[1;32m    316\u001b[0m prof \u001b[38;5;241m=\u001b[39m profile\u001b[38;5;241m.\u001b[39mProfile()\n\u001b[1;32m    317\u001b[0m \u001b[38;5;28;01mtry\u001b[39;00m:\n\u001b[0;32m--> 318\u001b[0m     prof \u001b[38;5;241m=\u001b[39m \u001b[43mprof\u001b[49m\u001b[38;5;241;43m.\u001b[39;49m\u001b[43mrunctx\u001b[49m\u001b[43m(\u001b[49m\u001b[43mcode\u001b[49m\u001b[43m,\u001b[49m\u001b[43m \u001b[49m\u001b[43mnamespace\u001b[49m\u001b[43m,\u001b[49m\u001b[43m \u001b[49m\u001b[43mnamespace\u001b[49m\u001b[43m)\u001b[49m\n\u001b[1;32m    319\u001b[0m     sys_exit \u001b[38;5;241m=\u001b[39m \u001b[38;5;124m'\u001b[39m\u001b[38;5;124m'\u001b[39m\n\u001b[1;32m    320\u001b[0m \u001b[38;5;28;01mexcept\u001b[39;00m \u001b[38;5;167;01mSystemExit\u001b[39;00m:\n",
      "File \u001b[0;32m/private/var/tmp/sage-10.2-current/local/var/lib/sage/venv-python3.11.1/lib/python3.11/cProfile.py:100\u001b[0m, in \u001b[0;36mProfile.runctx\u001b[0;34m(self, cmd, globals, locals)\u001b[0m\n\u001b[1;32m     98\u001b[0m \u001b[38;5;28mself\u001b[39m\u001b[38;5;241m.\u001b[39menable()\n\u001b[1;32m     99\u001b[0m \u001b[38;5;28;01mtry\u001b[39;00m:\n\u001b[0;32m--> 100\u001b[0m     \u001b[43mexec\u001b[49m\u001b[43m(\u001b[49m\u001b[43mcmd\u001b[49m\u001b[43m,\u001b[49m\u001b[43m \u001b[49m\u001b[38;5;28;43mglobals\u001b[39;49m\u001b[43m,\u001b[49m\u001b[43m \u001b[49m\u001b[38;5;28;43mlocals\u001b[39;49m\u001b[43m)\u001b[49m\n\u001b[1;32m    101\u001b[0m \u001b[38;5;28;01mfinally\u001b[39;00m:\n\u001b[1;32m    102\u001b[0m     \u001b[38;5;28mself\u001b[39m\u001b[38;5;241m.\u001b[39mdisable()\n",
      "File \u001b[0;32m<string>:1\u001b[0m\n",
      "File \u001b[0;32m<string>:21\u001b[0m, in \u001b[0;36m__init__\u001b[0;34m(self, p, i, n, E, total_precision, Fprec, debug)\u001b[0m\n",
      "File \u001b[0;32m<string>:927\u001b[0m, in \u001b[0;36msyntomic_matrices\u001b[0;34m(p, i, k, E, prec, Fprec, nablaP_OK, debug)\u001b[0m\n",
      "File \u001b[0;32m<string>:685\u001b[0m, in \u001b[0;36mnablaP_matrix_OK\u001b[0;34m(p, i, k, E, prec, Fprec, debug)\u001b[0m\n",
      "File \u001b[0;32m<string>:642\u001b[0m, in \u001b[0;36mprismatic_envelope_g\u001b[0;34m(p, E, k, prec, Fprec, debug)\u001b[0m\n",
      "File \u001b[0;32m<string>:639\u001b[0m, in \u001b[0;36minitialize_gvars_phi\u001b[0;34m()\u001b[0m\n",
      "File \u001b[0;32m<string>:628\u001b[0m, in \u001b[0;36mrecursive_reduce\u001b[0;34m(funct)\u001b[0m\n",
      "File \u001b[0;32m<string>:600\u001b[0m, in \u001b[0;36mreduce\u001b[0;34m(funct)\u001b[0m\n",
      "File \u001b[0;32m<string>:454\u001b[0m, in \u001b[0;36mpow_capped\u001b[0;34m(term, power)\u001b[0m\n",
      "File \u001b[0;32m<string>:628\u001b[0m, in \u001b[0;36mrecursive_reduce\u001b[0;34m(funct)\u001b[0m\n",
      "File \u001b[0;32m<string>:600\u001b[0m, in \u001b[0;36mreduce\u001b[0;34m(funct)\u001b[0m\n",
      "File \u001b[0;32m<string>:454\u001b[0m, in \u001b[0;36mpow_capped\u001b[0;34m(term, power)\u001b[0m\n",
      "    \u001b[0;31m[... skipping similar frames: pow_capped at line 454 (978 times), recursive_reduce at line 628 (978 times), reduce at line 600 (978 times)]\u001b[0m\n",
      "File \u001b[0;32m<string>:628\u001b[0m, in \u001b[0;36mrecursive_reduce\u001b[0;34m(funct)\u001b[0m\n",
      "File \u001b[0;32m<string>:600\u001b[0m, in \u001b[0;36mreduce\u001b[0;34m(funct)\u001b[0m\n",
      "File \u001b[0;32m<string>:454\u001b[0m, in \u001b[0;36mpow_capped\u001b[0;34m(term, power)\u001b[0m\n",
      "File \u001b[0;32m<string>:441\u001b[0m, in \u001b[0;36mmul_capped\u001b[0;34m(lhs, rhs)\u001b[0m\n",
      "File \u001b[0;32m<string>:433\u001b[0m, in \u001b[0;36mcoefficient_add_bigoh\u001b[0;34m(coeff, target_bigoh)\u001b[0m\n",
      "File \u001b[0;32m<string>:433\u001b[0m, in \u001b[0;36m<listcomp>\u001b[0;34m(.0)\u001b[0m\n",
      "File \u001b[0;32m/private/var/tmp/sage-10.2-current/local/var/lib/sage/venv-python3.11.1/lib/python3.11/site-packages/sage/rings/power_series_ring_element.pyx:838\u001b[0m, in \u001b[0;36msage.rings.power_series_ring_element.PowerSeries.add_bigoh (build/cythonized/sage/rings/power_series_ring_element.c:14872)\u001b[0;34m()\u001b[0m\n\u001b[1;32m    836\u001b[0m     a = self.list()\n\u001b[1;32m    837\u001b[0m     v = [a[i] for i in range(min(prec, len(a)))]\n\u001b[0;32m--> 838\u001b[0m     return self._parent(v, prec)\n\u001b[1;32m    839\u001b[0m \n\u001b[1;32m    840\u001b[0m def __getitem__(self,n):\n",
      "File \u001b[0;32m/private/var/tmp/sage-10.2-current/local/var/lib/sage/venv-python3.11.1/lib/python3.11/site-packages/sage/structure/parent.pyx:903\u001b[0m, in \u001b[0;36msage.structure.parent.Parent.__call__ (build/cythonized/sage/structure/parent.c:12685)\u001b[0;34m()\u001b[0m\n\u001b[1;32m    901\u001b[0m         return mor._call_(x)\n\u001b[1;32m    902\u001b[0m     else:\n\u001b[0;32m--> 903\u001b[0m         return mor._call_with_args(x, args, kwds)\n\u001b[1;32m    904\u001b[0m \n\u001b[1;32m    905\u001b[0m raise TypeError(_LazyString(\"No conversion defined from %s to %s\", (R, self), {}))\n",
      "File \u001b[0;32m/private/var/tmp/sage-10.2-current/local/var/lib/sage/venv-python3.11.1/lib/python3.11/site-packages/sage/structure/coerce_maps.pyx:182\u001b[0m, in \u001b[0;36msage.structure.coerce_maps.DefaultConvertMap_unique._call_with_args (build/cythonized/sage/structure/coerce_maps.c:7540)\u001b[0;34m()\u001b[0m\n\u001b[1;32m    180\u001b[0m     print(type(C), C)\n\u001b[1;32m    181\u001b[0m     print(type(C._element_constructor), C._element_constructor)\n\u001b[0;32m--> 182\u001b[0m raise\n\u001b[1;32m    183\u001b[0m \n\u001b[1;32m    184\u001b[0m \n",
      "File \u001b[0;32m/private/var/tmp/sage-10.2-current/local/var/lib/sage/venv-python3.11.1/lib/python3.11/site-packages/sage/structure/coerce_maps.pyx:175\u001b[0m, in \u001b[0;36msage.structure.coerce_maps.DefaultConvertMap_unique._call_with_args (build/cythonized/sage/structure/coerce_maps.c:7382)\u001b[0;34m()\u001b[0m\n\u001b[1;32m    173\u001b[0m else:\n\u001b[1;32m    174\u001b[0m     if len(kwds) == 0:\n\u001b[0;32m--> 175\u001b[0m         return C._element_constructor(x, *args)\n\u001b[1;32m    176\u001b[0m     else:\n\u001b[1;32m    177\u001b[0m         return C._element_constructor(x, *args, **kwds)\n",
      "File \u001b[0;32m/private/var/tmp/sage-10.2-current/local/var/lib/sage/venv-python3.11.1/lib/python3.11/site-packages/sage/rings/power_series_ring.py:824\u001b[0m, in \u001b[0;36mPowerSeriesRing_generic._element_constructor_\u001b[0;34m(self, f, prec, check)\u001b[0m\n\u001b[1;32m    822\u001b[0m         \u001b[38;5;28;01melse\u001b[39;00m:\n\u001b[1;32m    823\u001b[0m             \u001b[38;5;28;01mraise\u001b[39;00m \u001b[38;5;167;01mTypeError\u001b[39;00m(\u001b[38;5;124m\"\u001b[39m\u001b[38;5;124mCan only convert series into ring with same variable name.\u001b[39m\u001b[38;5;124m\"\u001b[39m)\n\u001b[0;32m--> 824\u001b[0m \u001b[38;5;28;01mreturn\u001b[39;00m \u001b[38;5;28;43mself\u001b[39;49m\u001b[38;5;241;43m.\u001b[39;49m\u001b[43melement_class\u001b[49m\u001b[43m(\u001b[49m\u001b[38;5;28;43mself\u001b[39;49m\u001b[43m,\u001b[49m\u001b[43m \u001b[49m\u001b[43mf\u001b[49m\u001b[43m,\u001b[49m\u001b[43m \u001b[49m\u001b[43mprec\u001b[49m\u001b[43m,\u001b[49m\u001b[43m \u001b[49m\u001b[43mcheck\u001b[49m\u001b[38;5;241;43m=\u001b[39;49m\u001b[43mcheck\u001b[49m\u001b[43m)\u001b[49m\n",
      "File \u001b[0;32m/private/var/tmp/sage-10.2-current/local/var/lib/sage/venv-python3.11.1/lib/python3.11/site-packages/sage/rings/power_series_poly.pyx:65\u001b[0m, in \u001b[0;36msage.rings.power_series_poly.PowerSeries_poly.__init__ (build/cythonized/sage/rings/power_series_poly.c:6926)\u001b[0;34m()\u001b[0m\n\u001b[1;32m     63\u001b[0m else:\n\u001b[1;32m     64\u001b[0m     if f:\n\u001b[0;32m---> 65\u001b[0m         f = R(f, check=check)\n\u001b[1;32m     66\u001b[0m     else: # None is supposed to yield zero\n\u001b[1;32m     67\u001b[0m         f = R(None)\n",
      "File \u001b[0;32m/private/var/tmp/sage-10.2-current/local/var/lib/sage/venv-python3.11.1/lib/python3.11/site-packages/sage/structure/parent.pyx:903\u001b[0m, in \u001b[0;36msage.structure.parent.Parent.__call__ (build/cythonized/sage/structure/parent.c:12685)\u001b[0;34m()\u001b[0m\n\u001b[1;32m    901\u001b[0m         return mor._call_(x)\n\u001b[1;32m    902\u001b[0m     else:\n\u001b[0;32m--> 903\u001b[0m         return mor._call_with_args(x, args, kwds)\n\u001b[1;32m    904\u001b[0m \n\u001b[1;32m    905\u001b[0m raise TypeError(_LazyString(\"No conversion defined from %s to %s\", (R, self), {}))\n",
      "File \u001b[0;32m/private/var/tmp/sage-10.2-current/local/var/lib/sage/venv-python3.11.1/lib/python3.11/site-packages/sage/structure/coerce_maps.pyx:182\u001b[0m, in \u001b[0;36msage.structure.coerce_maps.DefaultConvertMap_unique._call_with_args (build/cythonized/sage/structure/coerce_maps.c:7540)\u001b[0;34m()\u001b[0m\n\u001b[1;32m    180\u001b[0m     print(type(C), C)\n\u001b[1;32m    181\u001b[0m     print(type(C._element_constructor), C._element_constructor)\n\u001b[0;32m--> 182\u001b[0m raise\n\u001b[1;32m    183\u001b[0m \n\u001b[1;32m    184\u001b[0m \n",
      "File \u001b[0;32m/private/var/tmp/sage-10.2-current/local/var/lib/sage/venv-python3.11.1/lib/python3.11/site-packages/sage/structure/coerce_maps.pyx:172\u001b[0m, in \u001b[0;36msage.structure.coerce_maps.DefaultConvertMap_unique._call_with_args (build/cythonized/sage/structure/coerce_maps.c:7332)\u001b[0;34m()\u001b[0m\n\u001b[1;32m    170\u001b[0m         return C._element_constructor(x)\n\u001b[1;32m    171\u001b[0m     else:\n\u001b[0;32m--> 172\u001b[0m         return C._element_constructor(x, **kwds)\n\u001b[1;32m    173\u001b[0m else:\n\u001b[1;32m    174\u001b[0m     if len(kwds) == 0:\n",
      "File \u001b[0;32m/private/var/tmp/sage-10.2-current/local/var/lib/sage/venv-python3.11.1/lib/python3.11/site-packages/sage/rings/polynomial/polynomial_ring.py:421\u001b[0m, in \u001b[0;36mPolynomialRing_general._element_constructor_\u001b[0;34m(self, x, check, is_gen, construct, **kwds)\u001b[0m\n\u001b[1;32m    419\u001b[0m C \u001b[38;5;241m=\u001b[39m \u001b[38;5;28mself\u001b[39m\u001b[38;5;241m.\u001b[39melement_class\n\u001b[1;32m    420\u001b[0m \u001b[38;5;28;01mif\u001b[39;00m \u001b[38;5;28misinstance\u001b[39m(x, (\u001b[38;5;28mlist\u001b[39m, \u001b[38;5;28mtuple\u001b[39m)):\n\u001b[0;32m--> 421\u001b[0m     \u001b[38;5;28;01mreturn\u001b[39;00m \u001b[43mC\u001b[49m\u001b[43m(\u001b[49m\u001b[38;5;28;43mself\u001b[39;49m\u001b[43m,\u001b[49m\u001b[43m \u001b[49m\u001b[43mx\u001b[49m\u001b[43m,\u001b[49m\u001b[43m \u001b[49m\u001b[43mcheck\u001b[49m\u001b[38;5;241;43m=\u001b[39;49m\u001b[43mcheck\u001b[49m\u001b[43m,\u001b[49m\u001b[43m \u001b[49m\u001b[43mis_gen\u001b[49m\u001b[38;5;241;43m=\u001b[39;49m\u001b[38;5;28;43;01mFalse\u001b[39;49;00m\u001b[43m,\u001b[49m\u001b[43m \u001b[49m\u001b[43mconstruct\u001b[49m\u001b[38;5;241;43m=\u001b[39;49m\u001b[43mconstruct\u001b[49m\u001b[43m)\u001b[49m\n\u001b[1;32m    422\u001b[0m \u001b[38;5;28;01mif\u001b[39;00m \u001b[38;5;28misinstance\u001b[39m(x, \u001b[38;5;28mrange\u001b[39m):\n\u001b[1;32m    423\u001b[0m     \u001b[38;5;28;01mreturn\u001b[39;00m C(\u001b[38;5;28mself\u001b[39m, \u001b[38;5;28mlist\u001b[39m(x), check\u001b[38;5;241m=\u001b[39mcheck, is_gen\u001b[38;5;241m=\u001b[39m\u001b[38;5;28;01mFalse\u001b[39;00m,\n\u001b[1;32m    424\u001b[0m              construct\u001b[38;5;241m=\u001b[39mconstruct)\n",
      "File \u001b[0;32m/private/var/tmp/sage-10.2-current/local/var/lib/sage/venv-python3.11.1/lib/python3.11/site-packages/sage/rings/polynomial/padics/polynomial_padic_flat.py:70\u001b[0m, in \u001b[0;36mPolynomial_padic_flat.__init__\u001b[0;34m(self, parent, x, check, is_gen, construct, absprec)\u001b[0m\n\u001b[1;32m     68\u001b[0m \u001b[38;5;28;01mif\u001b[39;00m absprec \u001b[38;5;129;01mis\u001b[39;00m \u001b[38;5;28;01mNone\u001b[39;00m:\n\u001b[1;32m     69\u001b[0m     absprec \u001b[38;5;241m=\u001b[39m infinity\n\u001b[0;32m---> 70\u001b[0m m \u001b[38;5;241m=\u001b[39m \u001b[38;5;28;43mmin\u001b[39;49m\u001b[43m(\u001b[49m\u001b[43m[\u001b[49m\u001b[43ma\u001b[49m\u001b[38;5;241;43m.\u001b[39;49m\u001b[43mprecision_absolute\u001b[49m\u001b[43m(\u001b[49m\u001b[43m)\u001b[49m\u001b[43m \u001b[49m\u001b[38;5;28;43;01mfor\u001b[39;49;00m\u001b[43m \u001b[49m\u001b[43ma\u001b[49m\u001b[43m \u001b[49m\u001b[38;5;129;43;01min\u001b[39;49;00m\u001b[43m \u001b[49m\u001b[43mx\u001b[49m\u001b[43m]\u001b[49m\u001b[43m \u001b[49m\u001b[38;5;241;43m+\u001b[39;49m\u001b[43m \u001b[49m\u001b[43m[\u001b[49m\u001b[43mabsprec\u001b[49m\u001b[43m]\u001b[49m\u001b[43m)\u001b[49m\n\u001b[1;32m     71\u001b[0m Polynomial_generic_dense\u001b[38;5;241m.\u001b[39m\u001b[38;5;21m__init__\u001b[39m(\u001b[38;5;28mself\u001b[39m, parent, x, absprec\u001b[38;5;241m=\u001b[39mm)\n",
      "File \u001b[0;32m/private/var/tmp/sage-10.2-current/local/var/lib/sage/venv-python3.11.1/lib/python3.11/site-packages/sage/structure/element.pyx:1107\u001b[0m, in \u001b[0;36msage.structure.element.Element.__richcmp__ (build/cythonized/sage/structure/element.c:18121)\u001b[0;34m()\u001b[0m\n\u001b[1;32m   1105\u001b[0m         return (<Element>self)._richcmp_(other, op)\n\u001b[1;32m   1106\u001b[0m     else:\n\u001b[0;32m-> 1107\u001b[0m         return coercion_model.richcmp(self, other, op)\n\u001b[1;32m   1108\u001b[0m \n\u001b[1;32m   1109\u001b[0m cpdef _richcmp_(left, right, int op) noexcept:\n",
      "File \u001b[0;32m/private/var/tmp/sage-10.2-current/local/var/lib/sage/venv-python3.11.1/lib/python3.11/site-packages/sage/structure/coerce.pyx:2029\u001b[0m, in \u001b[0;36msage.structure.coerce.CoercionModel.richcmp (build/cythonized/sage/structure/coerce.c:26288)\u001b[0;34m()\u001b[0m\n\u001b[1;32m   2027\u001b[0m     assert not (isinstance(x, Element) and\n\u001b[1;32m   2028\u001b[0m         (<Element>x)._parent.get_flag(Parent_richcmp_element_without_coercion))\n\u001b[0;32m-> 2029\u001b[0m     return PyObject_RichCompare(x, y, op)\n\u001b[1;32m   2030\u001b[0m \n\u001b[1;32m   2031\u001b[0m # Comparing with coercion didn't work, try something else.\n",
      "File \u001b[0;32m/private/var/tmp/sage-10.2-current/local/var/lib/sage/venv-python3.11.1/lib/python3.11/site-packages/sage/structure/element.pyx:1105\u001b[0m, in \u001b[0;36msage.structure.element.Element.__richcmp__ (build/cythonized/sage/structure/element.c:18097)\u001b[0;34m()\u001b[0m\n\u001b[1;32m   1103\u001b[0m     # an instance of Element. The explicit casts below make\n\u001b[1;32m   1104\u001b[0m     # Cython generate optimized code for this call.\n\u001b[0;32m-> 1105\u001b[0m     return (<Element>self)._richcmp_(other, op)\n\u001b[1;32m   1106\u001b[0m else:\n\u001b[1;32m   1107\u001b[0m     return coercion_model.richcmp(self, other, op)\n",
      "File \u001b[0;32m/private/var/tmp/sage-10.2-current/local/var/lib/sage/venv-python3.11.1/lib/python3.11/site-packages/sage/structure/element.pyx:1109\u001b[0m, in \u001b[0;36msage.structure.element.Element._richcmp_ (build/cythonized/sage/structure/element.c:18211)\u001b[0;34m()\u001b[0m\n\u001b[1;32m   1107\u001b[0m         return coercion_model.richcmp(self, other, op)\n\u001b[1;32m   1108\u001b[0m \n\u001b[0;32m-> 1109\u001b[0m cpdef _richcmp_(left, right, int op) noexcept:\n\u001b[1;32m   1110\u001b[0m     r\"\"\"\n\u001b[1;32m   1111\u001b[0m     Basic default implementation of rich comparisons for elements with\n",
      "File \u001b[0;32m/private/var/tmp/sage-10.2-current/local/var/lib/sage/venv-python3.11.1/lib/python3.11/site-packages/sage/rings/infinity.py:1697\u001b[0m, in \u001b[0;36mPlusInfinity._richcmp_\u001b[0;34m(self, other, op)\u001b[0m\n\u001b[1;32m   1683\u001b[0m \u001b[38;5;28;01mdef\u001b[39;00m \u001b[38;5;21m_richcmp_\u001b[39m(\u001b[38;5;28mself\u001b[39m, other, op):\n\u001b[1;32m   1684\u001b[0m     \u001b[38;5;124;03m\"\"\"\u001b[39;00m\n\u001b[1;32m   1685\u001b[0m \u001b[38;5;124;03m    Compare ``self`` and ``other``.\u001b[39;00m\n\u001b[1;32m   1686\u001b[0m \n\u001b[0;32m   (...)\u001b[0m\n\u001b[1;32m   1695\u001b[0m \u001b[38;5;124;03m        True\u001b[39;00m\n\u001b[1;32m   1696\u001b[0m \u001b[38;5;124;03m    \"\"\"\u001b[39;00m\n\u001b[0;32m-> 1697\u001b[0m     \u001b[38;5;28;01mif\u001b[39;00m \u001b[38;5;28;43misinstance\u001b[39;49m\u001b[43m(\u001b[49m\u001b[43mother\u001b[49m\u001b[43m,\u001b[49m\u001b[43m \u001b[49m\u001b[43mPlusInfinity\u001b[49m\u001b[43m)\u001b[49m:\n\u001b[1;32m   1698\u001b[0m         \u001b[38;5;28;01mreturn\u001b[39;00m rich_to_bool(op, \u001b[38;5;241m0\u001b[39m)\n\u001b[1;32m   1699\u001b[0m     \u001b[38;5;28;01mreturn\u001b[39;00m rich_to_bool(op, \u001b[38;5;241m1\u001b[39m)\n",
      "\u001b[0;31mRecursionError\u001b[0m: maximum recursion depth exceeded while calling a Python object"
     ]
    }
   ],
   "source": [
    "#%%capture\n",
    "# Suppresses some Python warnings and SAGE variable injections\n",
    "\n",
    "# The normalized Eisenstein polynomial\n",
    "# The normalization is to bring the Eisenstein polynomial into the form E(0)=p\n",
    "E=eisenstein_normalization(p,E)\n",
    "\n",
    "# SOME recursive_reduce testing\n",
    "g_monomials_dict={}\n",
    "\n",
    "# The syntomic matrices from new\n",
    "%prun -s cumulative syn_cplx=SyntomicComplex(p,i,n,E,total_precision,Fprec,debug=False)"
   ]
  }
 ],
 "metadata": {
  "kernelspec": {
   "display_name": "SageMath 10.2",
   "language": "sage",
   "name": "sagemath"
  },
  "language_info": {
   "codemirror_mode": {
    "name": "ipython",
    "version": 3
   },
   "file_extension": ".py",
   "mimetype": "text/x-python",
   "name": "python",
   "nbconvert_exporter": "python",
   "pygments_lexer": "ipython3",
   "version": "3.11.1"
  }
 },
 "nbformat": 4,
 "nbformat_minor": 4
}
