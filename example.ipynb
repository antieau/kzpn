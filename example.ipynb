{
 "cells": [
  {
   "cell_type": "code",
   "execution_count": 7,
   "metadata": {},
   "outputs": [],
   "source": [
    "# Imports\n",
    "load('prismatic_envelope.sage')\n",
    "load('precision.py')"
   ]
  },
  {
   "cell_type": "markdown",
   "metadata": {},
   "source": [
    "### User-defined input"
   ]
  },
  {
   "cell_type": "code",
   "execution_count": 13,
   "metadata": {},
   "outputs": [],
   "source": [
    "# The prime p\n",
    "p=2\n",
    "\n",
    "# The motivic weight i\n",
    "i=2\n",
    "\n",
    "# The power of the uniformizer n\n",
    "n=4\n",
    "\n",
    "# The residual degree f\n",
    "# The present code only supports totally ramified extensions of Qp,\n",
    "# i.e., where f=1\n",
    "f=1"
   ]
  },
  {
   "cell_type": "markdown",
   "metadata": {},
   "source": [
    "### Some precision calculations"
   ]
  },
  {
   "cell_type": "code",
   "execution_count": 14,
   "metadata": {},
   "outputs": [
    {
     "name": "stdout",
     "output_type": "stream",
     "text": [
      "total p-adic precision is 27\n",
      "Fprec is 8\n"
     ]
    }
   ],
   "source": [
    "# The calculated F-precision needed to compute at this weight\n",
    "Fprec=n*i\n",
    "\n",
    "# The target precision\n",
    "target_precision=nygaard_exponent(p,i,n)\n",
    "\n",
    "####################\n",
    "# Precision losses #\n",
    "####################\n",
    "\n",
    "### From \\delta\n",
    "precision_loss_delta=math.floor(math.log(Fprec-1,p))\n",
    "\n",
    "### From passing from OK to OK/pi^n\n",
    "precision_loss_quotient=0\n",
    "for q in range(p,i):\n",
    "    precision_loss_quotient+=n*valuation(p,math.factorial(q))\n",
    "    \n",
    "### From lifting nabla to Nygaard\n",
    "precision_loss_nygaard=n*math.floor(i*(i-1)/2)\n",
    "\n",
    "### From computing can-phi on primitives\n",
    "precision_loss_primitives=target_precision\n",
    "\n",
    "### From renormalizing the Eisenstein polynomial\n",
    "precision_loss_from_Eisenstein=1\n",
    "\n",
    "total_precision=(target_precision+precision_loss_delta\n",
    "                 +precision_loss_quotient\n",
    "                 +precision_loss_nygaard\n",
    "                 +precision_loss_primitives\n",
    "                 +precision_loss_from_Eisenstein)\n",
    "\n",
    "print(\"total p-adic precision is {}\".format(total_precision))\n",
    "print(\"Fprec is {}\".format(Fprec))\n",
    "\n",
    "# The coefficient ring W\n",
    "if f==1:\n",
    "    W=Zp(p,total_precision,type='capped-abs',print_mode='digits',show_prec=False)\n",
    "else:\n",
    "    W=Zq(p**f,total_precision,names='a',type='capped-abs',print_mode='series',show_prec=False)\n",
    "    \n",
    "# The Breuil-Kisin ring A\n",
    "A.<z>=PowerSeriesRing(W,Fprec)"
   ]
  },
  {
   "cell_type": "markdown",
   "metadata": {},
   "source": [
    "### User-defined input: the Eisenstein polynomial\n",
    "\n",
    "Note that in order for this to be created in a power series ring with the correct p-adic and F-adic precisions,\n",
    "the elements p,i,n,f should be set above *before* defining the Eisenstein polynomial."
   ]
  },
  {
   "cell_type": "code",
   "execution_count": 15,
   "metadata": {},
   "outputs": [],
   "source": [
    "# The Eisenstein polynomial E\n",
    "E=A(z^2+p*z+p)"
   ]
  },
  {
   "cell_type": "markdown",
   "metadata": {},
   "source": [
    "### The main calculation"
   ]
  },
  {
   "cell_type": "code",
   "execution_count": 16,
   "metadata": {},
   "outputs": [],
   "source": [
    "#%%capture\n",
    "# Suppresses some Python warnings and SAGE variable injections\n",
    "\n",
    "# The normalized Eisenstein polynomial\n",
    "# The normalization is to bring the Eisenstein polynomial into the form E(0)=p\n",
    "E=eisenstein_normalization(p,E)\n",
    "\n",
    "# The syntomic matrices from new\n",
    "syn0,syn1,nablaN,nablaP=syntomic_matrices(p,i,n,E,total_precision,Fprec,debug=False)"
   ]
  },
  {
   "cell_type": "markdown",
   "metadata": {},
   "source": [
    "### Assembling the syntomic complex and computing its cohomology"
   ]
  },
  {
   "cell_type": "code",
   "execution_count": 18,
   "metadata": {},
   "outputs": [
    {
     "name": "stdout",
     "output_type": "stream",
     "text": [
      "Elementary divisors of K_2(R;Z_p) are [10]\n",
      "Elementary divisors of K_3(R;Z_p) are [10, 100, 10000]\n"
     ]
    }
   ],
   "source": [
    "# The K-groups (cohomology of the p-adic syntomic complex)\n",
    "# New\n",
    "coh_dict,final_precision=syntomic_cohomology(syn0,syn1,nablaN,nablaP)\n",
    "\n",
    "print('Elementary divisors of K_{}(R;Z_p)'.format(2*i-2)+' are {}'.format(coh_dict['h2'][1]))\n",
    "print('Elementary divisors of K_{}(R;Z_p)'.format(2*i-1)+' are {}'.format(coh_dict['h1'][1]))"
   ]
  },
  {
   "cell_type": "code",
   "execution_count": null,
   "metadata": {},
   "outputs": [],
   "source": []
  }
 ],
 "metadata": {
  "kernelspec": {
   "display_name": "SageMath 10.3",
   "language": "sage",
   "name": "sagemath-10.3"
  },
  "language_info": {
   "codemirror_mode": {
    "name": "ipython",
    "version": 3
   },
   "file_extension": ".py",
   "mimetype": "text/x-python",
   "name": "python",
   "nbconvert_exporter": "python",
   "pygments_lexer": "ipython3",
   "version": "3.11.1"
  }
 },
 "nbformat": 4,
 "nbformat_minor": 4
}
