{
 "cells": [
  {
   "cell_type": "code",
   "execution_count": 1,
   "metadata": {},
   "outputs": [],
   "source": [
    "# Imports\n",
    "load('prismatic_envelope.sage')\n",
    "load('homology.sage')\n",
    "load('precision.py')"
   ]
  },
  {
   "cell_type": "markdown",
   "metadata": {},
   "source": [
    "### User-defined input"
   ]
  },
  {
   "cell_type": "code",
   "execution_count": 2,
   "metadata": {},
   "outputs": [
    {
     "name": "stdout",
     "output_type": "stream",
     "text": [
      "total p-adic precision is 20\n",
      "Fprec is 6\n"
     ]
    }
   ],
   "source": [
    "# The prime p\n",
    "p=2\n",
    "\n",
    "# The motivic weight i in F_p(i)^red\n",
    "i=2\n",
    "\n",
    "# The power of the uniformizer n\n",
    "n=3\n",
    "\n",
    "# The residual degree f\n",
    "# The present code only supports totally ramified extensions of Qp,\n",
    "# i.e., where f=1\n",
    "f=1\n",
    "\n",
    "Fprec,total_precision=target_total_precision(p,i,n)\n",
    "\n",
    "print(\"total p-adic precision is {}\".format(total_precision))\n",
    "print(\"Fprec is {}\".format(Fprec))\n",
    "\n",
    "# The coefficient ring W\n",
    "if f==1:\n",
    "    W=Zp(p,total_precision,type='capped-abs',print_mode='digits',show_prec=False)\n",
    "else:\n",
    "    W=Zq(p**f,total_precision,names='a',type='capped-abs',print_mode='series',show_prec=False)\n",
    "    \n",
    "# The Breuil-Kisin ring A\n",
    "A.<z>=PowerSeriesRing(W,Fprec)\n",
    "\n",
    "# The Eisenstein polynomial E\n",
    "# USER DEFINED\n",
    "E=A(z+p)"
   ]
  },
  {
   "cell_type": "markdown",
   "metadata": {},
   "source": [
    "### The main calculation"
   ]
  },
  {
   "cell_type": "code",
   "execution_count": 3,
   "metadata": {},
   "outputs": [
    {
     "name": "stderr",
     "output_type": "stream",
     "text": [
      "<string>:679: DeprecationWarning: __getitem__ is changing to match the behavior of number fields. Please use expansion instead.\n",
      "See https://github.com/sagemath/sage/issues/14825 for details.\n",
      "<string>:698: DeprecationWarning: __getitem__ is changing to match the behavior of number fields. Please use expansion instead.\n",
      "See https://github.com/sagemath/sage/issues/14825 for details.\n",
      "<string>:715: DeprecationWarning: __getitem__ is changing to match the behavior of number fields. Please use expansion instead.\n",
      "See https://github.com/sagemath/sage/issues/14825 for details.\n",
      "<string>:725: DeprecationWarning: __getitem__ is changing to match the behavior of number fields. Please use expansion instead.\n",
      "See https://github.com/sagemath/sage/issues/14825 for details.\n",
      "<string>:739: DeprecationWarning: __getitem__ is changing to match the behavior of number fields. Please use expansion instead.\n",
      "See https://github.com/sagemath/sage/issues/14825 for details.\n",
      "<string>:758: DeprecationWarning: __getitem__ is changing to match the behavior of number fields. Please use expansion instead.\n",
      "See https://github.com/sagemath/sage/issues/14825 for details.\n",
      "<string>:782: DeprecationWarning: __getitem__ is changing to match the behavior of number fields. Please use expansion instead.\n",
      "See https://github.com/sagemath/sage/issues/14825 for details.\n",
      "<string>:795: DeprecationWarning: __getitem__ is changing to match the behavior of number fields. Please use expansion instead.\n",
      "See https://github.com/sagemath/sage/issues/14825 for details.\n"
     ]
    }
   ],
   "source": [
    "#%%capture\n",
    "# Suppresses some Python warnings and SAGE variable injections\n",
    "\n",
    "# The normalized Eisenstein polynomial\n",
    "# The normalization is to bring the Eisenstein polynomial into the form E(0)=p\n",
    "E=eisenstein_normalization(p,E)\n",
    "\n",
    "if i-p+1>0:\n",
    "    a_syn0,a_syn1,a_nablaN,a_nablaP,a_gens_N0,a_gens_P0,a_gens_N1,a_gens_P1=syntomic_matrices(p,i-p+1,n,E,total_precision,Fprec,debug=False)\n",
    "    b_syn0,b_syn1,b_nablaN,b_nablaP,b_gens_N0,b_gens_P0,b_gens_N1,b_gens_P1=syntomic_matrices(p,i,n,E,total_precision,Fprec,debug=False)"
   ]
  },
  {
   "cell_type": "code",
   "execution_count": 4,
   "metadata": {},
   "outputs": [],
   "source": [
    "class SyntomicComplex:\n",
    "    def __init__(self,p,i,n,E,total_precision,Fprec,debug=False):\n",
    "        self.syn0,self.syn1,self.nablaN,self.nablaP,self.gens_0,gens_P0,gens_N1,self.gens_2=syntomic_matrices(p,i,n,E,total_precision,Fprec,debug=False)\n",
    "        self.gens_1=gens_P0+gens_N1\n",
    "        self.gens={}\n",
    "        self.gens[0]=self.gens_0\n",
    "        self.gens[1]=self.gens_1\n",
    "        self.gens[2]=self.gens_2\n",
    "        d0=block_matrix([[self.syn0],[self.nablaN]])\n",
    "        d1=block_matrix([[self.nablaP,-self.syn1]])\n",
    "        self.complex=ChainComplex({0:d0,1:d1})\n",
    "    \n",
    "    def compute_mod_p_homology(self):\n",
    "        self.complex_mod_p=ChainComplex({0:Matrix(GF(p),self.complex.differential()[0]),1:Matrix(GF(p),self.complex.differential()[1])})\n",
    "        self.homology_mod_p=Homology(self.complex_mod_p)\n",
    "        self.homology_mod_p_orders=self.homology_mod_p.homology_orders\n",
    "        self.homology_mod_p_dimensions={k:len(v) for k,v in self.homology_mod_p_orders.items()}\n",
    "        self.homology_mod_p_generators={}\n",
    "        for k,v in self.homology_mod_p.homology_representatives.items():            \n",
    "            self.homology_mod_p_generators[k]=[]\n",
    "            for t in range(v.ncols()):\n",
    "                gen_name=''\n",
    "                for s in range(v.nrows()):\n",
    "                    if v[s,t] != 0:\n",
    "                        gen_name+='+'+str(v[s,t])+'*'+self.gens[k][s]\n",
    "                self.homology_mod_p_generators[k].append(gen_name)\n",
    "            print(\"The dimension of the mod p cohomology in degree {} is {}.\".format(\n",
    "                k,self.homology_mod_p_dimensions[k]))\n",
    "            print(\"The generators of the mnod p cohomology are \")\n",
    "            print(self.homology_mod_p_generators[k])\n",
    "            print('\\n')"
   ]
  },
  {
   "cell_type": "code",
   "execution_count": 5,
   "metadata": {},
   "outputs": [
    {
     "name": "stderr",
     "output_type": "stream",
     "text": [
      "<string>:679: DeprecationWarning: __getitem__ is changing to match the behavior of number fields. Please use expansion instead.\n",
      "See https://github.com/sagemath/sage/issues/14825 for details.\n",
      "<string>:698: DeprecationWarning: __getitem__ is changing to match the behavior of number fields. Please use expansion instead.\n",
      "See https://github.com/sagemath/sage/issues/14825 for details.\n",
      "<string>:715: DeprecationWarning: __getitem__ is changing to match the behavior of number fields. Please use expansion instead.\n",
      "See https://github.com/sagemath/sage/issues/14825 for details.\n",
      "<string>:725: DeprecationWarning: __getitem__ is changing to match the behavior of number fields. Please use expansion instead.\n",
      "See https://github.com/sagemath/sage/issues/14825 for details.\n",
      "<string>:739: DeprecationWarning: __getitem__ is changing to match the behavior of number fields. Please use expansion instead.\n",
      "See https://github.com/sagemath/sage/issues/14825 for details.\n",
      "<string>:758: DeprecationWarning: __getitem__ is changing to match the behavior of number fields. Please use expansion instead.\n",
      "See https://github.com/sagemath/sage/issues/14825 for details.\n",
      "<string>:782: DeprecationWarning: __getitem__ is changing to match the behavior of number fields. Please use expansion instead.\n",
      "See https://github.com/sagemath/sage/issues/14825 for details.\n",
      "<string>:795: DeprecationWarning: __getitem__ is changing to match the behavior of number fields. Please use expansion instead.\n",
      "See https://github.com/sagemath/sage/issues/14825 for details.\n"
     ]
    }
   ],
   "source": [
    "syn_cplx=SyntomicComplex(p,i-p+1,n,E,total_precision,Fprec,debug=False)"
   ]
  },
  {
   "cell_type": "code",
   "execution_count": 6,
   "metadata": {},
   "outputs": [
    {
     "name": "stdout",
     "output_type": "stream",
     "text": [
      "The dimension of the mod p cohomology in degree 0 is 2.\n",
      "The generators of the mnod p cohomology are \n",
      "['+1*E^1z+1*E^0f0+1*E^0zf0', '+1*E^1z']\n",
      "\n",
      "\n",
      "The dimension of the mod p cohomology in degree 1 is 2.\n",
      "The generators of the mnod p cohomology are \n",
      "['+1*z∂', '+1*z∂+1*f0∂+1*E^0∇z+1*E^0z∇z']\n",
      "\n",
      "\n",
      "The dimension of the mod p cohomology in degree 2 is 0.\n",
      "The generators of the mnod p cohomology are \n",
      "[]\n",
      "\n",
      "\n"
     ]
    }
   ],
   "source": [
    "syn_cplx.compute_mod_p_homology()"
   ]
  },
  {
   "cell_type": "code",
   "execution_count": 7,
   "metadata": {},
   "outputs": [
    {
     "data": {
      "text/plain": [
       "                                        [0 0 0 0 0]      \n",
       "                                        [0 0 0 0 0]      \n",
       "                                        [0 1 1 0 0]      \n",
       "                                        [0 1 0 1 0]      \n",
       "                                        [0 0 0 0 1]      \n",
       "            [1 0 0 0 0 1 0 0 0 0]       [0 0 0 0 0]      \n",
       "            [0 0 0 0 0 1 1 0 0 0]       [0 0 0 0 0]      \n",
       "            [1 0 1 0 0 0 0 1 0 0]       [0 1 1 0 0]      \n",
       "            [0 0 0 0 0 1 1 0 1 0]       [0 0 0 0 0]      \n",
       "            [0 0 0 0 1 0 0 0 0 1]       [0 0 0 0 1]      \n",
       " 0 <-- C_2 <---------------------- C_1 <------------ C_0 <-- 0 "
      ]
     },
     "execution_count": 7,
     "metadata": {},
     "output_type": "execute_result"
    }
   ],
   "source": [
    "ascii_art(syn_cplx.complex_mod_p)"
   ]
  },
  {
   "cell_type": "code",
   "execution_count": 8,
   "metadata": {},
   "outputs": [
    {
     "data": {
      "text/plain": [
       "{0: Vector space of dimension 2 over Finite Field of size 2,\n",
       " 1: Vector space of dimension 2 over Finite Field of size 2,\n",
       " 2: Vector space of dimension 0 over Finite Field of size 2}"
      ]
     },
     "execution_count": 8,
     "metadata": {},
     "output_type": "execute_result"
    }
   ],
   "source": [
    "a_d0=block_matrix([[a_syn0],[a_nablaN]])\n",
    "a_d1=block_matrix([[a_nablaP,-a_syn1]])\n",
    "a_d0_Fp=Matrix(GF(p),a_d0)\n",
    "a_d1_Fp=Matrix(GF(p),a_d1)\n",
    "a_C=ChainComplex({0:a_d0_Fp,1:a_d1_Fp})\n",
    "a_C.homology()"
   ]
  },
  {
   "cell_type": "code",
   "execution_count": 9,
   "metadata": {},
   "outputs": [
    {
     "data": {
      "text/plain": [
       "{0: Vector space of dimension 2 over Finite Field of size 2,\n",
       " 1: Vector space of dimension 3 over Finite Field of size 2,\n",
       " 2: Vector space of dimension 1 over Finite Field of size 2}"
      ]
     },
     "execution_count": 9,
     "metadata": {},
     "output_type": "execute_result"
    }
   ],
   "source": [
    "b_d0=block_matrix([[b_syn0],[b_nablaN]])\n",
    "b_d1=block_matrix([[b_nablaP,-b_syn1]])\n",
    "b_d0_Fp=Matrix(GF(p),b_d0)\n",
    "b_d1_Fp=Matrix(GF(p),b_d1)\n",
    "b_C=ChainComplex({0:b_d0_Fp,1:b_d1_Fp})\n",
    "b_C.homology()"
   ]
  },
  {
   "cell_type": "code",
   "execution_count": 10,
   "metadata": {},
   "outputs": [
    {
     "data": {
      "text/plain": [
       "                                        [0 0 0 0 0]      \n",
       "                                        [0 0 0 0 0]      \n",
       "                                        [0 1 1 0 0]      \n",
       "                                        [0 1 0 1 0]      \n",
       "                                        [0 0 0 0 1]      \n",
       "            [1 0 0 0 0 1 0 0 0 0]       [0 0 0 0 0]      \n",
       "            [0 0 0 0 0 1 1 0 0 0]       [0 0 0 0 0]      \n",
       "            [1 0 1 0 0 0 0 1 0 0]       [0 1 1 0 0]      \n",
       "            [0 0 0 0 0 1 1 0 1 0]       [0 0 0 0 0]      \n",
       "            [0 0 0 0 1 0 0 0 0 1]       [0 0 0 0 1]      \n",
       " 0 <-- C_2 <---------------------- C_1 <------------ C_0 <-- 0 "
      ]
     },
     "execution_count": 10,
     "metadata": {},
     "output_type": "execute_result"
    }
   ],
   "source": [
    "ascii_art(a_C)"
   ]
  },
  {
   "cell_type": "code",
   "execution_count": 11,
   "metadata": {},
   "outputs": [
    {
     "data": {
      "text/plain": [
       "                                        [0 0 0 0 0]      \n",
       "                                        [1 0 0 0 0]      \n",
       "                                        [1 0 0 0 0]      \n",
       "                                        [0 0 1 0 0]      \n",
       "                                        [0 0 0 1 0]      \n",
       "            [1 0 0 0 0 0 0 0 0 0]       [0 0 0 0 0]      \n",
       "            [0 0 0 0 0 0 0 0 0 0]       [1 0 0 0 0]      \n",
       "            [0 0 1 0 0 0 1 0 0 0]       [0 0 1 0 0]      \n",
       "            [0 1 0 0 0 0 1 1 1 0]       [0 0 1 0 0]      \n",
       "            [0 0 1 0 1 0 0 0 0 1]       [1 0 0 1 0]      \n",
       " 0 <-- C_2 <---------------------- C_1 <------------ C_0 <-- 0 "
      ]
     },
     "execution_count": 11,
     "metadata": {},
     "output_type": "execute_result"
    }
   ],
   "source": [
    "ascii_art(b_C)"
   ]
  },
  {
   "cell_type": "markdown",
   "metadata": {},
   "source": [
    "# Computing v1"
   ]
  },
  {
   "cell_type": "code",
   "execution_count": 12,
   "metadata": {},
   "outputs": [
    {
     "name": "stderr",
     "output_type": "stream",
     "text": [
      "<string>:832: DeprecationWarning: __getitem__ is changing to match the behavior of number fields. Please use expansion instead.\n",
      "See https://github.com/sagemath/sage/issues/14825 for details.\n",
      "<string>:841: DeprecationWarning: __getitem__ is changing to match the behavior of number fields. Please use expansion instead.\n",
      "See https://github.com/sagemath/sage/issues/14825 for details.\n",
      "<string>:854: DeprecationWarning: __getitem__ is changing to match the behavior of number fields. Please use expansion instead.\n",
      "See https://github.com/sagemath/sage/issues/14825 for details.\n",
      "<string>:868: DeprecationWarning: __getitem__ is changing to match the behavior of number fields. Please use expansion instead.\n",
      "See https://github.com/sagemath/sage/issues/14825 for details.\n"
     ]
    },
    {
     "name": "stdout",
     "output_type": "stream",
     "text": [
      "\n",
      "\n",
      "\n",
      "\n",
      "\n",
      "\n",
      "\n",
      "\n",
      "\n",
      "\n",
      "z*d_tilde^3\n",
      "(10*z + z^2 + O(z^6))*d_tilde^2\n",
      "z^2*d_tilde^3\n",
      "(10*z^2 + O(z^6))*d_tilde^2 + ((10 + z + O(z^3))*f0)*d_tilde\n",
      "f0*d_tilde^2\n",
      "((10 + z + O(z^3))*f0)*d_tilde\n",
      "z*f0*d_tilde^2\n",
      "((10*z + z^2 + O(z^3))*f0)*d_tilde\n",
      "z^2*f0*d_tilde^2\n",
      "((10*z^2 + O(z^3))*f0)*d_tilde\n"
     ]
    },
    {
     "name": "stderr",
     "output_type": "stream",
     "text": [
      "<string>:880: DeprecationWarning: __getitem__ is changing to match the behavior of number fields. Please use expansion instead.\n",
      "See https://github.com/sagemath/sage/issues/14825 for details.\n",
      "<string>:889: DeprecationWarning: __getitem__ is changing to match the behavior of number fields. Please use expansion instead.\n",
      "See https://github.com/sagemath/sage/issues/14825 for details.\n",
      "<string>:901: DeprecationWarning: __getitem__ is changing to match the behavior of number fields. Please use expansion instead.\n",
      "See https://github.com/sagemath/sage/issues/14825 for details.\n",
      "<string>:913: DeprecationWarning: __getitem__ is changing to match the behavior of number fields. Please use expansion instead.\n",
      "See https://github.com/sagemath/sage/issues/14825 for details.\n"
     ]
    }
   ],
   "source": [
    "v1N0,v1P0,v1N1,v1P1=v1_matrices(p,i,n,E,total_precision,Fprec,debug=False)"
   ]
  },
  {
   "cell_type": "code",
   "execution_count": 13,
   "metadata": {},
   "outputs": [],
   "source": [
    "v1N0_Fp=Matrix(GF(p),v1N0)\n",
    "v1P0_Fp=Matrix(GF(p),v1P0)\n",
    "v1N1_Fp=Matrix(GF(p),v1N1)\n",
    "v1P1_Fp=Matrix(GF(p),v1P1)"
   ]
  },
  {
   "cell_type": "code",
   "execution_count": 14,
   "metadata": {},
   "outputs": [
    {
     "data": {
      "text/plain": [
       "[0 0 0 0 0]\n",
       "[1 0 0 0 0]\n",
       "[0 0 0 0 0]\n",
       "[0 1 1 0 0]\n",
       "[0 0 0 1 0]"
      ]
     },
     "execution_count": 14,
     "metadata": {},
     "output_type": "execute_result"
    }
   ],
   "source": [
    "v1N0_Fp"
   ]
  },
  {
   "cell_type": "code",
   "execution_count": 15,
   "metadata": {},
   "outputs": [
    {
     "data": {
      "text/plain": [
       "[0 0 0 0 0]\n",
       "[0 0 0 0 0]\n",
       "[1 0 0 0 0]\n",
       "[0 1 0 0 0]\n",
       "[0 0 1 0 0]"
      ]
     },
     "execution_count": 15,
     "metadata": {},
     "output_type": "execute_result"
    }
   ],
   "source": [
    "v1P0_Fp"
   ]
  },
  {
   "cell_type": "code",
   "execution_count": 16,
   "metadata": {},
   "outputs": [
    {
     "data": {
      "text/plain": [
       "[0 0 0 0 0]\n",
       "[1 0 0 0 0]\n",
       "[0 1 0 0 0]\n",
       "[0 0 0 0 0]\n",
       "[0 0 1 0 0]"
      ]
     },
     "execution_count": 16,
     "metadata": {},
     "output_type": "execute_result"
    }
   ],
   "source": [
    "v1N1_Fp"
   ]
  },
  {
   "cell_type": "code",
   "execution_count": 17,
   "metadata": {},
   "outputs": [
    {
     "data": {
      "text/plain": [
       "[0 0 0 0 0]\n",
       "[0 0 0 0 0]\n",
       "[1 0 0 0 0]\n",
       "[0 1 0 0 0]\n",
       "[0 0 1 0 0]"
      ]
     },
     "execution_count": 17,
     "metadata": {},
     "output_type": "execute_result"
    }
   ],
   "source": [
    "v1P1_Fp"
   ]
  },
  {
   "cell_type": "code",
   "execution_count": 18,
   "metadata": {},
   "outputs": [],
   "source": [
    "v1_0=Matrix(GF(p),v1N0)\n",
    "v1_1=Matrix(GF(p),block_matrix([[v1P0,0],[0,v1N1]]))\n",
    "v1_2=Matrix(GF(p),v1P1)"
   ]
  },
  {
   "cell_type": "code",
   "execution_count": 19,
   "metadata": {},
   "outputs": [
    {
     "data": {
      "text/plain": [
       "[0 0 0 0 0]\n",
       "[1 0 0 0 0]\n",
       "[0 0 0 0 0]\n",
       "[0 1 1 0 0]\n",
       "[0 0 0 1 0]"
      ]
     },
     "execution_count": 19,
     "metadata": {},
     "output_type": "execute_result"
    }
   ],
   "source": [
    "v1_0"
   ]
  },
  {
   "cell_type": "code",
   "execution_count": 20,
   "metadata": {},
   "outputs": [
    {
     "data": {
      "text/plain": [
       "[0 0 0 0 0 0 0 0 0 0]\n",
       "[0 0 0 0 0 0 0 0 0 0]\n",
       "[1 0 0 0 0 0 0 0 0 0]\n",
       "[0 1 0 0 0 0 0 0 0 0]\n",
       "[0 0 1 0 0 0 0 0 0 0]\n",
       "[0 0 0 0 0 0 0 0 0 0]\n",
       "[0 0 0 0 0 1 0 0 0 0]\n",
       "[0 0 0 0 0 0 1 0 0 0]\n",
       "[0 0 0 0 0 0 0 0 0 0]\n",
       "[0 0 0 0 0 0 0 1 0 0]"
      ]
     },
     "execution_count": 20,
     "metadata": {},
     "output_type": "execute_result"
    }
   ],
   "source": [
    "v1_1"
   ]
  },
  {
   "cell_type": "code",
   "execution_count": 21,
   "metadata": {},
   "outputs": [
    {
     "data": {
      "text/plain": [
       "[0 0 0 0 0]\n",
       "[0 0 0 0 0]\n",
       "[1 0 0 0 0]\n",
       "[0 1 0 0 0]\n",
       "[0 0 1 0 0]"
      ]
     },
     "execution_count": 21,
     "metadata": {},
     "output_type": "execute_result"
    }
   ],
   "source": [
    "v1_2"
   ]
  },
  {
   "cell_type": "code",
   "execution_count": 22,
   "metadata": {},
   "outputs": [
    {
     "data": {
      "text/plain": [
       "[0 0 0 0 0]\n",
       "[0 0 0 0 0]\n",
       "[0 0 0 0 0]\n",
       "[0 0 0 0 0]\n",
       "[0 1 1 0 0]\n",
       "[0 0 0 0 0]\n",
       "[0 0 0 0 0]\n",
       "[0 0 0 0 0]\n",
       "[0 0 0 0 0]\n",
       "[0 1 1 0 0]"
      ]
     },
     "execution_count": 22,
     "metadata": {},
     "output_type": "execute_result"
    }
   ],
   "source": [
    "v1_1*a_C.differential()[0]"
   ]
  },
  {
   "cell_type": "code",
   "execution_count": 23,
   "metadata": {},
   "outputs": [
    {
     "data": {
      "text/plain": [
       "[0 0 0 0 0]\n",
       "[0 0 0 0 0]\n",
       "[0 0 0 0 0]\n",
       "[0 0 0 0 0]\n",
       "[0 1 1 0 0]\n",
       "[0 0 0 0 0]\n",
       "[0 0 0 0 0]\n",
       "[0 0 0 0 0]\n",
       "[0 0 0 0 0]\n",
       "[0 1 1 0 0]"
      ]
     },
     "execution_count": 23,
     "metadata": {},
     "output_type": "execute_result"
    }
   ],
   "source": [
    "b_C.differential()[0]*v1_0"
   ]
  },
  {
   "cell_type": "code",
   "execution_count": 24,
   "metadata": {},
   "outputs": [
    {
     "data": {
      "text/plain": [
       "True"
      ]
     },
     "execution_count": 24,
     "metadata": {},
     "output_type": "execute_result"
    }
   ],
   "source": [
    "v1_2*a_C.differential()[1]==b_C.differential()[1]*v1_1"
   ]
  },
  {
   "cell_type": "code",
   "execution_count": 25,
   "metadata": {},
   "outputs": [
    {
     "name": "stdout",
     "output_type": "stream",
     "text": [
      "[0 1]\n",
      "[1 0]\n",
      "\n",
      "\n",
      "[1 1]\n",
      "[1 0]\n",
      "[0 0]\n",
      "\n",
      "\n",
      "[]\n",
      "\n",
      "\n"
     ]
    }
   ],
   "source": [
    "v1={0:v1_0,1:v1_1,2:v1_2}\n",
    "ha_C = Homology(a_C)\n",
    "hb_C = Homology(b_C)\n",
    "mor = MorphismHomology(ha_C, hb_C, v1)\n",
    "\n",
    "for h in mor.hF.values():\n",
    "    print(ascii_art(h))\n",
    "    print('\\n')"
   ]
  },
  {
   "cell_type": "code",
   "execution_count": 26,
   "metadata": {},
   "outputs": [
    {
     "data": {
      "text/plain": [
       "                                        [0 0 0 0 0]      \n",
       "                                        [0 0 0 0 0]      \n",
       "                                        [0 0 0 0 0]      \n",
       "                                        [0 0 0 0 0]      \n",
       "                                        [0 0 0 0 0]      \n",
       "                                        [---------]      \n",
       "            [1 0 0 0 0 0 0 0 0 0]       [1 0 0 0 0]      \n",
       "            [0 1 0 0 0 0 0 0 0 0]       [0 1 0 0 0]      \n",
       "            [0 0 1 0 0 0 0 0 0 0]       [0 0 1 0 0]      \n",
       "            [0 0 0 1 0 0 0 0 0 0]       [0 0 0 0 0]      \n",
       "            [0 0 0 0 1 0 0 0 0 0]       [0 0 0 0 0]      \n",
       " 0 <-- C_2 <---------------------- C_1 <------------ C_0 <-- 0 "
      ]
     },
     "execution_count": 26,
     "metadata": {},
     "output_type": "execute_result"
    }
   ],
   "source": [
    "ascii_art(ha_C.complex_smith)"
   ]
  },
  {
   "cell_type": "code",
   "execution_count": 27,
   "metadata": {},
   "outputs": [
    {
     "data": {
      "text/plain": [
       "                                        [0 0 0 0 0]      \n",
       "                                        [0 0 0 0 0]      \n",
       "                                        [0 0 0 0 0]      \n",
       "                                        [0 0 0 0 0]      \n",
       "                                        [---------]      \n",
       "                                        [1 0 0 0 0]      \n",
       "            [1 0 0 0 0 0 0 0 0 0]       [0 1 0 0 0]      \n",
       "            [0 1 0 0 0 0 0 0 0 0]       [0 0 1 0 0]      \n",
       "            [0 0 1 0 0 0 0 0 0 0]       [0 0 0 0 0]      \n",
       "            [0 0 0 1 0 0 0 0 0 0]       [0 0 0 0 0]      \n",
       "            [0 0 0 0 0 0 0 0 0 0]       [0 0 0 0 0]      \n",
       " 0 <-- C_2 <---------------------- C_1 <------------ C_0 <-- 0 "
      ]
     },
     "execution_count": 27,
     "metadata": {},
     "output_type": "execute_result"
    }
   ],
   "source": [
    "ascii_art(hb_C.complex_smith)"
   ]
  },
  {
   "cell_type": "code",
   "execution_count": 28,
   "metadata": {},
   "outputs": [
    {
     "data": {
      "text/plain": [
       "[0 1]\n",
       "[1 0]\n",
       "[0 1]\n",
       "[0 0]\n",
       "[0 0]\n",
       "[0 1]\n",
       "[0 1]\n",
       "[0 0]\n",
       "[0 0]\n",
       "[0 0]"
      ]
     },
     "execution_count": 28,
     "metadata": {},
     "output_type": "execute_result"
    }
   ],
   "source": [
    "ha_C.homology_representatives[1]"
   ]
  },
  {
   "cell_type": "code",
   "execution_count": 29,
   "metadata": {},
   "outputs": [
    {
     "data": {
      "text/plain": [
       "[0, 0]"
      ]
     },
     "execution_count": 29,
     "metadata": {},
     "output_type": "execute_result"
    }
   ],
   "source": [
    "ha_C.homology_orders[1]"
   ]
  },
  {
   "cell_type": "code",
   "execution_count": 30,
   "metadata": {},
   "outputs": [
    {
     "data": {
      "text/plain": [
       "                                                 \n",
       "                                                 \n",
       "                                                 \n",
       "                                                 \n",
       "                                                 \n",
       "                                                 \n",
       "                                                 \n",
       "                                                 \n",
       "                                                 \n",
       "                                                 \n",
       "                                                 \n",
       "            [0 0 0 0 0|1 0 0 0 0 0 0 0 0 0]      \n",
       "            [0 0 0 0 0|0 0 0 0 0 0 0 0 0 0]      \n",
       "            [1 0 0 0 0|0 0 1 0 0 0 1 0 0 0]      \n",
       "            [0 1 0 0 0|0 1 0 0 0 0 1 1 1 0]      \n",
       "            [0 0 1 0 0|0 0 1 0 1 0 0 0 0 1]      \n",
       " 0 <-- C_2 <-------------------------------- C_1 \n",
       "\n",
       " [1 0 0 0 0 1 0 0 0 0|0 0 0 0 0]       [0 0 0 0 0]       \n",
       " [0 0 0 0 0 1 1 0 0 0|0 0 0 0 0]       [0 0 0 0 0]       \n",
       " [1 0 1 0 0 0 0 1 0 0|0 0 0 0 0]       [0 1 1 0 0]       \n",
       " [0 0 0 0 0 1 1 0 1 0|0 0 0 0 0]       [0 1 0 1 0]       \n",
       " [0 0 0 0 1 0 0 0 0 1|0 0 0 0 0]       [0 0 0 0 1]       \n",
       " [-------------------+---------]       [0 0 0 0 0]       \n",
       " [0 0 0 0 0 0 0 0 0 0|0 0 0 0 0]       [0 0 0 0 0]       \n",
       " [0 0 0 0 0 0 0 0 0 0|1 0 0 0 0]       [0 1 1 0 0]       \n",
       " [1 0 0 0 0 0 0 0 0 0|1 0 0 0 0]       [0 0 0 0 0]       \n",
       " [0 1 0 0 0 0 0 0 0 0|0 0 1 0 0]       [0 0 0 0 1]       \n",
       " [0 0 1 0 0 0 0 0 0 0|0 0 0 1 0]       [---------]       \n",
       " [0 0 0 0 0 0 0 0 0 0|0 0 0 0 0]       [0 0 0 0 0]       \n",
       " [0 0 0 0 0 1 0 0 0 0|1 0 0 0 0]       [1 0 0 0 0]       \n",
       " [0 0 0 0 0 0 1 0 0 0|0 0 1 0 0]       [0 0 0 0 0]       \n",
       " [0 0 0 0 0 0 0 0 0 0|0 0 1 0 0]       [0 1 1 0 0]       \n",
       " [0 0 0 0 0 0 0 1 0 0|1 0 0 1 0]       [0 0 0 1 0]       \n",
       "<-------------------------------- C_0 <------------ C_-1 <-- 0 "
      ]
     },
     "execution_count": 30,
     "metadata": {},
     "output_type": "execute_result"
    }
   ],
   "source": [
    "red_0=block_matrix([[-a_C.differential()[0]],[-v1[0]]])\n",
    "red_1=block_matrix([[-a_C.differential()[1],0],[-v1[1],b_C.differential()[0]]])\n",
    "red_2=block_matrix([[-v1[2],b_C.differential()[1]]])\n",
    "reduced_complex=ChainComplex({-1:red_0,0:red_1,1:red_2})\n",
    "ascii_art(reduced_complex)"
   ]
  },
  {
   "cell_type": "code",
   "execution_count": 31,
   "metadata": {},
   "outputs": [],
   "source": [
    "reduced_homology=Homology(reduced_complex)"
   ]
  },
  {
   "cell_type": "code",
   "execution_count": 32,
   "metadata": {},
   "outputs": [
    {
     "data": {
      "text/plain": [
       "{-1: [], 0: [], 1: [0], 2: [0]}"
      ]
     },
     "execution_count": 32,
     "metadata": {},
     "output_type": "execute_result"
    }
   ],
   "source": [
    "reduced_homology.homology_orders"
   ]
  },
  {
   "cell_type": "code",
   "execution_count": 33,
   "metadata": {},
   "outputs": [
    {
     "data": {
      "text/plain": [
       "[1 2 3]\n",
       "[4 5 6]\n",
       "[7 8 9]"
      ]
     },
     "execution_count": 33,
     "metadata": {},
     "output_type": "execute_result"
    }
   ],
   "source": [
    "M=Matrix(ZZ,[[1,2,3],[4,5,6],[7,8,9]]);M"
   ]
  },
  {
   "cell_type": "code",
   "execution_count": 34,
   "metadata": {},
   "outputs": [
    {
     "data": {
      "text/plain": [
       "3"
      ]
     },
     "execution_count": 34,
     "metadata": {},
     "output_type": "execute_result"
    }
   ],
   "source": [
    "len(M.columns()[0])"
   ]
  },
  {
   "cell_type": "code",
   "execution_count": 35,
   "metadata": {},
   "outputs": [
    {
     "data": {
      "text/plain": [
       "7"
      ]
     },
     "execution_count": 35,
     "metadata": {},
     "output_type": "execute_result"
    }
   ],
   "source": [
    "M.columns()[0][2]"
   ]
  },
  {
   "cell_type": "code",
   "execution_count": null,
   "metadata": {},
   "outputs": [],
   "source": []
  },
  {
   "cell_type": "code",
   "execution_count": null,
   "metadata": {},
   "outputs": [],
   "source": []
  },
  {
   "cell_type": "code",
   "execution_count": null,
   "metadata": {},
   "outputs": [],
   "source": []
  },
  {
   "cell_type": "code",
   "execution_count": null,
   "metadata": {},
   "outputs": [],
   "source": []
  }
 ],
 "metadata": {
  "kernelspec": {
   "display_name": "SageMath 10.0",
   "language": "sagemath",
   "name": "sagemath"
  },
  "language_info": {
   "codemirror_mode": {
    "name": "ipython",
    "version": 3
   },
   "file_extension": ".py",
   "mimetype": "text/x-python",
   "name": "python",
   "nbconvert_exporter": "python",
   "pygments_lexer": "ipython3",
   "version": "3.10.13"
  }
 },
 "nbformat": 4,
 "nbformat_minor": 4
}
