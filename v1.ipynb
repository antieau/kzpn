{
 "cells": [
  {
   "cell_type": "code",
   "execution_count": 28,
   "metadata": {},
   "outputs": [],
   "source": [
    "# Imports\n",
    "load('prismatic_envelope.sage')\n",
    "load('precision.py')"
   ]
  },
  {
   "cell_type": "markdown",
   "metadata": {},
   "source": [
    "### User-defined input"
   ]
  },
  {
   "cell_type": "code",
   "execution_count": 29,
   "metadata": {},
   "outputs": [],
   "source": [
    "# The prime p\n",
    "p=2\n",
    "\n",
    "# The motivic weight i in F_p(i)^red\n",
    "i=3\n",
    "\n",
    "# The power of the uniformizer n\n",
    "n=2\n",
    "\n",
    "# The residual degree f\n",
    "# The present code only supports totally ramified extensions of Qp,\n",
    "# i.e., where f=1\n",
    "f=1"
   ]
  },
  {
   "cell_type": "markdown",
   "metadata": {},
   "source": [
    "### Some precision calculations"
   ]
  },
  {
   "cell_type": "code",
   "execution_count": 30,
   "metadata": {},
   "outputs": [
    {
     "name": "stdout",
     "output_type": "stream",
     "text": [
      "total p-adic precision is 21\n",
      "Fprec is 6\n"
     ]
    }
   ],
   "source": [
    "# The calculated F-precision needed to compute at this weight\n",
    "Fprec=n*i\n",
    "\n",
    "# The target precision\n",
    "target_precision=nygaard_exponent(p,i,n)\n",
    "\n",
    "####################\n",
    "# Precision losses #\n",
    "####################\n",
    "\n",
    "### From \\delta\n",
    "precision_loss_delta=math.floor(math.log(Fprec-1,p))\n",
    "\n",
    "### From passing from OK to OK/pi^n\n",
    "precision_loss_quotient=0\n",
    "for q in range(p,i):\n",
    "    precision_loss_quotient+=n*valuation(p,math.factorial(q))\n",
    "    \n",
    "### From lifting nabla to Nygaard\n",
    "precision_loss_nygaard=n*math.floor(i*(i-1)/2)\n",
    "\n",
    "### From computing can-phi on primitives\n",
    "precision_loss_primitives=target_precision\n",
    "\n",
    "### From renormalizing the Eisenstein polynomial\n",
    "precision_loss_from_Eisenstein=1\n",
    "\n",
    "### Probably this precision can be taken to be lower since we will only need the\n",
    "### Fp-coefficient calculation\n",
    "total_precision=(target_precision+precision_loss_delta\n",
    "                 +precision_loss_quotient\n",
    "                 +precision_loss_nygaard\n",
    "                 +precision_loss_primitives\n",
    "                 +precision_loss_from_Eisenstein)\n",
    "\n",
    "print(\"total p-adic precision is {}\".format(total_precision))\n",
    "print(\"Fprec is {}\".format(Fprec))\n",
    "\n",
    "# The coefficient ring W\n",
    "if f==1:\n",
    "    W=Zp(p,total_precision,type='capped-abs',print_mode='digits',show_prec=False)\n",
    "else:\n",
    "    W=Zq(p**f,total_precision,names='a',type='capped-abs',print_mode='series',show_prec=False)\n",
    "    \n",
    "# The Breuil-Kisin ring A\n",
    "A.<z>=PowerSeriesRing(W,Fprec)"
   ]
  },
  {
   "cell_type": "markdown",
   "metadata": {},
   "source": [
    "### User-defined input: the Eisenstein polynomial\n",
    "\n",
    "Note that in order for this to be created in a power series ring with the correct p-adic and F-adic precisions,\n",
    "the elements p,i,n,f should be set above *before* defining the Eisenstein polynomial."
   ]
  },
  {
   "cell_type": "code",
   "execution_count": 31,
   "metadata": {},
   "outputs": [],
   "source": [
    "# The Eisenstein polynomial E\n",
    "E=A(z+p)"
   ]
  },
  {
   "cell_type": "markdown",
   "metadata": {},
   "source": [
    "### The main calculation"
   ]
  },
  {
   "cell_type": "code",
   "execution_count": 32,
   "metadata": {},
   "outputs": [
    {
     "name": "stderr",
     "output_type": "stream",
     "text": [
      "<string>:672: DeprecationWarning: __getitem__ is changing to match the behavior of number fields. Please use expansion instead.\n",
      "See https://github.com/sagemath/sage/issues/14825 for details.\n",
      "<string>:680: DeprecationWarning: __getitem__ is changing to match the behavior of number fields. Please use expansion instead.\n",
      "See https://github.com/sagemath/sage/issues/14825 for details.\n",
      "<string>:697: DeprecationWarning: __getitem__ is changing to match the behavior of number fields. Please use expansion instead.\n",
      "See https://github.com/sagemath/sage/issues/14825 for details.\n",
      "<string>:705: DeprecationWarning: __getitem__ is changing to match the behavior of number fields. Please use expansion instead.\n",
      "See https://github.com/sagemath/sage/issues/14825 for details.\n",
      "<string>:719: DeprecationWarning: __getitem__ is changing to match the behavior of number fields. Please use expansion instead.\n",
      "See https://github.com/sagemath/sage/issues/14825 for details.\n",
      "<string>:727: DeprecationWarning: __getitem__ is changing to match the behavior of number fields. Please use expansion instead.\n",
      "See https://github.com/sagemath/sage/issues/14825 for details.\n",
      "<string>:751: DeprecationWarning: __getitem__ is changing to match the behavior of number fields. Please use expansion instead.\n",
      "See https://github.com/sagemath/sage/issues/14825 for details.\n",
      "<string>:764: DeprecationWarning: __getitem__ is changing to match the behavior of number fields. Please use expansion instead.\n",
      "See https://github.com/sagemath/sage/issues/14825 for details.\n"
     ]
    }
   ],
   "source": [
    "#%%capture\n",
    "# Suppresses some Python warnings and SAGE variable injections\n",
    "\n",
    "# The normalized Eisenstein polynomial\n",
    "# The normalization is to bring the Eisenstein polynomial into the form E(0)=p\n",
    "E=eisenstein_normalization(p,E)\n",
    "\n",
    "if i-p+1>0:\n",
    "    a_syn0,a_syn1,a_nablaN,a_nablaP=syntomic_matrices(p,i-p+1,n,E,total_precision,Fprec,debug=False)\n",
    "    b_syn0,b_syn1,b_nablaN,b_nablaP=syntomic_matrices(p,i,n,E,total_precision,Fprec,debug=False)"
   ]
  },
  {
   "cell_type": "markdown",
   "metadata": {},
   "source": [
    "### Assembling the syntomic complex and computing its cohomology"
   ]
  },
  {
   "cell_type": "code",
   "execution_count": 33,
   "metadata": {},
   "outputs": [
    {
     "name": "stdout",
     "output_type": "stream",
     "text": [
      "Elementary divisors of K_2(R;Z_p) are [10]\n",
      "Elementary divisors of K_3(R;Z_p) are [1000]\n",
      "Target precision is 5 and final precision is 15\n"
     ]
    }
   ],
   "source": [
    "# The K-groups (cohomology of the p-adic syntomic complex)\n",
    "# New\n",
    "coh_dict,final_precision=syntomic_cohomology(a_syn0,a_syn1,a_nablaN,a_nablaP)\n",
    "\n",
    "print('Elementary divisors of K_{}(R;Z_p)'.format(2*(i-p+1)-2)+' are {}'.format(coh_dict['h2'][1]))\n",
    "print('Elementary divisors of K_{}(R;Z_p)'.format(2*(i-p+1)-1)+' are {}'.format(coh_dict['h1'][1]))\n",
    "print('Target precision is {} and final precision is {}'.format(target_precision,final_precision))"
   ]
  },
  {
   "cell_type": "code",
   "execution_count": 34,
   "metadata": {},
   "outputs": [
    {
     "name": "stdout",
     "output_type": "stream",
     "text": [
      "Elementary divisors of K_4(R;Z_p) are []\n",
      "Elementary divisors of K_5(R;Z_p) are [1000]\n",
      "Target precision is 5 and final precision is 13\n"
     ]
    }
   ],
   "source": [
    "# The K-groups (cohomology of the p-adic syntomic complex)\n",
    "# New\n",
    "coh_dict,final_precision=syntomic_cohomology(b_syn0,b_syn1,b_nablaN,b_nablaP)\n",
    "\n",
    "print('Elementary divisors of K_{}(R;Z_p)'.format(2*i-2)+' are {}'.format(coh_dict['h2'][1]))\n",
    "print('Elementary divisors of K_{}(R;Z_p)'.format(2*i-1)+' are {}'.format(coh_dict['h1'][1]))\n",
    "print('Target precision is {} and final precision is {}'.format(target_precision,final_precision))"
   ]
  },
  {
   "cell_type": "code",
   "execution_count": 35,
   "metadata": {},
   "outputs": [
    {
     "data": {
      "text/plain": [
       "{0: Vector space of dimension 1 over Finite Field of size 2,\n",
       " 1: Vector space of dimension 2 over Finite Field of size 2,\n",
       " 2: Vector space of dimension 1 over Finite Field of size 2}"
      ]
     },
     "execution_count": 35,
     "metadata": {},
     "output_type": "execute_result"
    }
   ],
   "source": [
    "a_d0=block_matrix([[a_syn0],[a_nablaN]])\n",
    "a_d1=block_matrix([[a_nablaP,-a_syn1]])\n",
    "a_d0_Fp=Matrix(GF(p),a_d0)\n",
    "a_d1_Fp=Matrix(GF(p),a_d1)\n",
    "a_C=ChainComplex({0:a_d0_Fp,1:a_d1_Fp})\n",
    "a_C.homology()"
   ]
  },
  {
   "cell_type": "code",
   "execution_count": 36,
   "metadata": {},
   "outputs": [
    {
     "data": {
      "text/plain": [
       "{0: Vector space of dimension 1 over Finite Field of size 2,\n",
       " 1: Vector space of dimension 1 over Finite Field of size 2,\n",
       " 2: Vector space of dimension 0 over Finite Field of size 2}"
      ]
     },
     "execution_count": 36,
     "metadata": {},
     "output_type": "execute_result"
    }
   ],
   "source": [
    "b_d0=block_matrix([[b_syn0],[b_nablaN]])\n",
    "b_d1=block_matrix([[b_nablaP,-b_syn1]])\n",
    "b_d0_Fp=Matrix(GF(p),b_d0)\n",
    "b_d1_Fp=Matrix(GF(p),b_d1)\n",
    "b_C=ChainComplex({0:b_d0_Fp,1:b_d1_Fp})\n",
    "b_C.homology()"
   ]
  },
  {
   "cell_type": "code",
   "execution_count": 37,
   "metadata": {},
   "outputs": [
    {
     "data": {
      "text/plain": [
       "                                [0 0 0]      \n",
       "                                [1 0 0]      \n",
       "                                [1 1 0]      \n",
       "            [1 0 0 0 0 0]       [0 0 0]      \n",
       "            [0 0 0 0 0 0]       [1 0 0]      \n",
       "            [0 0 1 0 1 1]       [0 1 0]      \n",
       " 0 <-- C_2 <-------------- C_1 <-------- C_0 <-- 0 "
      ]
     },
     "execution_count": 37,
     "metadata": {},
     "output_type": "execute_result"
    }
   ],
   "source": [
    "ascii_art(a_C)"
   ]
  },
  {
   "cell_type": "code",
   "execution_count": 38,
   "metadata": {},
   "outputs": [
    {
     "data": {
      "text/plain": [
       "                                        [0 0 0 0 0]      \n",
       "                                        [1 0 0 0 0]      \n",
       "                                        [0 0 0 0 0]      \n",
       "                                        [0 1 0 0 0]      \n",
       "                                        [0 0 0 1 0]      \n",
       "            [1 0 0 0 0 0 0 0 0 0]       [0 0 0 0 0]      \n",
       "            [0 0 0 0 0 1 0 0 0 0]       [0 0 0 0 0]      \n",
       "            [1 0 1 0 0 1 0 0 0 0]       [0 0 0 0 0]      \n",
       "            [0 0 0 0 0 1 0 1 0 0]       [0 0 1 0 0]      \n",
       "            [0 0 0 0 1 0 0 0 0 1]       [0 0 0 1 0]      \n",
       " 0 <-- C_2 <---------------------- C_1 <------------ C_0 <-- 0 "
      ]
     },
     "execution_count": 38,
     "metadata": {},
     "output_type": "execute_result"
    }
   ],
   "source": [
    "ascii_art(b_C)"
   ]
  },
  {
   "cell_type": "markdown",
   "metadata": {},
   "source": [
    "# Computing v1"
   ]
  },
  {
   "cell_type": "code",
   "execution_count": 39,
   "metadata": {},
   "outputs": [
    {
     "name": "stdout",
     "output_type": "stream",
     "text": [
      "fprod and c are 1 and 0\n",
      "input is d_tilde^3\n",
      "reduced_form is (10 + z + O(z^6))*d_tilde^2\n",
      "10 + z + O(z^6)\n",
      "\n",
      "\n",
      "gprod and a are 1 and 0\n",
      "coefficient to process is 10 + z + O(z^6)\n",
      "gprod and a are 1 and 1\n",
      "coefficient to process is 10 + z + O(z^6)\n",
      "gprod and a are f0 and 0\n",
      "coefficient to process is 0\n",
      "gprod and a are f0 and 1\n",
      "coefficient to process is 0\n",
      "gprod and a are f1 and 0\n",
      "coefficient to process is 0\n",
      "fprod and c are 1 and 1\n",
      "input is z*d_tilde^3\n",
      "reduced_form is (10*z + O(z^6))*d_tilde^2 + ((10 + z + O(z^4))*f0)*d_tilde\n",
      "(10 + z + O(z^4))*f0 + 10*z + O(z^6)\n",
      "\n",
      "\n",
      "gprod and a are 1 and 0\n",
      "coefficient to process is 10*z + O(z^6)\n",
      "gprod and a are 1 and 1\n",
      "coefficient to process is 10*z + O(z^6)\n",
      "gprod and a are f0 and 0\n",
      "coefficient to process is 10 + z + O(z^4)\n",
      "gprod and a are f0 and 1\n",
      "coefficient to process is 10 + z + O(z^4)\n",
      "gprod and a are f1 and 0\n",
      "coefficient to process is 0\n",
      "fprod and c are f0 and 0\n",
      "input is f0*d_tilde^2\n",
      "reduced_form is ((10 + z + O(z^4))*f0)*d_tilde\n",
      "(10 + z + O(z^4))*f0\n",
      "\n",
      "\n",
      "gprod and a are 1 and 0\n",
      "coefficient to process is 0\n",
      "gprod and a are 1 and 1\n",
      "coefficient to process is 0\n",
      "gprod and a are f0 and 0\n",
      "coefficient to process is 10 + z + O(z^4)\n",
      "gprod and a are f0 and 1\n",
      "coefficient to process is 10 + z + O(z^4)\n",
      "gprod and a are f1 and 0\n",
      "coefficient to process is 0\n"
     ]
    },
    {
     "name": "stderr",
     "output_type": "stream",
     "text": [
      "<string>:801: DeprecationWarning: __getitem__ is changing to match the behavior of number fields. Please use expansion instead.\n",
      "See https://github.com/sagemath/sage/issues/14825 for details.\n",
      "<string>:810: DeprecationWarning: __getitem__ is changing to match the behavior of number fields. Please use expansion instead.\n",
      "See https://github.com/sagemath/sage/issues/14825 for details.\n",
      "<string>:822: DeprecationWarning: __getitem__ is changing to match the behavior of number fields. Please use expansion instead.\n",
      "See https://github.com/sagemath/sage/issues/14825 for details.\n",
      "<string>:834: DeprecationWarning: __getitem__ is changing to match the behavior of number fields. Please use expansion instead.\n",
      "See https://github.com/sagemath/sage/issues/14825 for details.\n",
      "<string>:846: DeprecationWarning: __getitem__ is changing to match the behavior of number fields. Please use expansion instead.\n",
      "See https://github.com/sagemath/sage/issues/14825 for details.\n",
      "<string>:855: DeprecationWarning: __getitem__ is changing to match the behavior of number fields. Please use expansion instead.\n",
      "See https://github.com/sagemath/sage/issues/14825 for details.\n",
      "<string>:867: DeprecationWarning: __getitem__ is changing to match the behavior of number fields. Please use expansion instead.\n",
      "See https://github.com/sagemath/sage/issues/14825 for details.\n",
      "<string>:884: DeprecationWarning: __getitem__ is changing to match the behavior of number fields. Please use expansion instead.\n",
      "See https://github.com/sagemath/sage/issues/14825 for details.\n"
     ]
    }
   ],
   "source": [
    "v1N0,v1P0,v1N1,v1P1=v1_matrices(p,i,n,E,total_precision,Fprec,debug=False)"
   ]
  },
  {
   "cell_type": "code",
   "execution_count": 40,
   "metadata": {},
   "outputs": [],
   "source": [
    "v1N0_Fp=Matrix(GF(p),v1N0)\n",
    "v1P0_Fp=Matrix(GF(p),v1P0)\n",
    "v1N1_Fp=Matrix(GF(p),v1N1)\n",
    "v1P1_Fp=Matrix(GF(p),v1P1)"
   ]
  },
  {
   "cell_type": "code",
   "execution_count": 41,
   "metadata": {},
   "outputs": [
    {
     "data": {
      "text/plain": [
       "[0 0 0]\n",
       "[0 0 0]\n",
       "[1 1 0]\n",
       "[0 0 0]\n",
       "[0 0 0]"
      ]
     },
     "execution_count": 41,
     "metadata": {},
     "output_type": "execute_result"
    }
   ],
   "source": [
    "v1N0_Fp"
   ]
  },
  {
   "cell_type": "code",
   "execution_count": 42,
   "metadata": {},
   "outputs": [
    {
     "data": {
      "text/plain": [
       "[0 0 0]\n",
       "[1 0 0]\n",
       "[0 0 0]\n",
       "[0 1 1]\n",
       "[0 0 0]"
      ]
     },
     "execution_count": 42,
     "metadata": {},
     "output_type": "execute_result"
    }
   ],
   "source": [
    "v1N1_Fp"
   ]
  },
  {
   "cell_type": "code",
   "execution_count": 43,
   "metadata": {},
   "outputs": [
    {
     "data": {
      "text/plain": [
       "[0 0 0]\n",
       "[0 0 0]\n",
       "[1 0 0]\n",
       "[0 1 0]\n",
       "[0 0 0]"
      ]
     },
     "execution_count": 43,
     "metadata": {},
     "output_type": "execute_result"
    }
   ],
   "source": [
    "v1P1_Fp"
   ]
  },
  {
   "cell_type": "code",
   "execution_count": null,
   "metadata": {},
   "outputs": [],
   "source": []
  },
  {
   "cell_type": "code",
   "execution_count": 18,
   "metadata": {},
   "outputs": [],
   "source": [
    "v1_0=Matrix(GF(p),v1N0)\n",
    "v1_1=Matrix(GF(p),block_matrix([[v1P0,0],[0,v1N1]]))\n",
    "v1_2=Matrix(GF(p),v1P1)"
   ]
  },
  {
   "cell_type": "code",
   "execution_count": 19,
   "metadata": {},
   "outputs": [
    {
     "data": {
      "text/plain": [
       "[0 0 0]\n",
       "[0 0 0]\n",
       "[1 1 0]\n",
       "[0 0 0]\n",
       "[0 0 0]"
      ]
     },
     "execution_count": 19,
     "metadata": {},
     "output_type": "execute_result"
    }
   ],
   "source": [
    "v1_0"
   ]
  },
  {
   "cell_type": "code",
   "execution_count": 20,
   "metadata": {},
   "outputs": [
    {
     "data": {
      "text/plain": [
       "[0 0 0 0 0 0]\n",
       "[0 0 0 0 0 0]\n",
       "[1 0 0 0 0 0]\n",
       "[0 0 0 0 0 0]\n",
       "[0 0 0 0 0 0]\n",
       "[0 0 0 0 0 0]\n",
       "[0 0 0 1 0 0]\n",
       "[0 0 0 0 0 0]\n",
       "[0 0 0 0 0 0]\n",
       "[0 0 0 0 0 0]"
      ]
     },
     "execution_count": 20,
     "metadata": {},
     "output_type": "execute_result"
    }
   ],
   "source": [
    "v1_1"
   ]
  },
  {
   "cell_type": "code",
   "execution_count": 21,
   "metadata": {},
   "outputs": [
    {
     "data": {
      "text/plain": [
       "[0 0 0]\n",
       "[0 0 0]\n",
       "[1 0 0]\n",
       "[0 1 0]\n",
       "[0 0 0]"
      ]
     },
     "execution_count": 21,
     "metadata": {},
     "output_type": "execute_result"
    }
   ],
   "source": [
    "v1_2"
   ]
  },
  {
   "cell_type": "code",
   "execution_count": 22,
   "metadata": {},
   "outputs": [],
   "source": [
    "class Homology():\n",
    "    def __init__(self,C):\n",
    "        self.complex = C\n",
    "        self.compute_homology()\n",
    "    def compute_homology(self):\n",
    "        self.complex_smith_form()\n",
    "        nz=self.complex.nonzero_degrees()\n",
    "        deg_min=min(nz)\n",
    "        deg_max=max(nz)\n",
    "        self.homology_orders={}\n",
    "        self.homology_representatives={}\n",
    "        for i in range(deg_min,deg_max+1):\n",
    "            self.homology_orders[i] = self.homology_smith_form(i)\n",
    "            self.homology_representatives[i] = self.compute_homology_representatives(i)\n",
    "        \n",
    "    def complex_smith_form(self):\n",
    "        # Returns a triple (D,f,g) where each differential is in ``Smith form''\n",
    "        # and f is a map of chain complexes C -> D.\n",
    "        # Assumes that the degree of the differential is +1.\n",
    "        nz=self.complex.nonzero_degrees()\n",
    "        deg_min=min(nz)\n",
    "        deg_max=max(nz)\n",
    "        # The number of differentials\n",
    "        lt=deg_max-deg_min\n",
    "        self.f_dict={}\n",
    "        self.g_dict={}\n",
    "        for i in range(deg_min,deg_max+1):\n",
    "            self.f_dict[i]=identity_matrix(self.complex.free_module_rank(i))\n",
    "            self.g_dict[i]=identity_matrix(self.complex.free_module_rank(i))\n",
    "        D_dict={}\n",
    "        j=0\n",
    "        S,U,V=self.complex.differential()[deg_max-(j+1)].smith_form()\n",
    "        D_dict[deg_max-(j+1)]=S\n",
    "        self.f_dict[deg_max-j]=U*self.f_dict[deg_max-j]\n",
    "        self.f_dict[deg_max-(j+1)]=V^(-1)*self.f_dict[deg_max-(j+1)]\n",
    "        self.g_dict[deg_max-j]=self.g_dict[deg_max-j]*U^(-1)\n",
    "        self.g_dict[deg_max-(j+1)]=self.g_dict[deg_max-(j+1)]*V    \n",
    "        for j in range(1,lt):\n",
    "            new_d=self.f_dict[deg_max-j]*self.complex.differential()[deg_max-(j+1)]\n",
    "            col_offset=0\n",
    "            row_offset=D_dict[deg_max-j].transpose().rank()\n",
    "            col_num=self.complex.differential()[deg_max-(j+1)].dimensions()[1]\n",
    "            row_num=D_dict[deg_max-j].transpose().nullity()\n",
    "            new_d_sub=new_d.submatrix(row_offset,col_offset,row_num,col_num)\n",
    "            S_sub,U_sub,V=new_d_sub.smith_form()\n",
    "            S=block_matrix([[Matrix(row_offset,col_num)],[S_sub]])\n",
    "            U=block_matrix([[identity_matrix(row_offset),0],[0,U_sub]])\n",
    "            self.f_dict[deg_max-j]=U*self.f_dict[deg_max-j]\n",
    "            self.f_dict[deg_max-(j+1)]=V^(-1)*self.f_dict[deg_max-(j+1)]\n",
    "            self.g_dict[deg_max-j]=self.g_dict[deg_max-j]*U^(-1)\n",
    "            self.g_dict[deg_max-(j+1)]=self.g_dict[deg_max-(j+1)]*V\n",
    "            D_dict[deg_max-(j+1)]=S\n",
    "        self.complex_smith = ChainComplex(D_dict)\n",
    "    def homology_smith_form(self,i):\n",
    "        nz=self.complex_smith.nonzero_degrees()\n",
    "        deg_min=min(nz)\n",
    "        deg_max=max(nz)\n",
    "        if i<deg_min or i>deg_max:\n",
    "            return []\n",
    "        elif i==deg_max:\n",
    "            num_gens=self.complex_smith.differential()[i-1].nrows()\n",
    "            offset=0\n",
    "            l=[]\n",
    "            for j in range(num_gens):\n",
    "                if j<self.complex_smith.differential()[i-1].ncols() and j+offset<self.complex_smith.differential()[i-1].nrows():\n",
    "                    div=self.complex_smith.differential()[i-1][j+offset,j]\n",
    "                    if not div.is_unit():\n",
    "                        l.append(div)\n",
    "                else:\n",
    "                    l.append(0)\n",
    "            return l\n",
    "        elif i>deg_min:\n",
    "            num_gens=self.complex_smith.differential()[i].ncols()-self.complex_smith.differential()[i].rank()\n",
    "            l=[]\n",
    "            offset=self.complex_smith.differential()[i].rank()\n",
    "            for j in range(num_gens):\n",
    "                if j<self.complex_smith.differential()[i-1].ncols() and j+offset<self.complex_smith.differential()[i-1].nrows():\n",
    "                    div=self.complex_smith.differential()[i-1][j+offset,j]\n",
    "                    if not div.is_unit():\n",
    "                        l.append(div)\n",
    "                else:\n",
    "                    l.append(0)\n",
    "            return l\n",
    "        elif i==deg_min:\n",
    "            num_gens=self.complex_smith.differential()[i].ncols()-self.complex_smith.differential()[i].rank()\n",
    "            l=[0]*num_gens\n",
    "            return l\n",
    "    def compute_homology_representatives(self,i):\n",
    "        nz=self.complex_smith.nonzero_degrees()\n",
    "        deg_min=min(nz)\n",
    "        deg_max=max(nz)\n",
    "        if i<deg_min or i>deg_max:\n",
    "            return []\n",
    "        h = self.homology_orders[i]\n",
    "        return self.g_dict[i].submatrix(0,self.g_dict[i].ncols() - len(h))\n",
    "\n",
    "class MorphismHomology():\n",
    "    def __init__(self, hA, hB, F):\n",
    "        self.hA = hA\n",
    "        self.hB = hB\n",
    "        self.F = F\n",
    "        self.compute_morphisms()\n",
    "    def compute_morphisms(self):\n",
    "        nz=self.F.keys()\n",
    "        deg_min=min(nz)\n",
    "        deg_max=max(nz)\n",
    "        self.hF = {}\n",
    "        for i in range(deg_min, deg_max+1):\n",
    "            new_F=self.hB.f_dict[i]*self.F[i]*self.hA.g_dict[i]\n",
    "            x=len(self.hA.homology_orders[i])\n",
    "            y=len(self.hB.homology_orders[i])\n",
    "            self.hF[i] = new_F.submatrix(new_F.nrows()-y,new_F.ncols()-x)\n"
   ]
  },
  {
   "cell_type": "code",
   "execution_count": 23,
   "metadata": {},
   "outputs": [
    {
     "name": "stdout",
     "output_type": "stream",
     "text": [
      "[0]\n",
      "\n",
      "\n",
      "[0 1]\n",
      "\n",
      "\n",
      "[]\n",
      "\n",
      "\n"
     ]
    }
   ],
   "source": [
    "v1={0:v1_0,1:v1_1,2:v1_2}\n",
    "ha_C = Homology(a_C)\n",
    "hb_C = Homology(b_C)\n",
    "mor = MorphismHomology(ha_C, hb_C, v1)\n",
    "\n",
    "\n",
    "for h in mor.hF.values():\n",
    "    print(ascii_art(h))\n",
    "    print('\\n')"
   ]
  },
  {
   "cell_type": "code",
   "execution_count": 24,
   "metadata": {},
   "outputs": [
    {
     "data": {
      "text/plain": [
       "                                [0 0 0]      \n",
       "                                [0 0 0]      \n",
       "                                [-----]      \n",
       "                                [1 0 0]      \n",
       "            [1 0 0 0 0 0]       [0 1 0]      \n",
       "            [0 1 0 0 0 0]       [0 0 0]      \n",
       "            [0 0 0 0 0 0]       [0 0 0]      \n",
       " 0 <-- C_2 <-------------- C_1 <-------- C_0 <-- 0 "
      ]
     },
     "execution_count": 24,
     "metadata": {},
     "output_type": "execute_result"
    }
   ],
   "source": [
    "ascii_art(ha_C.complex_smith)"
   ]
  },
  {
   "cell_type": "code",
   "execution_count": 25,
   "metadata": {},
   "outputs": [
    {
     "data": {
      "text/plain": [
       "                                        [0 0 0 0 0]      \n",
       "                                        [0 0 0 0 0]      \n",
       "                                        [0 0 0 0 0]      \n",
       "                                        [0 0 0 0 0]      \n",
       "                                        [0 0 0 0 0]      \n",
       "                                        [---------]      \n",
       "            [1 0 0 0 0 0 0 0 0 0]       [1 0 0 0 0]      \n",
       "            [0 1 0 0 0 0 0 0 0 0]       [0 1 0 0 0]      \n",
       "            [0 0 1 0 0 0 0 0 0 0]       [0 0 1 0 0]      \n",
       "            [0 0 0 1 0 0 0 0 0 0]       [0 0 0 1 0]      \n",
       "            [0 0 0 0 1 0 0 0 0 0]       [0 0 0 0 0]      \n",
       " 0 <-- C_2 <---------------------- C_1 <------------ C_0 <-- 0 "
      ]
     },
     "execution_count": 25,
     "metadata": {},
     "output_type": "execute_result"
    }
   ],
   "source": [
    "ascii_art(hb_C.complex_smith)"
   ]
  },
  {
   "cell_type": "code",
   "execution_count": 26,
   "metadata": {},
   "outputs": [
    {
     "data": {
      "text/plain": [
       "[0 0]\n",
       "[0 0]\n",
       "[1 0]\n",
       "[0 1]\n",
       "[1 0]\n",
       "[0 0]"
      ]
     },
     "execution_count": 26,
     "metadata": {},
     "output_type": "execute_result"
    }
   ],
   "source": [
    "ha_C.homology_representatives[1]"
   ]
  },
  {
   "cell_type": "code",
   "execution_count": 27,
   "metadata": {},
   "outputs": [
    {
     "data": {
      "text/plain": [
       "[0, 0]"
      ]
     },
     "execution_count": 27,
     "metadata": {},
     "output_type": "execute_result"
    }
   ],
   "source": [
    "ha_C.homology_orders[1]"
   ]
  },
  {
   "cell_type": "code",
   "execution_count": null,
   "metadata": {},
   "outputs": [],
   "source": []
  },
  {
   "cell_type": "code",
   "execution_count": null,
   "metadata": {},
   "outputs": [],
   "source": []
  }
 ],
 "metadata": {
  "kernelspec": {
   "display_name": "SageMath 10.0",
   "language": "sagemath",
   "name": "sagemath"
  },
  "language_info": {
   "codemirror_mode": {
    "name": "ipython",
    "version": 3
   },
   "file_extension": ".py",
   "mimetype": "text/x-python",
   "name": "python",
   "nbconvert_exporter": "python",
   "pygments_lexer": "ipython3",
   "version": "3.10.13"
  }
 },
 "nbformat": 4,
 "nbformat_minor": 4
}
