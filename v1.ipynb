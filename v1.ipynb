{
 "cells": [
  {
   "cell_type": "code",
   "execution_count": 1,
   "metadata": {},
   "outputs": [],
   "source": [
    "# Imports\n",
    "load('prismatic_envelope.sage')\n",
    "load('homology.sage')\n",
    "load('precision.py')"
   ]
  },
  {
   "cell_type": "markdown",
   "metadata": {},
   "source": [
    "### User-defined input"
   ]
  },
  {
   "cell_type": "code",
   "execution_count": 2,
   "metadata": {},
   "outputs": [
    {
     "name": "stdout",
     "output_type": "stream",
     "text": [
      "total p-adic precision is 40\n",
      "Fprec is 9\n"
     ]
    }
   ],
   "source": [
    "# The prime p\n",
    "p=2\n",
    "\n",
    "# The motivic weight i in F_p(i)^red\n",
    "i=3\n",
    "\n",
    "# The power of the uniformizer n\n",
    "n=3\n",
    "\n",
    "# The residual degree f\n",
    "# The present code only supports totally ramified extensions of Qp,\n",
    "# i.e., where f=1\n",
    "f=1\n",
    "\n",
    "Fprec,total_precision=target_total_precision(p,i,n)\n",
    "\n",
    "print(\"total p-adic precision is {}\".format(total_precision))\n",
    "print(\"Fprec is {}\".format(Fprec))\n",
    "\n",
    "# The coefficient ring W\n",
    "if f==1:\n",
    "    W=Zp(p,total_precision,type='capped-abs',print_mode='digits',show_prec=False)\n",
    "else:\n",
    "    W=Zq(p**f,total_precision,names='a',type='capped-abs',print_mode='series',show_prec=False)\n",
    "    \n",
    "# The Breuil-Kisin ring A\n",
    "A.<z>=PowerSeriesRing(W,Fprec)\n",
    "\n",
    "# The Eisenstein polynomial E\n",
    "# USER DEFINED\n",
    "E=A(z+p)"
   ]
  },
  {
   "cell_type": "markdown",
   "metadata": {},
   "source": [
    "### The main calculation"
   ]
  },
  {
   "cell_type": "code",
   "execution_count": 3,
   "metadata": {},
   "outputs": [],
   "source": [
    "#%%capture\n",
    "# Suppresses some Python warnings and SAGE variable injections\n",
    "\n",
    "# The normalized Eisenstein polynomial\n",
    "# The normalization is to bring the Eisenstein polynomial into the form E(0)=p\n",
    "E=eisenstein_normalization(p,E)\n",
    "\n",
    "#if i-p+1>0:\n",
    "#    a_syn0,a_syn1,a_nablaN,a_nablaP,a_gens_N0,a_gens_P0,a_gens_N1,a_gens_P1=syntomic_matrices(p,i-p+1,n,E,total_precision,Fprec,debug=False)\n",
    "#    b_syn0,b_syn1,b_nablaN,b_nablaP,b_gens_N0,b_gens_P0,b_gens_N1,b_gens_P1=syntomic_matrices(p,i,n,E,total_precision,Fprec,debug=False)"
   ]
  },
  {
   "cell_type": "code",
   "execution_count": 4,
   "metadata": {},
   "outputs": [
    {
     "name": "stderr",
     "output_type": "stream",
     "text": [
      "<string>:744: DeprecationWarning: __getitem__ is changing to match the behavior of number fields. Please use expansion instead.\n",
      "See https://github.com/sagemath/sage/issues/14825 for details.\n",
      "<string>:763: DeprecationWarning: __getitem__ is changing to match the behavior of number fields. Please use expansion instead.\n",
      "See https://github.com/sagemath/sage/issues/14825 for details.\n",
      "<string>:780: DeprecationWarning: __getitem__ is changing to match the behavior of number fields. Please use expansion instead.\n",
      "See https://github.com/sagemath/sage/issues/14825 for details.\n",
      "<string>:790: DeprecationWarning: __getitem__ is changing to match the behavior of number fields. Please use expansion instead.\n",
      "See https://github.com/sagemath/sage/issues/14825 for details.\n",
      "<string>:804: DeprecationWarning: __getitem__ is changing to match the behavior of number fields. Please use expansion instead.\n",
      "See https://github.com/sagemath/sage/issues/14825 for details.\n",
      "<string>:823: DeprecationWarning: __getitem__ is changing to match the behavior of number fields. Please use expansion instead.\n",
      "See https://github.com/sagemath/sage/issues/14825 for details.\n",
      "<string>:847: DeprecationWarning: __getitem__ is changing to match the behavior of number fields. Please use expansion instead.\n",
      "See https://github.com/sagemath/sage/issues/14825 for details.\n",
      "<string>:860: DeprecationWarning: __getitem__ is changing to match the behavior of number fields. Please use expansion instead.\n",
      "See https://github.com/sagemath/sage/issues/14825 for details.\n"
     ]
    }
   ],
   "source": [
    "syn_cplx=SyntomicComplex(p,i,n,E,total_precision+30,Fprec+10,debug=False)"
   ]
  },
  {
   "cell_type": "code",
   "execution_count": null,
   "metadata": {},
   "outputs": [],
   "source": []
  },
  {
   "cell_type": "code",
   "execution_count": 5,
   "metadata": {},
   "outputs": [],
   "source": [
    "syn_cplx.compute_mod_p_homology()"
   ]
  },
  {
   "cell_type": "code",
   "execution_count": 6,
   "metadata": {},
   "outputs": [
    {
     "name": "stdout",
     "output_type": "stream",
     "text": [
      "The dimension of the mod p cohomology in degree 0 is 2.\n",
      "The generators of the mod p cohomology in degree 0 are \n",
      "['+1*E^2zf0+O(F>=19)', '+1*E^1z^2f1+1*E^0f0*f1+1*E^0zf0*f2+1*E^0f1*f2+O(F>=19)']\n",
      "\n",
      "\n",
      "The dimension of the mod p cohomology in degree 1 is 3.\n",
      "The generators of the mod p cohomology in degree 1 are \n",
      "['+1*z^2∂+1*z^2f0∂+1*f0*f1∂+1*zf0*f1∂+1*E^1f0∇z+1*E^0zf1∇z+1*E^0f0*f2∇z+O(F>=19)', '+1*z^2∂+1*E^2z∇z+O(F>=19)', '+1*z^2∂+1*E^0f0*f1∇z+O(F>=19)']\n",
      "\n",
      "\n",
      "The dimension of the mod p cohomology in degree 2 is 1.\n",
      "The generators of the mod p cohomology in degree 2 are \n",
      "['+1*f0∂∇z+O(F>=19)']\n",
      "\n",
      "\n"
     ]
    }
   ],
   "source": [
    "syn_cplx.print_mod_p_homology()"
   ]
  },
  {
   "cell_type": "code",
   "execution_count": 7,
   "metadata": {},
   "outputs": [
    {
     "data": {
      "text/plain": [
       "'+1*∂∇z+1010101010101010101010101010101010101*z^2∂∇z+10001110001110001110001110001110001110*f0∂∇z+110110011110101011010111110011010100*zf0∂∇z+1111010101001100010010101000100000*z^2f0∂∇z+11111011010101100001101110100110010*f1∂∇z+10111000000100010000010101100101000*zf1∂∇z+10000111011110110110100110101001*z^2f1∂∇z+11011110110000000000000100000100*f0*f1∂∇z+1000101010110111110010011011110*zf0*f1∂∇z+11001101110010101100101001000*z^2f0*f1∂∇z+1001100001011101011111010010100*f2∂∇z+110000011001001110100010111000*zf2∂∇z+1010010011000100001000111010*z^2f2∂∇z+10100111010101101100110001100*f0*f2∂∇z+110111110100001001011001010*zf0*f2∂∇z+101110100011000001101011100*z^2f0*f2∂∇z+O(F>=19)'"
      ]
     },
     "execution_count": 7,
     "metadata": {},
     "output_type": "execute_result"
    }
   ],
   "source": [
    "syn_cplx.nablaP_value(1)"
   ]
  },
  {
   "cell_type": "code",
   "execution_count": 8,
   "metadata": {},
   "outputs": [
    {
     "name": "stdout",
     "output_type": "stream",
     "text": [
      "[1 0 0 0 0 0 0 0 0 0 0 0 0 0 0 0 0 0]\n",
      "[0 0 0 0 0 0 0 0 0 0 0 0 0 0 0 0 0 0]\n",
      "[1 0 1 0 0 0 0 0 0 0 0 0 0 0 0 0 0 0]\n",
      "[0 0 0 0 0 0 0 0 0 0 0 0 0 0 0 0 0 0]\n",
      "[0 0 0 0 1 0 0 0 0 0 0 0 0 0 0 0 0 0]\n",
      "[0 0 0 1 0 1 0 0 0 0 0 0 0 0 0 0 0 0]\n",
      "[0 0 0 0 0 0 1 0 0 0 0 0 0 0 0 0 0 0]\n",
      "[0 0 0 0 0 0 0 0 0 0 0 0 0 0 0 0 0 0]\n",
      "[1 0 0 0 1 0 1 0 1 0 0 0 0 0 0 0 0 0]\n",
      "[0 1 0 1 0 1 0 0 0 0 0 0 0 0 0 0 0 0]\n",
      "[0 0 1 0 0 0 0 0 0 0 1 0 0 0 0 0 0 0]\n",
      "[0 0 0 0 0 0 0 0 0 1 0 1 0 0 0 0 0 0]\n",
      "[0 0 0 0 0 0 0 0 0 0 0 0 1 0 0 0 0 0]\n",
      "[0 0 0 0 0 0 0 0 0 0 0 1 0 0 0 0 0 0]\n",
      "[0 0 0 0 0 0 0 0 0 0 0 0 1 0 1 0 0 0]\n",
      "[0 0 0 0 0 0 0 0 0 0 0 1 0 0 0 0 0 0]\n",
      "[0 0 0 0 0 0 0 0 0 0 0 0 0 0 0 0 1 0]\n",
      "[0 0 0 0 0 0 0 0 0 0 0 1 0 0 0 1 0 1]\n"
     ]
    }
   ],
   "source": [
    "print(Matrix(GF(2),syn_cplx.nablaP))"
   ]
  },
  {
   "cell_type": "code",
   "execution_count": 9,
   "metadata": {},
   "outputs": [
    {
     "data": {
      "text/plain": [
       "['z∂',\n",
       " 'z^2∂',\n",
       " 'f0∂',\n",
       " 'zf0∂',\n",
       " 'z^2f0∂',\n",
       " 'f1∂',\n",
       " 'zf1∂',\n",
       " 'z^2f1∂',\n",
       " 'f0*f1∂',\n",
       " 'zf0*f1∂',\n",
       " 'z^2f0*f1∂',\n",
       " 'f2∂',\n",
       " 'zf2∂',\n",
       " 'z^2f2∂',\n",
       " 'f0*f2∂',\n",
       " 'zf0*f2∂',\n",
       " 'z^2f0*f2∂',\n",
       " 'f1*f2∂']"
      ]
     },
     "execution_count": 9,
     "metadata": {},
     "output_type": "execute_result"
    }
   ],
   "source": [
    "syn_cplx.gens['P0']"
   ]
  },
  {
   "cell_type": "code",
   "execution_count": 10,
   "metadata": {},
   "outputs": [
    {
     "data": {
      "text/plain": [
       "'+1*∂∇z+1*z^2∂∇z+1*z^2f1∂∇z+O(F>=19)'"
      ]
     },
     "execution_count": 10,
     "metadata": {},
     "output_type": "execute_result"
    }
   ],
   "source": [
    "syn_cplx.nablaP_value_mod_p(1)"
   ]
  },
  {
   "cell_type": "code",
   "execution_count": 38,
   "metadata": {},
   "outputs": [
    {
     "data": {
      "text/plain": [
       "'+1*E^2zf0∇z+1*E^0zf0*f1∇z+O(F>=22)'"
      ]
     },
     "execution_count": 38,
     "metadata": {},
     "output_type": "execute_result"
    }
   ],
   "source": [
    "syn_cplx.nablaN_value_mod_p(4)"
   ]
  },
  {
   "cell_type": "code",
   "execution_count": 25,
   "metadata": {},
   "outputs": [
    {
     "data": {
      "text/plain": [
       "                                                                       \n",
       "                                                                       \n",
       "                                                                       \n",
       "                                                                       \n",
       "                                                                       \n",
       "                                                                       \n",
       "                                                                       \n",
       "                                                                       \n",
       "                                                                       \n",
       "                                                                       \n",
       "                                                                       \n",
       "                                                                       \n",
       "                                                                       \n",
       "            [1 0 0 0 0 0 0 0 0 0 0 0 0 0 0 0 0 0 0 0 0 0 0 0 0 0]      \n",
       "            [0 0 0 0 0 0 0 0 0 0 0 0 0 1 0 0 0 0 0 0 0 0 0 0 0 0]      \n",
       "            [0 0 1 0 0 0 0 0 0 0 0 0 0 0 0 0 0 0 0 0 0 0 0 0 0 0]      \n",
       "            [0 1 0 0 0 0 0 0 0 0 0 0 0 1 1 0 0 0 0 0 0 0 0 0 0 0]      \n",
       "            [0 0 1 0 1 0 0 0 0 0 0 0 0 0 1 0 0 0 0 0 0 0 0 0 0 0]      \n",
       "            [0 1 0 0 0 1 0 0 0 0 0 0 0 1 1 0 1 0 0 0 0 0 0 0 0 0]      \n",
       "            [0 0 0 0 0 0 1 0 0 0 0 0 0 0 0 0 0 0 0 0 0 0 0 0 0 0]      \n",
       "            [0 0 0 0 0 1 0 0 0 0 0 0 0 0 0 0 1 0 0 1 0 0 0 0 0 0]      \n",
       "            [0 0 0 0 0 0 0 0 1 0 0 0 0 0 0 0 0 1 0 0 1 0 0 0 0 0]      \n",
       "            [0 1 0 0 0 0 0 1 0 0 0 0 0 1 1 0 0 1 1 0 0 1 1 0 0 0]      \n",
       "            [0 0 1 0 0 0 0 0 1 0 1 0 0 0 0 0 0 0 0 0 0 0 0 1 0 0]      \n",
       "            [0 1 0 1 0 1 0 1 0 0 0 1 0 0 1 1 1 1 1 0 0 0 0 0 1 0]      \n",
       "            [0 0 0 0 0 0 0 0 0 0 0 0 1 0 0 0 0 0 0 0 0 0 0 0 0 1]      \n",
       " 0 <-- C_2 <------------------------------------------------------ C_1 \n",
       "\n",
       " [0 0 0 0 0 0 0 0 0 0 0 0 0]      \n",
       " [1 0 0 0 0 0 0 0 0 0 0 0 0]      \n",
       " [0 0 0 0 0 0 0 0 0 0 0 0 0]      \n",
       " [0 1 0 0 0 0 0 0 0 0 0 0 0]      \n",
       " [1 0 0 0 0 0 0 0 0 0 0 0 0]      \n",
       " [0 0 1 0 0 0 0 0 0 0 0 0 0]      \n",
       " [0 0 0 0 0 0 0 0 0 0 0 0 0]      \n",
       " [0 1 1 1 0 1 0 0 0 0 0 0 0]      \n",
       " [0 0 0 1 0 0 1 0 0 0 0 0 0]      \n",
       " [0 0 0 0 0 0 0 1 1 0 0 0 0]      \n",
       " [0 0 0 0 0 0 0 0 0 1 0 0 0]      \n",
       " [0 0 0 0 0 1 0 0 0 0 0 1 0]      \n",
       " [0 0 0 0 0 0 0 0 0 0 0 0 1]      \n",
       " [0 0 0 0 0 0 0 0 0 0 0 0 0]      \n",
       " [1 0 0 0 0 0 0 0 0 0 0 0 0]      \n",
       " [0 0 1 0 0 0 0 0 0 0 0 0 0]      \n",
       " [0 0 1 0 0 0 0 0 0 0 0 0 0]      \n",
       " [0 0 0 1 0 0 0 0 0 0 0 0 0]      \n",
       " [0 1 1 0 0 1 0 0 0 0 0 0 0]      \n",
       " [0 0 0 0 0 0 0 0 0 0 0 0 0]      \n",
       " [0 0 0 0 0 0 1 0 0 0 0 0 0]      \n",
       " [0 0 0 0 0 0 0 0 1 0 0 0 0]      \n",
       " [0 0 0 0 0 0 0 0 1 0 0 0 0]      \n",
       " [0 0 0 1 0 0 1 0 0 1 0 0 0]      \n",
       " [0 1 1 0 0 1 0 0 0 0 0 1 0]      \n",
       " [0 0 0 0 0 0 0 0 0 0 0 0 1]      \n",
       "<---------------------------- C_0 <-- 0 "
      ]
     },
     "execution_count": 25,
     "metadata": {},
     "output_type": "execute_result"
    }
   ],
   "source": [
    "ascii_art(syn_cplx.complex_mod_p)"
   ]
  },
  {
   "cell_type": "code",
   "execution_count": 26,
   "metadata": {},
   "outputs": [
    {
     "ename": "NameError",
     "evalue": "name 'a_syn0' is not defined",
     "output_type": "error",
     "traceback": [
      "\u001b[0;31m---------------------------------------------------------------------------\u001b[0m",
      "\u001b[0;31mNameError\u001b[0m                                 Traceback (most recent call last)",
      "Cell \u001b[0;32mIn[26], line 1\u001b[0m\n\u001b[0;32m----> 1\u001b[0m a_d0\u001b[38;5;241m=\u001b[39mblock_matrix([[\u001b[43ma_syn0\u001b[49m],[a_nablaN]])\n\u001b[1;32m      2\u001b[0m a_d1\u001b[38;5;241m=\u001b[39mblock_matrix([[a_nablaP,\u001b[38;5;241m-\u001b[39ma_syn1]])\n\u001b[1;32m      3\u001b[0m a_d0_Fp\u001b[38;5;241m=\u001b[39mMatrix(GF(p),a_d0)\n",
      "\u001b[0;31mNameError\u001b[0m: name 'a_syn0' is not defined"
     ]
    }
   ],
   "source": [
    "a_d0=block_matrix([[a_syn0],[a_nablaN]])\n",
    "a_d1=block_matrix([[a_nablaP,-a_syn1]])\n",
    "a_d0_Fp=Matrix(GF(p),a_d0)\n",
    "a_d1_Fp=Matrix(GF(p),a_d1)\n",
    "a_C=ChainComplex({0:a_d0_Fp,1:a_d1_Fp})\n",
    "a_C.homology()"
   ]
  },
  {
   "cell_type": "code",
   "execution_count": 9,
   "metadata": {},
   "outputs": [
    {
     "data": {
      "text/plain": [
       "{0: Vector space of dimension 2 over Finite Field of size 2,\n",
       " 1: Vector space of dimension 3 over Finite Field of size 2,\n",
       " 2: Vector space of dimension 1 over Finite Field of size 2}"
      ]
     },
     "execution_count": 9,
     "metadata": {},
     "output_type": "execute_result"
    }
   ],
   "source": [
    "b_d0=block_matrix([[b_syn0],[b_nablaN]])\n",
    "b_d1=block_matrix([[b_nablaP,-b_syn1]])\n",
    "b_d0_Fp=Matrix(GF(p),b_d0)\n",
    "b_d1_Fp=Matrix(GF(p),b_d1)\n",
    "b_C=ChainComplex({0:b_d0_Fp,1:b_d1_Fp})\n",
    "b_C.homology()"
   ]
  },
  {
   "cell_type": "code",
   "execution_count": 10,
   "metadata": {},
   "outputs": [
    {
     "data": {
      "text/plain": [
       "                                        [0 0 0 0 0]      \n",
       "                                        [0 0 0 0 0]      \n",
       "                                        [0 1 1 0 0]      \n",
       "                                        [0 1 0 1 0]      \n",
       "                                        [0 0 0 0 1]      \n",
       "            [1 0 0 0 0 1 0 0 0 0]       [0 0 0 0 0]      \n",
       "            [0 0 0 0 0 1 1 0 0 0]       [0 0 0 0 0]      \n",
       "            [1 0 1 0 0 0 0 1 0 0]       [0 1 1 0 0]      \n",
       "            [0 0 0 0 0 1 1 0 1 0]       [0 0 0 0 0]      \n",
       "            [0 0 0 0 1 0 0 0 0 1]       [0 0 0 0 1]      \n",
       " 0 <-- C_2 <---------------------- C_1 <------------ C_0 <-- 0 "
      ]
     },
     "execution_count": 10,
     "metadata": {},
     "output_type": "execute_result"
    }
   ],
   "source": [
    "ascii_art(a_C)"
   ]
  },
  {
   "cell_type": "code",
   "execution_count": 11,
   "metadata": {},
   "outputs": [
    {
     "data": {
      "text/plain": [
       "                                        [0 0 0 0 0]      \n",
       "                                        [1 0 0 0 0]      \n",
       "                                        [1 0 0 0 0]      \n",
       "                                        [0 0 1 0 0]      \n",
       "                                        [0 0 0 1 0]      \n",
       "            [1 0 0 0 0 0 0 0 0 0]       [0 0 0 0 0]      \n",
       "            [0 0 0 0 0 0 0 0 0 0]       [1 0 0 0 0]      \n",
       "            [0 0 1 0 0 0 1 0 0 0]       [0 0 1 0 0]      \n",
       "            [0 1 0 0 0 0 1 1 1 0]       [0 0 1 0 0]      \n",
       "            [0 0 1 0 1 0 0 0 0 1]       [1 0 0 1 0]      \n",
       " 0 <-- C_2 <---------------------- C_1 <------------ C_0 <-- 0 "
      ]
     },
     "execution_count": 11,
     "metadata": {},
     "output_type": "execute_result"
    }
   ],
   "source": [
    "ascii_art(b_C)"
   ]
  },
  {
   "cell_type": "markdown",
   "metadata": {},
   "source": [
    "# Computing v1"
   ]
  },
  {
   "cell_type": "code",
   "execution_count": 12,
   "metadata": {},
   "outputs": [
    {
     "name": "stderr",
     "output_type": "stream",
     "text": [
      "<string>:832: DeprecationWarning: __getitem__ is changing to match the behavior of number fields. Please use expansion instead.\n",
      "See https://github.com/sagemath/sage/issues/14825 for details.\n",
      "<string>:841: DeprecationWarning: __getitem__ is changing to match the behavior of number fields. Please use expansion instead.\n",
      "See https://github.com/sagemath/sage/issues/14825 for details.\n",
      "<string>:854: DeprecationWarning: __getitem__ is changing to match the behavior of number fields. Please use expansion instead.\n",
      "See https://github.com/sagemath/sage/issues/14825 for details.\n",
      "<string>:868: DeprecationWarning: __getitem__ is changing to match the behavior of number fields. Please use expansion instead.\n",
      "See https://github.com/sagemath/sage/issues/14825 for details.\n"
     ]
    },
    {
     "name": "stdout",
     "output_type": "stream",
     "text": [
      "\n",
      "\n",
      "\n",
      "\n",
      "\n",
      "\n",
      "\n",
      "\n",
      "\n",
      "\n",
      "z*d_tilde^3\n",
      "(10*z + z^2 + O(z^6))*d_tilde^2\n",
      "z^2*d_tilde^3\n",
      "(10*z^2 + O(z^6))*d_tilde^2 + ((10 + z + O(z^3))*f0)*d_tilde\n",
      "f0*d_tilde^2\n",
      "((10 + z + O(z^3))*f0)*d_tilde\n",
      "z*f0*d_tilde^2\n",
      "((10*z + z^2 + O(z^3))*f0)*d_tilde\n",
      "z^2*f0*d_tilde^2\n",
      "((10*z^2 + O(z^3))*f0)*d_tilde\n"
     ]
    },
    {
     "name": "stderr",
     "output_type": "stream",
     "text": [
      "<string>:880: DeprecationWarning: __getitem__ is changing to match the behavior of number fields. Please use expansion instead.\n",
      "See https://github.com/sagemath/sage/issues/14825 for details.\n",
      "<string>:889: DeprecationWarning: __getitem__ is changing to match the behavior of number fields. Please use expansion instead.\n",
      "See https://github.com/sagemath/sage/issues/14825 for details.\n",
      "<string>:901: DeprecationWarning: __getitem__ is changing to match the behavior of number fields. Please use expansion instead.\n",
      "See https://github.com/sagemath/sage/issues/14825 for details.\n",
      "<string>:913: DeprecationWarning: __getitem__ is changing to match the behavior of number fields. Please use expansion instead.\n",
      "See https://github.com/sagemath/sage/issues/14825 for details.\n"
     ]
    }
   ],
   "source": [
    "v1N0,v1P0,v1N1,v1P1=v1_matrices(p,i,n,E,total_precision,Fprec,debug=False)"
   ]
  },
  {
   "cell_type": "code",
   "execution_count": 13,
   "metadata": {},
   "outputs": [],
   "source": [
    "v1N0_Fp=Matrix(GF(p),v1N0)\n",
    "v1P0_Fp=Matrix(GF(p),v1P0)\n",
    "v1N1_Fp=Matrix(GF(p),v1N1)\n",
    "v1P1_Fp=Matrix(GF(p),v1P1)"
   ]
  },
  {
   "cell_type": "code",
   "execution_count": 14,
   "metadata": {},
   "outputs": [
    {
     "data": {
      "text/plain": [
       "[0 0 0 0 0]\n",
       "[1 0 0 0 0]\n",
       "[0 0 0 0 0]\n",
       "[0 1 1 0 0]\n",
       "[0 0 0 1 0]"
      ]
     },
     "execution_count": 14,
     "metadata": {},
     "output_type": "execute_result"
    }
   ],
   "source": [
    "v1N0_Fp"
   ]
  },
  {
   "cell_type": "code",
   "execution_count": 15,
   "metadata": {},
   "outputs": [
    {
     "data": {
      "text/plain": [
       "[0 0 0 0 0]\n",
       "[0 0 0 0 0]\n",
       "[1 0 0 0 0]\n",
       "[0 1 0 0 0]\n",
       "[0 0 1 0 0]"
      ]
     },
     "execution_count": 15,
     "metadata": {},
     "output_type": "execute_result"
    }
   ],
   "source": [
    "v1P0_Fp"
   ]
  },
  {
   "cell_type": "code",
   "execution_count": 16,
   "metadata": {},
   "outputs": [
    {
     "data": {
      "text/plain": [
       "[0 0 0 0 0]\n",
       "[1 0 0 0 0]\n",
       "[0 1 0 0 0]\n",
       "[0 0 0 0 0]\n",
       "[0 0 1 0 0]"
      ]
     },
     "execution_count": 16,
     "metadata": {},
     "output_type": "execute_result"
    }
   ],
   "source": [
    "v1N1_Fp"
   ]
  },
  {
   "cell_type": "code",
   "execution_count": 17,
   "metadata": {},
   "outputs": [
    {
     "data": {
      "text/plain": [
       "[0 0 0 0 0]\n",
       "[0 0 0 0 0]\n",
       "[1 0 0 0 0]\n",
       "[0 1 0 0 0]\n",
       "[0 0 1 0 0]"
      ]
     },
     "execution_count": 17,
     "metadata": {},
     "output_type": "execute_result"
    }
   ],
   "source": [
    "v1P1_Fp"
   ]
  },
  {
   "cell_type": "code",
   "execution_count": 18,
   "metadata": {},
   "outputs": [],
   "source": [
    "v1_0=Matrix(GF(p),v1N0)\n",
    "v1_1=Matrix(GF(p),block_matrix([[v1P0,0],[0,v1N1]]))\n",
    "v1_2=Matrix(GF(p),v1P1)"
   ]
  },
  {
   "cell_type": "code",
   "execution_count": 19,
   "metadata": {},
   "outputs": [
    {
     "data": {
      "text/plain": [
       "[0 0 0 0 0]\n",
       "[1 0 0 0 0]\n",
       "[0 0 0 0 0]\n",
       "[0 1 1 0 0]\n",
       "[0 0 0 1 0]"
      ]
     },
     "execution_count": 19,
     "metadata": {},
     "output_type": "execute_result"
    }
   ],
   "source": [
    "v1_0"
   ]
  },
  {
   "cell_type": "code",
   "execution_count": 20,
   "metadata": {},
   "outputs": [
    {
     "data": {
      "text/plain": [
       "[0 0 0 0 0 0 0 0 0 0]\n",
       "[0 0 0 0 0 0 0 0 0 0]\n",
       "[1 0 0 0 0 0 0 0 0 0]\n",
       "[0 1 0 0 0 0 0 0 0 0]\n",
       "[0 0 1 0 0 0 0 0 0 0]\n",
       "[0 0 0 0 0 0 0 0 0 0]\n",
       "[0 0 0 0 0 1 0 0 0 0]\n",
       "[0 0 0 0 0 0 1 0 0 0]\n",
       "[0 0 0 0 0 0 0 0 0 0]\n",
       "[0 0 0 0 0 0 0 1 0 0]"
      ]
     },
     "execution_count": 20,
     "metadata": {},
     "output_type": "execute_result"
    }
   ],
   "source": [
    "v1_1"
   ]
  },
  {
   "cell_type": "code",
   "execution_count": 21,
   "metadata": {},
   "outputs": [
    {
     "data": {
      "text/plain": [
       "[0 0 0 0 0]\n",
       "[0 0 0 0 0]\n",
       "[1 0 0 0 0]\n",
       "[0 1 0 0 0]\n",
       "[0 0 1 0 0]"
      ]
     },
     "execution_count": 21,
     "metadata": {},
     "output_type": "execute_result"
    }
   ],
   "source": [
    "v1_2"
   ]
  },
  {
   "cell_type": "code",
   "execution_count": 22,
   "metadata": {},
   "outputs": [
    {
     "data": {
      "text/plain": [
       "[0 0 0 0 0]\n",
       "[0 0 0 0 0]\n",
       "[0 0 0 0 0]\n",
       "[0 0 0 0 0]\n",
       "[0 1 1 0 0]\n",
       "[0 0 0 0 0]\n",
       "[0 0 0 0 0]\n",
       "[0 0 0 0 0]\n",
       "[0 0 0 0 0]\n",
       "[0 1 1 0 0]"
      ]
     },
     "execution_count": 22,
     "metadata": {},
     "output_type": "execute_result"
    }
   ],
   "source": [
    "v1_1*a_C.differential()[0]"
   ]
  },
  {
   "cell_type": "code",
   "execution_count": 23,
   "metadata": {},
   "outputs": [
    {
     "data": {
      "text/plain": [
       "[0 0 0 0 0]\n",
       "[0 0 0 0 0]\n",
       "[0 0 0 0 0]\n",
       "[0 0 0 0 0]\n",
       "[0 1 1 0 0]\n",
       "[0 0 0 0 0]\n",
       "[0 0 0 0 0]\n",
       "[0 0 0 0 0]\n",
       "[0 0 0 0 0]\n",
       "[0 1 1 0 0]"
      ]
     },
     "execution_count": 23,
     "metadata": {},
     "output_type": "execute_result"
    }
   ],
   "source": [
    "b_C.differential()[0]*v1_0"
   ]
  },
  {
   "cell_type": "code",
   "execution_count": 24,
   "metadata": {},
   "outputs": [
    {
     "data": {
      "text/plain": [
       "True"
      ]
     },
     "execution_count": 24,
     "metadata": {},
     "output_type": "execute_result"
    }
   ],
   "source": [
    "v1_2*a_C.differential()[1]==b_C.differential()[1]*v1_1"
   ]
  },
  {
   "cell_type": "code",
   "execution_count": 25,
   "metadata": {},
   "outputs": [
    {
     "name": "stdout",
     "output_type": "stream",
     "text": [
      "[0 1]\n",
      "[1 0]\n",
      "\n",
      "\n",
      "[1 1]\n",
      "[1 0]\n",
      "[0 0]\n",
      "\n",
      "\n",
      "[]\n",
      "\n",
      "\n"
     ]
    }
   ],
   "source": [
    "v1={0:v1_0,1:v1_1,2:v1_2}\n",
    "ha_C = Homology(a_C)\n",
    "hb_C = Homology(b_C)\n",
    "mor = MorphismHomology(ha_C, hb_C, v1)\n",
    "\n",
    "for h in mor.hF.values():\n",
    "    print(ascii_art(h))\n",
    "    print('\\n')"
   ]
  },
  {
   "cell_type": "code",
   "execution_count": 26,
   "metadata": {},
   "outputs": [
    {
     "data": {
      "text/plain": [
       "                                        [0 0 0 0 0]      \n",
       "                                        [0 0 0 0 0]      \n",
       "                                        [0 0 0 0 0]      \n",
       "                                        [0 0 0 0 0]      \n",
       "                                        [0 0 0 0 0]      \n",
       "                                        [---------]      \n",
       "            [1 0 0 0 0 0 0 0 0 0]       [1 0 0 0 0]      \n",
       "            [0 1 0 0 0 0 0 0 0 0]       [0 1 0 0 0]      \n",
       "            [0 0 1 0 0 0 0 0 0 0]       [0 0 1 0 0]      \n",
       "            [0 0 0 1 0 0 0 0 0 0]       [0 0 0 0 0]      \n",
       "            [0 0 0 0 1 0 0 0 0 0]       [0 0 0 0 0]      \n",
       " 0 <-- C_2 <---------------------- C_1 <------------ C_0 <-- 0 "
      ]
     },
     "execution_count": 26,
     "metadata": {},
     "output_type": "execute_result"
    }
   ],
   "source": [
    "ascii_art(ha_C.complex_smith)"
   ]
  },
  {
   "cell_type": "code",
   "execution_count": 27,
   "metadata": {},
   "outputs": [
    {
     "data": {
      "text/plain": [
       "                                        [0 0 0 0 0]      \n",
       "                                        [0 0 0 0 0]      \n",
       "                                        [0 0 0 0 0]      \n",
       "                                        [0 0 0 0 0]      \n",
       "                                        [---------]      \n",
       "                                        [1 0 0 0 0]      \n",
       "            [1 0 0 0 0 0 0 0 0 0]       [0 1 0 0 0]      \n",
       "            [0 1 0 0 0 0 0 0 0 0]       [0 0 1 0 0]      \n",
       "            [0 0 1 0 0 0 0 0 0 0]       [0 0 0 0 0]      \n",
       "            [0 0 0 1 0 0 0 0 0 0]       [0 0 0 0 0]      \n",
       "            [0 0 0 0 0 0 0 0 0 0]       [0 0 0 0 0]      \n",
       " 0 <-- C_2 <---------------------- C_1 <------------ C_0 <-- 0 "
      ]
     },
     "execution_count": 27,
     "metadata": {},
     "output_type": "execute_result"
    }
   ],
   "source": [
    "ascii_art(hb_C.complex_smith)"
   ]
  },
  {
   "cell_type": "code",
   "execution_count": 28,
   "metadata": {},
   "outputs": [
    {
     "data": {
      "text/plain": [
       "[0 1]\n",
       "[1 0]\n",
       "[0 1]\n",
       "[0 0]\n",
       "[0 0]\n",
       "[0 1]\n",
       "[0 1]\n",
       "[0 0]\n",
       "[0 0]\n",
       "[0 0]"
      ]
     },
     "execution_count": 28,
     "metadata": {},
     "output_type": "execute_result"
    }
   ],
   "source": [
    "ha_C.homology_representatives[1]"
   ]
  },
  {
   "cell_type": "code",
   "execution_count": 29,
   "metadata": {},
   "outputs": [
    {
     "data": {
      "text/plain": [
       "[0, 0]"
      ]
     },
     "execution_count": 29,
     "metadata": {},
     "output_type": "execute_result"
    }
   ],
   "source": [
    "ha_C.homology_orders[1]"
   ]
  },
  {
   "cell_type": "code",
   "execution_count": 30,
   "metadata": {},
   "outputs": [
    {
     "data": {
      "text/plain": [
       "                                                 \n",
       "                                                 \n",
       "                                                 \n",
       "                                                 \n",
       "                                                 \n",
       "                                                 \n",
       "                                                 \n",
       "                                                 \n",
       "                                                 \n",
       "                                                 \n",
       "                                                 \n",
       "            [0 0 0 0 0|1 0 0 0 0 0 0 0 0 0]      \n",
       "            [0 0 0 0 0|0 0 0 0 0 0 0 0 0 0]      \n",
       "            [1 0 0 0 0|0 0 1 0 0 0 1 0 0 0]      \n",
       "            [0 1 0 0 0|0 1 0 0 0 0 1 1 1 0]      \n",
       "            [0 0 1 0 0|0 0 1 0 1 0 0 0 0 1]      \n",
       " 0 <-- C_2 <-------------------------------- C_1 \n",
       "\n",
       " [1 0 0 0 0 1 0 0 0 0|0 0 0 0 0]       [0 0 0 0 0]       \n",
       " [0 0 0 0 0 1 1 0 0 0|0 0 0 0 0]       [0 0 0 0 0]       \n",
       " [1 0 1 0 0 0 0 1 0 0|0 0 0 0 0]       [0 1 1 0 0]       \n",
       " [0 0 0 0 0 1 1 0 1 0|0 0 0 0 0]       [0 1 0 1 0]       \n",
       " [0 0 0 0 1 0 0 0 0 1|0 0 0 0 0]       [0 0 0 0 1]       \n",
       " [-------------------+---------]       [0 0 0 0 0]       \n",
       " [0 0 0 0 0 0 0 0 0 0|0 0 0 0 0]       [0 0 0 0 0]       \n",
       " [0 0 0 0 0 0 0 0 0 0|1 0 0 0 0]       [0 1 1 0 0]       \n",
       " [1 0 0 0 0 0 0 0 0 0|1 0 0 0 0]       [0 0 0 0 0]       \n",
       " [0 1 0 0 0 0 0 0 0 0|0 0 1 0 0]       [0 0 0 0 1]       \n",
       " [0 0 1 0 0 0 0 0 0 0|0 0 0 1 0]       [---------]       \n",
       " [0 0 0 0 0 0 0 0 0 0|0 0 0 0 0]       [0 0 0 0 0]       \n",
       " [0 0 0 0 0 1 0 0 0 0|1 0 0 0 0]       [1 0 0 0 0]       \n",
       " [0 0 0 0 0 0 1 0 0 0|0 0 1 0 0]       [0 0 0 0 0]       \n",
       " [0 0 0 0 0 0 0 0 0 0|0 0 1 0 0]       [0 1 1 0 0]       \n",
       " [0 0 0 0 0 0 0 1 0 0|1 0 0 1 0]       [0 0 0 1 0]       \n",
       "<-------------------------------- C_0 <------------ C_-1 <-- 0 "
      ]
     },
     "execution_count": 30,
     "metadata": {},
     "output_type": "execute_result"
    }
   ],
   "source": [
    "red_0=block_matrix([[-a_C.differential()[0]],[-v1[0]]])\n",
    "red_1=block_matrix([[-a_C.differential()[1],0],[-v1[1],b_C.differential()[0]]])\n",
    "red_2=block_matrix([[-v1[2],b_C.differential()[1]]])\n",
    "reduced_complex=ChainComplex({-1:red_0,0:red_1,1:red_2})\n",
    "ascii_art(reduced_complex)"
   ]
  },
  {
   "cell_type": "code",
   "execution_count": 31,
   "metadata": {},
   "outputs": [],
   "source": [
    "reduced_homology=Homology(reduced_complex)"
   ]
  },
  {
   "cell_type": "code",
   "execution_count": 32,
   "metadata": {},
   "outputs": [
    {
     "data": {
      "text/plain": [
       "{-1: [], 0: [], 1: [0], 2: [0]}"
      ]
     },
     "execution_count": 32,
     "metadata": {},
     "output_type": "execute_result"
    }
   ],
   "source": [
    "reduced_homology.homology_orders"
   ]
  },
  {
   "cell_type": "code",
   "execution_count": 33,
   "metadata": {},
   "outputs": [
    {
     "data": {
      "text/plain": [
       "[1 2 3]\n",
       "[4 5 6]\n",
       "[7 8 9]"
      ]
     },
     "execution_count": 33,
     "metadata": {},
     "output_type": "execute_result"
    }
   ],
   "source": [
    "M=Matrix(ZZ,[[1,2,3],[4,5,6],[7,8,9]]);M"
   ]
  },
  {
   "cell_type": "code",
   "execution_count": 34,
   "metadata": {},
   "outputs": [
    {
     "data": {
      "text/plain": [
       "3"
      ]
     },
     "execution_count": 34,
     "metadata": {},
     "output_type": "execute_result"
    }
   ],
   "source": [
    "len(M.columns()[0])"
   ]
  },
  {
   "cell_type": "code",
   "execution_count": 35,
   "metadata": {},
   "outputs": [
    {
     "data": {
      "text/plain": [
       "7"
      ]
     },
     "execution_count": 35,
     "metadata": {},
     "output_type": "execute_result"
    }
   ],
   "source": [
    "M.columns()[0][2]"
   ]
  },
  {
   "cell_type": "code",
   "execution_count": null,
   "metadata": {},
   "outputs": [],
   "source": []
  },
  {
   "cell_type": "code",
   "execution_count": null,
   "metadata": {},
   "outputs": [],
   "source": []
  },
  {
   "cell_type": "code",
   "execution_count": null,
   "metadata": {},
   "outputs": [],
   "source": []
  },
  {
   "cell_type": "code",
   "execution_count": null,
   "metadata": {},
   "outputs": [],
   "source": []
  }
 ],
 "metadata": {
  "kernelspec": {
   "display_name": "SageMath 10.0",
   "language": "sagemath",
   "name": "sagemath"
  },
  "language_info": {
   "codemirror_mode": {
    "name": "ipython",
    "version": 3
   },
   "file_extension": ".py",
   "mimetype": "text/x-python",
   "name": "python",
   "nbconvert_exporter": "python",
   "pygments_lexer": "ipython3",
   "version": "3.10.13"
  }
 },
 "nbformat": 4,
 "nbformat_minor": 4
}
