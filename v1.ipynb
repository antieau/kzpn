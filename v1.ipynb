{
 "cells": [
  {
   "cell_type": "code",
   "execution_count": 1,
   "metadata": {},
   "outputs": [],
   "source": [
    "# Imports\n",
    "load('prismatic_envelope.sage')\n",
    "load('precision.py')"
   ]
  },
  {
   "cell_type": "markdown",
   "metadata": {},
   "source": [
    "### User-defined input"
   ]
  },
  {
   "cell_type": "code",
   "execution_count": 2,
   "metadata": {},
   "outputs": [],
   "source": [
    "# The prime p\n",
    "p=2\n",
    "\n",
    "# The motivic weight i in F_p(i)^red\n",
    "i=2\n",
    "\n",
    "# The power of the uniformizer n\n",
    "n=2\n",
    "\n",
    "# The residual degree f\n",
    "# The present code only supports totally ramified extensions of Qp,\n",
    "# i.e., where f=1\n",
    "f=1"
   ]
  },
  {
   "cell_type": "markdown",
   "metadata": {},
   "source": [
    "### Some precision calculations"
   ]
  },
  {
   "cell_type": "code",
   "execution_count": 3,
   "metadata": {},
   "outputs": [
    {
     "name": "stdout",
     "output_type": "stream",
     "text": [
      "total p-adic precision is 10\n",
      "Fprec is 4\n"
     ]
    }
   ],
   "source": [
    "# The calculated F-precision needed to compute at this weight\n",
    "Fprec=n*i\n",
    "\n",
    "# The target precision\n",
    "target_precision=nygaard_exponent(p,i,n)\n",
    "\n",
    "####################\n",
    "# Precision losses #\n",
    "####################\n",
    "\n",
    "### From \\delta\n",
    "precision_loss_delta=math.floor(math.log(Fprec-1,p))\n",
    "\n",
    "### From passing from OK to OK/pi^n\n",
    "precision_loss_quotient=0\n",
    "for q in range(p,i):\n",
    "    precision_loss_quotient+=n*valuation(p,math.factorial(q))\n",
    "    \n",
    "### From lifting nabla to Nygaard\n",
    "precision_loss_nygaard=n*math.floor(i*(i-1)/2)\n",
    "\n",
    "### From computing can-phi on primitives\n",
    "precision_loss_primitives=target_precision\n",
    "\n",
    "### From renormalizing the Eisenstein polynomial\n",
    "precision_loss_from_Eisenstein=1\n",
    "\n",
    "### Probably this precision can be taken to be lower since we will only need the\n",
    "### Fp-coefficient calculation\n",
    "total_precision=(target_precision+precision_loss_delta\n",
    "                 +precision_loss_quotient\n",
    "                 +precision_loss_nygaard\n",
    "                 +precision_loss_primitives\n",
    "                 +precision_loss_from_Eisenstein)\n",
    "\n",
    "print(\"total p-adic precision is {}\".format(total_precision))\n",
    "print(\"Fprec is {}\".format(Fprec))\n",
    "\n",
    "# The coefficient ring W\n",
    "if f==1:\n",
    "    W=Zp(p,total_precision,type='capped-abs',print_mode='digits',show_prec=False)\n",
    "else:\n",
    "    W=Zq(p**f,total_precision,names='a',type='capped-abs',print_mode='series',show_prec=False)\n",
    "    \n",
    "# The Breuil-Kisin ring A\n",
    "A.<z>=PowerSeriesRing(W,Fprec)"
   ]
  },
  {
   "cell_type": "markdown",
   "metadata": {},
   "source": [
    "### User-defined input: the Eisenstein polynomial\n",
    "\n",
    "Note that in order for this to be created in a power series ring with the correct p-adic and F-adic precisions,\n",
    "the elements p,i,n,f should be set above *before* defining the Eisenstein polynomial."
   ]
  },
  {
   "cell_type": "code",
   "execution_count": 4,
   "metadata": {},
   "outputs": [],
   "source": [
    "# The Eisenstein polynomial E\n",
    "E=A(z+p)"
   ]
  },
  {
   "cell_type": "markdown",
   "metadata": {},
   "source": [
    "### The main calculation"
   ]
  },
  {
   "cell_type": "code",
   "execution_count": 5,
   "metadata": {},
   "outputs": [
    {
     "name": "stdout",
     "output_type": "stream",
     "text": [
      "[10]\n",
      "[100   0   0]\n",
      "[100  10   0]\n",
      "[  1   1  10]\n",
      "[0]\n",
      "[0]\n",
      "[1]\n"
     ]
    },
    {
     "name": "stderr",
     "output_type": "stream",
     "text": [
      "<ipython-input-5-3a62c072849d>:9: DeprecationWarning: __getitem__ is changing to match the behavior of number fields. Please use expansion instead.\n",
      "See http://trac.sagemath.org/14825 for details.\n",
      "  a_syn0,a_syn1,a_nablaN,a_nablaP,b_syn0,b_syn1,b_nablaN,b_nablaP,v1N0,v1P0,v1N1,v1P1=syntomic_matrices_v1(p,i,n,E,total_precision,Fprec,debug=False)\n"
     ]
    }
   ],
   "source": [
    "#%%capture\n",
    "# Suppresses some Python warnings and SAGE variable injections\n",
    "\n",
    "# The normalized Eisenstein polynomial\n",
    "# The normalization is to bring the Eisenstein polynomial into the form E(0)=p\n",
    "E=eisenstein_normalization(p,E)\n",
    "\n",
    "if i-p+1>0:\n",
    "    a_syn0,a_syn1,a_nablaN,a_nablaP,b_syn0,b_syn1,b_nablaN,b_nablaP,v1N0,v1P0,v1N1,v1P1=syntomic_matrices_v1(p,i,n,E,total_precision,Fprec,debug=False)"
   ]
  },
  {
   "cell_type": "markdown",
   "metadata": {},
   "source": [
    "### Assembling the syntomic complex and computing its cohomology"
   ]
  },
  {
   "cell_type": "code",
   "execution_count": 14,
   "metadata": {},
   "outputs": [
    {
     "name": "stdout",
     "output_type": "stream",
     "text": [
      "Elementary divisors of K_0(R;Z_p) are []\n",
      "Elementary divisors of K_1(R;Z_p) are [10]\n",
      "Target precision is 3 and final precision is 9\n"
     ]
    }
   ],
   "source": [
    "# The K-groups (cohomology of the p-adic syntomic complex)\n",
    "# New\n",
    "coh_dict,final_precision=syntomic_cohomology(a_syn0,a_syn1,a_nablaN,a_nablaP)\n",
    "\n",
    "print('Elementary divisors of K_{}(R;Z_p)'.format(2*(i-p+1)-2)+' are {}'.format(coh_dict['h2'][1]))\n",
    "print('Elementary divisors of K_{}(R;Z_p)'.format(2*(i-p+1)-1)+' are {}'.format(coh_dict['h1'][1]))\n",
    "print('Target precision is {} and final precision is {}'.format(target_precision,final_precision))"
   ]
  },
  {
   "cell_type": "code",
   "execution_count": 15,
   "metadata": {},
   "outputs": [
    {
     "name": "stdout",
     "output_type": "stream",
     "text": [
      "Elementary divisors of K_2(R;Z_p) are [10]\n",
      "Elementary divisors of K_3(R;Z_p) are [1000]\n",
      "Target precision is 3 and final precision is 4\n"
     ]
    }
   ],
   "source": [
    "# The K-groups (cohomology of the p-adic syntomic complex)\n",
    "# New\n",
    "coh_dict,final_precision=syntomic_cohomology(b_syn0,b_syn1,b_nablaN,b_nablaP)\n",
    "\n",
    "print('Elementary divisors of K_{}(R;Z_p)'.format(2*i-2)+' are {}'.format(coh_dict['h2'][1]))\n",
    "print('Elementary divisors of K_{}(R;Z_p)'.format(2*i-1)+' are {}'.format(coh_dict['h1'][1]))\n",
    "print('Target precision is {} and final precision is {}'.format(target_precision,final_precision))"
   ]
  },
  {
   "cell_type": "code",
   "execution_count": 100,
   "metadata": {},
   "outputs": [
    {
     "data": {
      "text/plain": [
       "{0: Vector space of dimension 1 over Finite Field of size 2,\n",
       " 1: Vector space of dimension 1 over Finite Field of size 2,\n",
       " 2: Vector space of dimension 0 over Finite Field of size 2}"
      ]
     },
     "execution_count": 100,
     "metadata": {},
     "output_type": "execute_result"
    }
   ],
   "source": [
    "a_d0=block_matrix([[a_syn0],[a_nablaN]])\n",
    "a_d1=block_matrix([[a_nablaP,-a_syn1]])\n",
    "a_d0_Fp=Matrix(GF(p),a_d0)\n",
    "a_d1_Fp=Matrix(GF(p),a_d1)\n",
    "a_C=ChainComplex({0:a_d0_Fp,1:a_d1_Fp})\n",
    "a_C.homology()"
   ]
  },
  {
   "cell_type": "code",
   "execution_count": 101,
   "metadata": {},
   "outputs": [
    {
     "data": {
      "text/plain": [
       "{0: Vector space of dimension 1 over Finite Field of size 2,\n",
       " 1: Vector space of dimension 2 over Finite Field of size 2,\n",
       " 2: Vector space of dimension 1 over Finite Field of size 2}"
      ]
     },
     "execution_count": 101,
     "metadata": {},
     "output_type": "execute_result"
    }
   ],
   "source": [
    "b_d0=block_matrix([[b_syn0],[b_nablaN]])\n",
    "b_d1=block_matrix([[b_nablaP,-b_syn1]])\n",
    "b_d0_Fp=Matrix(GF(p),b_d0)\n",
    "b_d1_Fp=Matrix(GF(p),b_d1)\n",
    "b_C=ChainComplex({0:b_d0_Fp,1:b_d1_Fp})\n",
    "b_C.homology()"
   ]
  },
  {
   "cell_type": "code",
   "execution_count": 106,
   "metadata": {},
   "outputs": [
    {
     "data": {
      "text/plain": [
       "[     100        0        0]\n",
       "[      11       10        0]\n",
       "[       1        1       10]\n",
       "[--------------------------]\n",
       "[      10        0        0]\n",
       "[10101011  1010110        0]\n",
       "[10001100  1110001    11110]"
      ]
     },
     "execution_count": 106,
     "metadata": {},
     "output_type": "execute_result"
    }
   ],
   "source": [
    "b_d0"
   ]
  },
  {
   "cell_type": "code",
   "execution_count": 44,
   "metadata": {},
   "outputs": [],
   "source": [
    "M.kernel?"
   ]
  },
  {
   "cell_type": "code",
   "execution_count": 49,
   "metadata": {},
   "outputs": [
    {
     "data": {
      "text/plain": [
       "Vector space of degree 6 and dimension 4 over Finite Field of size 2\n",
       "Basis matrix:\n",
       "[1 0 0 0 0 0]\n",
       "[0 1 0 0 1 0]\n",
       "[0 0 1 0 1 1]\n",
       "[0 0 0 1 0 0]"
      ]
     },
     "execution_count": 49,
     "metadata": {},
     "output_type": "execute_result"
    }
   ],
   "source": [
    "M.left_kernel(basis='pivot')"
   ]
  },
  {
   "cell_type": "code",
   "execution_count": 48,
   "metadata": {},
   "outputs": [
    {
     "data": {
      "text/plain": [
       "Vector space of degree 3 and dimension 1 over Finite Field of size 2\n",
       "Basis matrix:\n",
       "[0 0 1]"
      ]
     },
     "execution_count": 48,
     "metadata": {},
     "output_type": "execute_result"
    }
   ],
   "source": [
    "M.right_kernel(basis='pivot')"
   ]
  },
  {
   "cell_type": "code",
   "execution_count": 47,
   "metadata": {},
   "outputs": [],
   "source": [
    "M.kernel?"
   ]
  },
  {
   "cell_type": "code",
   "execution_count": 51,
   "metadata": {},
   "outputs": [
    {
     "data": {
      "text/plain": [
       "(\n",
       "[1 0 0]  [0 1 0 0 0 0]         \n",
       "[0 1 0]  [0 1 1 0 0 0]         \n",
       "[0 0 0]  [1 0 0 0 0 0]         \n",
       "[0 0 0]  [0 0 0 1 0 0]  [1 0 0]\n",
       "[0 0 0]  [0 1 0 0 1 0]  [0 1 0]\n",
       "[0 0 0], [0 1 1 0 0 1], [0 0 1]\n",
       ")"
      ]
     },
     "execution_count": 51,
     "metadata": {},
     "output_type": "execute_result"
    }
   ],
   "source": [
    "M.smith_form()"
   ]
  },
  {
   "cell_type": "code",
   "execution_count": 54,
   "metadata": {},
   "outputs": [],
   "source": [
    "M.smith_form?"
   ]
  },
  {
   "cell_type": "code",
   "execution_count": 55,
   "metadata": {},
   "outputs": [
    {
     "data": {
      "text/plain": [
       "Chain complex with at most 3 nonzero terms over Finite Field of size 2"
      ]
     },
     "execution_count": 55,
     "metadata": {},
     "output_type": "execute_result"
    }
   ],
   "source": [
    "a_C"
   ]
  },
  {
   "cell_type": "code",
   "execution_count": 56,
   "metadata": {},
   "outputs": [
    {
     "data": {
      "text/plain": [
       "Chain complex with at most 3 nonzero terms over Finite Field of size 2"
      ]
     },
     "execution_count": 56,
     "metadata": {},
     "output_type": "execute_result"
    }
   ],
   "source": [
    "b_C"
   ]
  },
  {
   "cell_type": "code",
   "execution_count": 57,
   "metadata": {},
   "outputs": [
    {
     "data": {
      "text/plain": [
       "                        [0]      \n",
       "            [1 1]       [0]      \n",
       " 0 <-- C_2 <------ C_1 <---- C_0 <-- 0 "
      ]
     },
     "execution_count": 57,
     "metadata": {},
     "output_type": "execute_result"
    }
   ],
   "source": [
    "ascii_art(a_C)"
   ]
  },
  {
   "cell_type": "code",
   "execution_count": 58,
   "metadata": {},
   "outputs": [
    {
     "data": {
      "text/plain": [
       "                                [0 0 0]      \n",
       "                                [1 0 0]      \n",
       "                                [1 1 0]      \n",
       "            [1 0 0 0 0 0]       [0 0 0]      \n",
       "            [0 0 0 0 0 0]       [1 0 0]      \n",
       "            [0 0 1 0 1 1]       [0 1 0]      \n",
       " 0 <-- C_2 <-------------- C_1 <-------- C_0 <-- 0 "
      ]
     },
     "execution_count": 58,
     "metadata": {},
     "output_type": "execute_result"
    }
   ],
   "source": [
    "ascii_art(b_C)"
   ]
  },
  {
   "cell_type": "code",
   "execution_count": 97,
   "metadata": {},
   "outputs": [],
   "source": [
    "v1_0=Matrix(GF(p),v1N0)\n",
    "v1_1=Matrix(GF(p),block_matrix([[v1P0,0],[0,v1N1]]))\n",
    "v1_2=Matrix(GF(p),v1P1)"
   ]
  },
  {
   "cell_type": "code",
   "execution_count": 107,
   "metadata": {},
   "outputs": [
    {
     "data": {
      "text/plain": [
       "[         0|         0]\n",
       "[         0|         0]\n",
       "[1110001111|         0]\n",
       "[----------+----------]\n",
       "[         0|         0]\n",
       "[         0|         0]\n",
       "[         0|         1]"
      ]
     },
     "execution_count": 107,
     "metadata": {},
     "output_type": "execute_result"
    }
   ],
   "source": [
    "ascii_art(block_matrix([[v1P0,0],[0,v1N1]]))"
   ]
  },
  {
   "cell_type": "code",
   "execution_count": 96,
   "metadata": {},
   "outputs": [
    {
     "data": {
      "text/plain": [
       "[0 0]\n",
       "[0 0]\n",
       "[1 0]\n",
       "[0 0]\n",
       "[0 0]\n",
       "[0 1]"
      ]
     },
     "execution_count": 96,
     "metadata": {},
     "output_type": "execute_result"
    }
   ],
   "source": [
    "ascii_art(v1_1)"
   ]
  },
  {
   "cell_type": "code",
   "execution_count": 98,
   "metadata": {},
   "outputs": [
    {
     "name": "stdout",
     "output_type": "stream",
     "text": [
      "(1, 1)\n",
      "(1, 3)\n",
      "(3, 3)\n",
      "(3, 1)\n",
      "(1, 1)\n"
     ]
    }
   ],
   "source": [
    "B=a_C.differential(0).right_kernel().basis_matrix().transpose()\n",
    "A=b_C.differential(0).right_kernel().basis_matrix().transpose()\n",
    "S,U,V=A.smith_form()\n",
    "r=S.rank()\n",
    "print(V.dimensions())\n",
    "print(standard_projection_matrix(r,i*n-1).dimensions())\n",
    "print(U.dimensions())\n",
    "print(v1_0.dimensions())\n",
    "print(B.dimensions())\n",
    "v1_H0=V*Matrix(GF(p),standard_projection_matrix(r,i*n-1))*U*v1_0*B"
   ]
  },
  {
   "cell_type": "code",
   "execution_count": 138,
   "metadata": {},
   "outputs": [],
   "source": [
    "def kernel_image_factorization(M):\n",
    "    # Returns A,B where A is the projection onto the image and B is the inclusion of the image.\n",
    "    S,U,V=M.smith_form()\n",
    "    print(S.dimensions())\n",
    "    print(U.dimensions())\n",
    "    print(V.dimensions())\n",
    "    r=S.rank()\n",
    "    P=standard_projection_matrix(r,M.dimensions()[1])\n",
    "    Q=standard_projection_matrix(r,M.dimensions()[0]).transpose()\n",
    "    print(P.dimensions())\n",
    "    print(Q.dimensions())\n",
    "    return P*V^(-1),U^(-1)*Q"
   ]
  },
  {
   "cell_type": "code",
   "execution_count": 139,
   "metadata": {},
   "outputs": [
    {
     "data": {
      "text/plain": [
       "[0 0]\n",
       "[0 0]\n",
       "[1 0]\n",
       "[0 0]\n",
       "[0 0]\n",
       "[0 1]"
      ]
     },
     "execution_count": 139,
     "metadata": {},
     "output_type": "execute_result"
    }
   ],
   "source": [
    "v1_1"
   ]
  },
  {
   "cell_type": "code",
   "execution_count": 141,
   "metadata": {},
   "outputs": [
    {
     "name": "stdout",
     "output_type": "stream",
     "text": [
      "(6, 2)\n",
      "(6, 6)\n",
      "(2, 2)\n",
      "(2, 2)\n",
      "(6, 2)\n"
     ]
    }
   ],
   "source": [
    "A,B=kernel_image_factorization(v1_1)"
   ]
  },
  {
   "cell_type": "code",
   "execution_count": 142,
   "metadata": {},
   "outputs": [
    {
     "data": {
      "text/plain": [
       "[0 0]\n",
       "[0 0]\n",
       "[1 0]\n",
       "[0 0]\n",
       "[0 0]\n",
       "[0 1]"
      ]
     },
     "execution_count": 142,
     "metadata": {},
     "output_type": "execute_result"
    }
   ],
   "source": [
    "B*A"
   ]
  },
  {
   "cell_type": "code",
   "execution_count": 117,
   "metadata": {},
   "outputs": [
    {
     "name": "stdout",
     "output_type": "stream",
     "text": [
      "(1, 3)\n",
      "(3, 1)\n",
      "(1, 0)\n"
     ]
    }
   ],
   "source": [
    "A=a_C.differential(1)\n",
    "B=b_C.differential(1)\n",
    "S,U,V=A.smith_form()\n",
    "r=S.rank()\n",
    "s=A.dimensions()[0]\n",
    "X=block_matrix([[Matrix(GF(p),r,s-r)],[identity_matrix(s-r)]])\n",
    "Y=U^(-1)*X\n",
    "S,U,V=B.smith_form()\n",
    "r=S.rank()\n",
    "s=B.dimensions()[0]\n",
    "Z=block_matrix([[Matrix(GF(p),r,s-r)],[identity_matrix(s-r)]]).transpose()\n",
    "print(Z.dimensions())\n",
    "print(v1_2.dimensions())\n",
    "print(Y.dimensions())\n",
    "v1_H2=Z*v1_2*Y"
   ]
  },
  {
   "cell_type": "code",
   "execution_count": 119,
   "metadata": {},
   "outputs": [
    {
     "data": {
      "text/plain": [
       "(1, 0)"
      ]
     },
     "execution_count": 119,
     "metadata": {},
     "output_type": "execute_result"
    }
   ],
   "source": [
    "v1_H2.dimensions()"
   ]
  },
  {
   "cell_type": "code",
   "execution_count": 77,
   "metadata": {},
   "outputs": [
    {
     "data": {
      "text/plain": [
       "[1 0 0]"
      ]
     },
     "execution_count": 77,
     "metadata": {},
     "output_type": "execute_result"
    }
   ],
   "source": [
    "standard_projection_matrix(1,3)"
   ]
  },
  {
   "cell_type": "code",
   "execution_count": 85,
   "metadata": {},
   "outputs": [],
   "source": [
    "M.dimensions?"
   ]
  },
  {
   "cell_type": "code",
   "execution_count": 86,
   "metadata": {},
   "outputs": [
    {
     "data": {
      "text/plain": [
       "(\n",
       "              [0 0 1]\n",
       "              [0 1 0]\n",
       "[1 0 0], [1], [1 0 0]\n",
       ")"
      ]
     },
     "execution_count": 86,
     "metadata": {},
     "output_type": "execute_result"
    }
   ],
   "source": [
    "A.smith_form()"
   ]
  },
  {
   "cell_type": "code",
   "execution_count": 88,
   "metadata": {},
   "outputs": [
    {
     "data": {
      "text/plain": [
       "[0 0 1]"
      ]
     },
     "execution_count": 88,
     "metadata": {},
     "output_type": "execute_result"
    }
   ],
   "source": [
    "A=b_C.differential(0).right_kernel().basis_matrix();A"
   ]
  },
  {
   "cell_type": "code",
   "execution_count": 89,
   "metadata": {},
   "outputs": [
    {
     "name": "stdout",
     "output_type": "stream",
     "text": [
      "Object `smith_form` not found.\n"
     ]
    }
   ],
   "source": [
    "A,smith_form?"
   ]
  },
  {
   "cell_type": "code",
   "execution_count": 90,
   "metadata": {},
   "outputs": [],
   "source": [
    "A.smith_form?"
   ]
  },
  {
   "cell_type": "code",
   "execution_count": 91,
   "metadata": {},
   "outputs": [
    {
     "data": {
      "text/plain": [
       "(\n",
       "              [0 0 1]\n",
       "              [0 1 0]\n",
       "[1 0 0], [1], [1 0 0]\n",
       ")"
      ]
     },
     "execution_count": 91,
     "metadata": {},
     "output_type": "execute_result"
    }
   ],
   "source": [
    "A.smith_form()"
   ]
  },
  {
   "cell_type": "code",
   "execution_count": 109,
   "metadata": {},
   "outputs": [],
   "source": [
    "Y=Matrix(ZZ,5,5)"
   ]
  },
  {
   "cell_type": "code",
   "execution_count": 110,
   "metadata": {},
   "outputs": [
    {
     "data": {
      "text/plain": [
       "[0 0 0 0 0]\n",
       "[0 0 0 0 0]\n",
       "[0 0 0 0 0]\n",
       "[0 0 0 0 0]\n",
       "[0 0 0 0 0]"
      ]
     },
     "execution_count": 110,
     "metadata": {},
     "output_type": "execute_result"
    }
   ],
   "source": [
    "Y"
   ]
  },
  {
   "cell_type": "code",
   "execution_count": 122,
   "metadata": {},
   "outputs": [],
   "source": [
    "A=standard_projection_matrix(2,3)\n",
    "B=A.transpose()"
   ]
  },
  {
   "cell_type": "code",
   "execution_count": 123,
   "metadata": {},
   "outputs": [
    {
     "data": {
      "text/plain": [
       "[1 0]\n",
       "[0 1]\n",
       "[0 0]"
      ]
     },
     "execution_count": 123,
     "metadata": {},
     "output_type": "execute_result"
    }
   ],
   "source": [
    "B"
   ]
  },
  {
   "cell_type": "code",
   "execution_count": 124,
   "metadata": {},
   "outputs": [
    {
     "data": {
      "text/plain": [
       "[1 0]\n",
       "[0 1]"
      ]
     },
     "execution_count": 124,
     "metadata": {},
     "output_type": "execute_result"
    }
   ],
   "source": [
    "A*B"
   ]
  },
  {
   "cell_type": "code",
   "execution_count": 125,
   "metadata": {},
   "outputs": [
    {
     "data": {
      "text/plain": [
       "[1 0 0]\n",
       "[0 1 0]\n",
       "[0 0 0]"
      ]
     },
     "execution_count": 125,
     "metadata": {},
     "output_type": "execute_result"
    }
   ],
   "source": [
    "B*A"
   ]
  },
  {
   "cell_type": "code",
   "execution_count": 143,
   "metadata": {},
   "outputs": [
    {
     "data": {
      "text/plain": [
       "Chain complex with at most 3 nonzero terms over Finite Field of size 2"
      ]
     },
     "execution_count": 143,
     "metadata": {},
     "output_type": "execute_result"
    }
   ],
   "source": [
    "a_C"
   ]
  },
  {
   "cell_type": "code",
   "execution_count": 145,
   "metadata": {},
   "outputs": [
    {
     "data": {
      "text/plain": [
       "                                [0 0 0]      \n",
       "                                [1 0 0]      \n",
       "                                [1 1 0]      \n",
       "            [1 0 0 0 0 0]       [0 0 0]      \n",
       "            [0 0 0 0 0 0]       [1 0 0]      \n",
       "            [0 0 1 0 1 1]       [0 1 0]      \n",
       " 0 <-- C_2 <-------------- C_1 <-------- C_0 <-- 0 "
      ]
     },
     "execution_count": 145,
     "metadata": {},
     "output_type": "execute_result"
    }
   ],
   "source": [
    "ascii_art(b_C)"
   ]
  },
  {
   "cell_type": "code",
   "execution_count": 377,
   "metadata": {},
   "outputs": [],
   "source": [
    "def complex_smith_form(C):\n",
    "    # Returns a triple (D,f,g) where each differential is in ``Smith form''\n",
    "    # and f is a map of chain complexes C -> D.\n",
    "    # Assumes that the degree of the differential is +1.\n",
    "    nz=C.nonzero_degrees()\n",
    "    deg_min=min(nz)\n",
    "    deg_max=max(nz)\n",
    "    # The number of differentials\n",
    "    lt=deg_max-deg_min\n",
    "    f_dict={}\n",
    "    g_dict={}\n",
    "    for i in range(deg_min,deg_max+1):\n",
    "        f_dict[i]=identity_matrix(C.free_module_rank(i))\n",
    "        g_dict[i]=identity_matrix(C.free_module_rank(i))\n",
    "    D_dict={}\n",
    "    j=0\n",
    "    S,U,V=C.differential()[deg_max-(j+1)].smith_form()\n",
    "    D_dict[deg_max-(j+1)]=S\n",
    "    f_dict[deg_max-j]=U*f_dict[deg_max-j]\n",
    "    f_dict[deg_max-(j+1)]=V^(-1)*f_dict[deg_max-(j+1)]\n",
    "    g_dict[deg_max-j]=g_dict[deg_max-j]*U^(-1)\n",
    "    g_dict[deg_max-(j+1)]=g_dict[deg_max-(j+1)]*V    \n",
    "    for j in range(1,lt):\n",
    "        new_d=f_dict[deg_max-j]*C.differential()[deg_max-(j+1)]\n",
    "        col_offset=0\n",
    "        row_offset=D_dict[deg_max-j].transpose().rank()\n",
    "        col_num=C.differential()[deg_max-(j+1)].dimensions()[1]\n",
    "        row_num=D_dict[deg_max-j].transpose().nullity()\n",
    "        new_d_sub=new_d.submatrix(row_offset,col_offset,row_num,col_num)\n",
    "        S_sub,U_sub,V=new_d_sub.smith_form()\n",
    "        S=block_matrix([[Matrix(row_offset,col_num)],[S_sub]])\n",
    "        U=block_matrix([[identity_matrix(row_offset),0],[0,U_sub]])\n",
    "        f_dict[deg_max-j]=U*f_dict[deg_max-j]\n",
    "        f_dict[deg_max-(j+1)]=V^(-1)*f_dict[deg_max-(j+1)]\n",
    "        g_dict[deg_max-j]=g_dict[deg_max-j]*U^(-1)\n",
    "        g_dict[deg_max-(j+1)]=g_dict[deg_max-(j+1)]*V\n",
    "        D_dict[deg_max-(j+1)]=S\n",
    "    return ChainComplex(D_dict),f_dict,g_dict\n",
    "\n",
    "def homology_smith_form(D,i):\n",
    "    nz=D.nonzero_degrees()\n",
    "    deg_min=min(nz)\n",
    "    deg_max=max(nz)\n",
    "    if i<deg_min or i>deg_max:\n",
    "        return []\n",
    "    elif i==deg_max:\n",
    "        num_gens=D.differential()[i-1].nrows()\n",
    "        offset=0\n",
    "        l=[]\n",
    "        for j in range(num_gens):\n",
    "            if j<D.differential()[i-1].ncols() and j+offset<D.differential()[i-1].nrows():\n",
    "                div=D.differential()[i-1][j+offset,j]\n",
    "                if not div.is_unit():\n",
    "                    l.append(div)\n",
    "            else:\n",
    "                l.append(0)\n",
    "        return l\n",
    "    elif i>deg_min:\n",
    "        num_gens=D.differential()[i].ncols()-D.differential()[i].rank()\n",
    "        l=[]\n",
    "        offset=D.differential()[i].rank()\n",
    "        for j in range(num_gens):\n",
    "            if j<D.differential()[i-1].ncols() and j+offset<D.differential()[i-1].nrows():\n",
    "                div=D.differential()[i-1][j+offset,j]\n",
    "                if not div.is_unit():\n",
    "                    l.append(div)\n",
    "            else:\n",
    "                l.append(0)\n",
    "        return l\n",
    "    elif i==deg_min:\n",
    "        num_gens=D.differential()[i].ncols()-D.differential()[i].rank()\n",
    "        l=[0]*num_gens\n",
    "        return l\n",
    "    \n",
    "def morphism_homology(A,A_smith,fA,gA,B,B_smith,fB,gB,F,i):\n",
    "    new_F=fB[i]*F[i]*gA[i]\n",
    "    x=len(homology_smith_form(A_smith,i))\n",
    "    y=len(homology_smith_form(B_smith,i))\n",
    "    return new_F.submatrix(new_F.nrows()-y,new_F.ncols()-x)"
   ]
  },
  {
   "cell_type": "code",
   "execution_count": 387,
   "metadata": {},
   "outputs": [
    {
     "data": {
      "text/plain": [
       "[0]\n",
       "[0]"
      ]
     },
     "execution_count": 387,
     "metadata": {},
     "output_type": "execute_result"
    }
   ],
   "source": [
    "v1={0:v1_0,1:v1_1,2:v1_2}\n",
    "a_C_smith,f_a,g_a=complex_smith_form(a_C)\n",
    "b_C_smith,f_b,g_b=complex_smith_form(b_C)\n",
    "morphism_homology(a_C,a_C_smith,f_a,g_a,b_C,b_C_smith,f_b,g_b,v1,1)"
   ]
  },
  {
   "cell_type": "code",
   "execution_count": 388,
   "metadata": {},
   "outputs": [
    {
     "data": {
      "text/plain": [
       "                        [0]      \n",
       "                        [-]      \n",
       "            [1 0]       [0]      \n",
       " 0 <-- C_2 <------ C_1 <---- C_0 <-- 0 "
      ]
     },
     "execution_count": 388,
     "metadata": {},
     "output_type": "execute_result"
    }
   ],
   "source": [
    "ascii_art(a_C_smith)"
   ]
  },
  {
   "cell_type": "code",
   "execution_count": 389,
   "metadata": {},
   "outputs": [
    {
     "data": {
      "text/plain": [
       "                                [0 0 0]      \n",
       "                                [0 0 0]      \n",
       "                                [-----]      \n",
       "                                [1 0 0]      \n",
       "            [1 0 0 0 0 0]       [0 1 0]      \n",
       "            [0 1 0 0 0 0]       [0 0 0]      \n",
       "            [0 0 0 0 0 0]       [0 0 0]      \n",
       " 0 <-- C_2 <-------------- C_1 <-------- C_0 <-- 0 "
      ]
     },
     "execution_count": 389,
     "metadata": {},
     "output_type": "execute_result"
    }
   ],
   "source": [
    "ascii_art(b_C_smith)"
   ]
  },
  {
   "cell_type": "code",
   "execution_count": 390,
   "metadata": {},
   "outputs": [
    {
     "data": {
      "text/plain": [
       "                        [0]      \n",
       "            [1 1]       [0]      \n",
       " 0 <-- C_2 <------ C_1 <---- C_0 <-- 0 "
      ]
     },
     "execution_count": 390,
     "metadata": {},
     "output_type": "execute_result"
    }
   ],
   "source": [
    "ascii_art(a_C)"
   ]
  },
  {
   "cell_type": "code",
   "execution_count": 391,
   "metadata": {},
   "outputs": [
    {
     "data": {
      "text/plain": [
       "                                [0 0 0]      \n",
       "                                [1 0 0]      \n",
       "                                [1 1 0]      \n",
       "            [1 0 0 0 0 0]       [0 0 0]      \n",
       "            [0 0 0 0 0 0]       [1 0 0]      \n",
       "            [0 0 1 0 1 1]       [0 1 0]      \n",
       " 0 <-- C_2 <-------------- C_1 <-------- C_0 <-- 0 "
      ]
     },
     "execution_count": 391,
     "metadata": {},
     "output_type": "execute_result"
    }
   ],
   "source": [
    "ascii_art(b_C)"
   ]
  },
  {
   "cell_type": "code",
   "execution_count": 392,
   "metadata": {},
   "outputs": [
    {
     "data": {
      "text/plain": [
       "[0]\n",
       "[0]\n",
       "[1]"
      ]
     },
     "execution_count": 392,
     "metadata": {},
     "output_type": "execute_result"
    }
   ],
   "source": [
    "v1[0]"
   ]
  },
  {
   "cell_type": "code",
   "execution_count": 393,
   "metadata": {},
   "outputs": [
    {
     "data": {
      "text/plain": [
       "[0 0]\n",
       "[0 0]\n",
       "[1 0]\n",
       "[0 0]\n",
       "[0 0]\n",
       "[0 1]"
      ]
     },
     "execution_count": 393,
     "metadata": {},
     "output_type": "execute_result"
    }
   ],
   "source": [
    "v1[1]"
   ]
  },
  {
   "cell_type": "code",
   "execution_count": 394,
   "metadata": {},
   "outputs": [
    {
     "data": {
      "text/plain": [
       "[0]\n",
       "[0]\n",
       "[1]"
      ]
     },
     "execution_count": 394,
     "metadata": {},
     "output_type": "execute_result"
    }
   ],
   "source": [
    "v1[2]"
   ]
  },
  {
   "cell_type": "code",
   "execution_count": 396,
   "metadata": {},
   "outputs": [
    {
     "data": {
      "text/plain": [
       "True"
      ]
     },
     "execution_count": 396,
     "metadata": {},
     "output_type": "execute_result"
    }
   ],
   "source": [
    "v1[1]*a_C.differential()[0]==b_C.differential()[0]*v1[0]"
   ]
  },
  {
   "cell_type": "code",
   "execution_count": 397,
   "metadata": {},
   "outputs": [
    {
     "data": {
      "text/plain": [
       "True"
      ]
     },
     "execution_count": 397,
     "metadata": {},
     "output_type": "execute_result"
    }
   ],
   "source": [
    "v1[2]*a_C.differential()[1]==b_C.differential()[1]*v1[1]"
   ]
  },
  {
   "cell_type": "code",
   "execution_count": null,
   "metadata": {},
   "outputs": [],
   "source": [
    "f"
   ]
  }
 ],
 "metadata": {
  "kernelspec": {
   "display_name": "SageMath 9.4",
   "language": "sage",
   "name": "sagemath-9.4"
  },
  "language_info": {
   "codemirror_mode": {
    "name": "ipython",
    "version": 3
   },
   "file_extension": ".py",
   "mimetype": "text/x-python",
   "name": "python",
   "nbconvert_exporter": "python",
   "pygments_lexer": "ipython3",
   "version": "3.9.5"
  }
 },
 "nbformat": 4,
 "nbformat_minor": 4
}
