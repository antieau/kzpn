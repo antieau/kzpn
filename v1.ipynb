{
 "cells": [
  {
   "cell_type": "code",
   "execution_count": 1,
   "metadata": {},
   "outputs": [],
   "source": [
    "# Imports\n",
    "load('prismatic_envelope.sage')\n",
    "load('homology.sage')\n",
    "load('precision.py')"
   ]
  },
  {
   "cell_type": "markdown",
   "metadata": {},
   "source": [
    "### User-defined input"
   ]
  },
  {
   "cell_type": "code",
   "execution_count": 51,
   "metadata": {},
   "outputs": [
    {
     "name": "stdout",
     "output_type": "stream",
     "text": [
      "total p-adic precision is 154\n",
      "Fprec is 24\n"
     ]
    }
   ],
   "source": [
    "# The prime p\n",
    "p=2\n",
    "\n",
    "# The motivic weight i in F_p(i)^red\n",
    "i=8\n",
    "\n",
    "# The power of the uniformizer n\n",
    "n=3\n",
    "\n",
    "# The residual degree f\n",
    "# The present code only supports totally ramified extensions of Qp,\n",
    "# i.e., where f=1\n",
    "f=1\n",
    "\n",
    "Fprec,total_precision=target_total_precision(p,i,n)\n",
    "\n",
    "print(\"total p-adic precision is {}\".format(total_precision))\n",
    "print(\"Fprec is {}\".format(Fprec))\n",
    "\n",
    "# The coefficient ring W\n",
    "if f==1:\n",
    "    W=Zp(p,total_precision,type='capped-abs',print_mode='digits',show_prec=False)\n",
    "else:\n",
    "    W=Zq(p**f,total_precision,names='a',type='capped-abs',print_mode='series',show_prec=False)\n",
    "    \n",
    "# The Breuil-Kisin ring A\n",
    "A.<z>=PowerSeriesRing(W,Fprec)\n",
    "\n",
    "# The Eisenstein polynomial E\n",
    "# USER DEFINED\n",
    "E=A(z+p)"
   ]
  },
  {
   "cell_type": "markdown",
   "metadata": {},
   "source": [
    "### The main calculation"
   ]
  },
  {
   "cell_type": "code",
   "execution_count": 52,
   "metadata": {},
   "outputs": [],
   "source": [
    "#%%capture\n",
    "# Suppresses some Python warnings and SAGE variable injections\n",
    "\n",
    "# The normalized Eisenstein polynomial\n",
    "# The normalization is to bring the Eisenstein polynomial into the form E(0)=p\n",
    "E=eisenstein_normalization(p,E)\n",
    "\n",
    "#if i-p+1>0:\n",
    "#    a_syn0,a_syn1,a_nablaN,a_nablaP,a_gens_N0,a_gens_P0,a_gens_N1,a_gens_P1=syntomic_matrices(p,i-p+1,n,E,total_precision,Fprec,debug=False)\n",
    "#    b_syn0,b_syn1,b_nablaN,b_nablaP,b_gens_N0,b_gens_P0,b_gens_N1,b_gens_P1=syntomic_matrices(p,i,n,E,total_precision,Fprec,debug=False)"
   ]
  },
  {
   "cell_type": "code",
   "execution_count": 63,
   "metadata": {},
   "outputs": [
    {
     "name": "stderr",
     "output_type": "stream",
     "text": [
      "<string>:750: DeprecationWarning: __getitem__ is changing to match the behavior of number fields. Please use expansion instead.\n",
      "See https://github.com/sagemath/sage/issues/14825 for details.\n",
      "<string>:769: DeprecationWarning: __getitem__ is changing to match the behavior of number fields. Please use expansion instead.\n",
      "See https://github.com/sagemath/sage/issues/14825 for details.\n",
      "<string>:786: DeprecationWarning: __getitem__ is changing to match the behavior of number fields. Please use expansion instead.\n",
      "See https://github.com/sagemath/sage/issues/14825 for details.\n",
      "<string>:796: DeprecationWarning: __getitem__ is changing to match the behavior of number fields. Please use expansion instead.\n",
      "See https://github.com/sagemath/sage/issues/14825 for details.\n",
      "<string>:810: DeprecationWarning: __getitem__ is changing to match the behavior of number fields. Please use expansion instead.\n",
      "See https://github.com/sagemath/sage/issues/14825 for details.\n",
      "<string>:829: DeprecationWarning: __getitem__ is changing to match the behavior of number fields. Please use expansion instead.\n",
      "See https://github.com/sagemath/sage/issues/14825 for details.\n",
      "<string>:853: DeprecationWarning: __getitem__ is changing to match the behavior of number fields. Please use expansion instead.\n",
      "See https://github.com/sagemath/sage/issues/14825 for details.\n",
      "<string>:866: DeprecationWarning: __getitem__ is changing to match the behavior of number fields. Please use expansion instead.\n",
      "See https://github.com/sagemath/sage/issues/14825 for details.\n"
     ]
    }
   ],
   "source": [
    "syn_cplx_lower=SyntomicComplex(p,i-p+1,n,E,total_precision,Fprec,debug=False)\n",
    "syn_cplx=SyntomicComplex(p,i,n,E,total_precision+20,Fprec+10,debug=False)"
   ]
  },
  {
   "cell_type": "code",
   "execution_count": null,
   "metadata": {},
   "outputs": [],
   "source": []
  },
  {
   "cell_type": "code",
   "execution_count": 66,
   "metadata": {},
   "outputs": [],
   "source": [
    "syn_cplx.compute_mod_p_homology()\n",
    "syn_cplx_lower.compute_mod_p_homology()"
   ]
  },
  {
   "cell_type": "code",
   "execution_count": 67,
   "metadata": {},
   "outputs": [],
   "source": [
    "#syn_cplx.print_mod_p_homology()"
   ]
  },
  {
   "cell_type": "code",
   "execution_count": 70,
   "metadata": {},
   "outputs": [
    {
     "name": "stdout",
     "output_type": "stream",
     "text": [
      "E^0f3+O(F>=34)\n"
     ]
    },
    {
     "data": {
      "text/plain": [
       "'E^0f3∇z+O(F>=34)'"
      ]
     },
     "execution_count": 70,
     "metadata": {},
     "output_type": "execute_result"
    }
   ],
   "source": [
    "nablaN_mod_p=Matrix(GF(2),syn_cplx.nablaN)\n",
    "\n",
    "print(syn_cplx.name_element('N0',23*[0] + [1]))\n",
    "syn_cplx.name_element('N1',nablaN_mod_p.column(24))"
   ]
  },
  {
   "cell_type": "code",
   "execution_count": 73,
   "metadata": {},
   "outputs": [
    {
     "name": "stdout",
     "output_type": "stream",
     "text": [
      "[0 0 0 0 0 0 0 0 0 0 0 0 0 0 0 0 0 0 0 0 0 0 0 0 0 0 0 0 0 0 0 0 0]\n",
      "[1 0 0 0 0 0 0 0 0 0 0 0 0 0 0 0 0 0 0 0 0 0 0 0 0 0 0 0 0 0 0 0 0]\n",
      "[0 0 1 0 0 0 0 0 0 0 0 0 0 0 0 0 0 0 0 0 0 0 0 0 0 0 0 0 0 0 0 0 0]\n",
      "[0 0 1 0 0 0 0 0 0 0 0 0 0 0 0 0 0 0 0 0 0 0 0 0 0 0 0 0 0 0 0 0 0]\n",
      "[0 0 0 1 0 0 0 0 0 0 0 0 0 0 0 0 0 0 0 0 0 0 0 0 0 0 0 0 0 0 0 0 0]\n",
      "[0 1 1 0 0 1 0 0 0 0 0 0 0 0 0 0 0 0 0 0 0 0 0 0 0 0 0 0 0 0 0 0 0]\n",
      "[0 0 0 0 0 0 0 0 0 0 0 0 0 0 0 0 0 0 0 0 0 0 0 0 0 0 0 0 0 0 0 0 0]\n",
      "[0 0 0 0 0 0 1 0 0 0 0 0 0 0 0 0 0 0 0 0 0 0 0 0 0 0 0 0 0 0 0 0 0]\n",
      "[0 0 0 0 0 0 0 0 1 0 0 0 0 0 0 0 0 0 0 0 0 0 0 0 0 0 0 0 0 0 0 0 0]\n",
      "[0 0 0 0 0 0 0 0 1 0 0 0 0 0 0 0 0 0 0 0 0 0 0 0 0 0 0 0 0 0 0 0 0]\n",
      "[0 0 0 1 0 0 1 0 0 1 0 0 0 0 0 0 0 0 0 0 0 0 0 0 0 0 0 0 0 0 0 0 0]\n",
      "[0 1 1 0 0 1 0 0 0 0 0 1 0 0 0 0 0 0 0 0 0 0 0 0 0 0 0 0 0 0 0 0 0]\n",
      "[0 0 0 0 0 0 0 0 0 0 0 0 0 0 0 0 0 0 0 0 0 0 0 0 0 0 0 0 0 0 0 0 0]\n",
      "[0 0 0 0 0 0 0 0 0 0 0 0 1 0 0 0 0 0 0 0 0 0 0 0 0 0 0 0 0 0 0 0 0]\n",
      "[0 0 0 0 0 0 0 0 0 0 0 0 0 0 1 0 0 0 0 0 0 0 0 0 0 0 0 0 0 0 0 0 0]\n",
      "[0 0 0 0 0 0 0 0 0 0 0 0 0 0 1 0 0 0 0 0 0 0 0 0 0 0 0 0 0 0 0 0 0]\n",
      "[0 0 0 0 0 0 0 0 0 0 0 0 0 0 0 1 0 0 0 0 0 0 0 0 0 0 0 0 0 0 0 0 0]\n",
      "[0 0 0 0 0 0 0 0 0 0 0 0 0 1 1 0 0 1 0 0 0 0 0 0 0 0 0 0 0 0 0 0 0]\n",
      "[0 0 0 0 0 0 0 0 0 0 0 0 0 0 0 0 0 0 0 0 0 0 0 0 0 0 0 0 0 0 0 0 0]\n",
      "[0 0 0 0 0 0 0 0 0 0 0 0 0 0 0 0 0 0 1 0 0 0 0 0 0 0 0 0 0 0 0 0 0]\n",
      "[0 0 0 0 0 0 0 0 0 0 0 0 0 0 0 0 0 0 0 0 1 0 0 0 0 0 0 0 0 0 0 0 0]\n",
      "[0 0 0 0 0 0 0 0 0 0 0 0 0 0 0 0 0 0 0 0 1 0 0 0 0 0 0 0 0 0 0 0 0]\n",
      "[0 0 0 0 0 0 0 0 0 0 0 0 0 0 0 1 0 0 1 0 0 1 0 0 0 0 0 0 0 0 0 0 0]\n",
      "[0 0 0 0 0 0 0 0 0 0 0 1 0 1 1 0 0 1 0 0 0 0 0 1 0 0 0 0 0 0 0 0 0]\n",
      "[0 0 0 0 0 0 0 0 0 0 0 0 0 0 0 0 0 0 0 0 0 0 0 0 1 0 0 0 0 0 0 0 0]\n",
      "[0 0 0 0 0 0 0 0 0 0 0 0 0 0 0 0 0 0 0 0 0 0 0 0 0 0 0 0 0 0 0 0 0]\n",
      "[0 0 0 0 0 0 0 0 0 0 0 0 0 0 0 0 0 0 0 0 0 0 0 0 0 0 1 0 0 0 0 0 0]\n",
      "[0 0 0 0 0 0 0 0 0 0 0 0 0 0 0 0 0 0 0 0 0 0 0 0 0 1 0 0 0 0 0 0 0]\n",
      "[0 0 0 0 0 0 0 0 0 0 0 0 0 0 0 0 0 0 0 0 0 0 0 0 0 0 1 0 1 0 0 0 0]\n",
      "[0 0 0 0 0 0 0 0 0 0 0 0 0 0 0 0 0 0 0 0 0 0 0 0 0 1 0 0 0 1 0 0 0]\n",
      "[0 0 0 0 0 0 0 0 0 0 0 0 0 0 0 0 0 0 0 0 0 0 0 0 0 0 0 0 0 0 1 0 0]\n",
      "[0 0 0 0 0 0 0 0 0 0 0 0 0 0 0 0 0 0 0 0 0 0 0 0 0 0 0 0 0 1 0 0 0]\n",
      "[0 0 0 0 0 0 0 0 0 0 0 0 0 0 0 0 0 0 0 0 0 0 0 0 0 0 0 0 0 0 0 0 1]\n"
     ]
    }
   ],
   "source": [
    "print(nablaN_mod_p)"
   ]
  },
  {
   "cell_type": "code",
   "execution_count": 74,
   "metadata": {},
   "outputs": [
    {
     "name": "stdout",
     "output_type": "stream",
     "text": [
      "[0 0 0 0 0 0 0 0 0 0 0 0 0 0 0 0 0 0 0 0 0 0 0 0 0 0 0 0 0 0 0 0 0]\n",
      "[1 0 0 0 0 0 0 0 0 0 0 0 0 0 0 0 0 0 0 0 0 0 0 0 0 0 0 0 0 0 0 0 0]\n",
      "[0 0 0 0 0 0 0 0 0 0 0 0 0 0 0 0 0 0 0 0 0 0 0 0 0 0 0 0 0 0 0 0 0]\n",
      "[0 1 0 0 0 0 0 0 0 0 0 0 0 0 0 0 0 0 0 0 0 0 0 0 0 0 0 0 0 0 0 0 0]\n",
      "[0 0 0 0 0 0 0 0 0 0 0 0 0 0 0 0 0 0 0 0 0 0 0 0 0 0 0 0 0 0 0 0 0]\n",
      "[0 0 1 0 0 0 0 0 0 0 0 0 0 0 0 0 0 0 0 0 0 0 0 0 0 0 0 0 0 0 0 0 0]\n",
      "[0 0 0 0 0 0 0 0 0 0 0 0 0 0 0 0 0 0 0 0 0 0 0 0 0 0 0 0 0 0 0 0 0]\n",
      "[0 0 0 1 0 0 0 0 0 0 0 0 0 0 0 0 0 0 0 0 0 0 0 0 0 0 0 0 0 0 0 0 0]\n",
      "[0 0 0 0 0 0 0 0 0 0 0 0 0 0 0 0 0 0 0 0 0 0 0 0 0 0 0 0 0 0 0 0 0]\n",
      "[0 0 0 0 1 0 0 0 0 0 0 0 0 0 0 0 0 0 0 0 0 0 0 0 0 0 0 0 0 0 0 0 0]\n",
      "[1 0 0 0 0 0 0 0 0 0 0 0 0 0 0 0 0 0 0 0 0 0 0 0 0 0 0 0 0 0 0 0 0]\n",
      "[0 0 0 0 0 1 0 0 0 0 0 0 0 0 0 0 0 0 0 0 0 0 0 0 0 0 0 0 0 0 0 0 0]\n",
      "[0 0 0 0 0 0 0 0 0 0 0 0 0 0 0 0 0 0 0 0 0 0 0 0 0 0 0 0 0 0 0 0 0]\n",
      "[0 0 0 0 0 0 1 0 0 0 0 0 0 0 0 0 0 0 0 0 0 0 0 0 0 0 0 0 0 0 0 0 0]\n",
      "[0 0 0 0 0 0 0 0 0 0 0 0 0 0 0 0 0 0 0 0 0 0 0 0 0 0 0 0 0 0 0 0 0]\n",
      "[0 0 0 0 0 0 0 1 0 0 0 1 0 0 0 0 0 0 0 0 0 0 0 0 0 0 0 0 0 0 0 0 0]\n",
      "[0 0 0 0 0 0 0 0 0 0 0 0 1 0 0 0 0 0 0 0 0 0 0 0 0 0 0 0 0 0 0 0 0]\n",
      "[0 0 0 0 0 0 0 0 1 0 0 0 0 0 0 0 0 0 0 0 0 0 0 0 0 0 0 0 0 0 0 0 0]\n",
      "[0 0 0 0 0 0 0 0 0 0 0 0 0 0 0 0 0 0 0 0 0 0 0 0 0 0 0 0 0 0 0 0 0]\n",
      "[0 1 1 0 0 0 0 0 0 1 0 0 0 1 1 0 0 1 0 0 0 0 0 0 0 0 0 0 0 0 0 0 0]\n",
      "[0 0 0 1 0 0 1 0 0 0 0 0 0 0 0 1 0 0 1 0 0 0 0 0 0 0 0 0 0 0 0 0 0]\n",
      "[0 0 0 0 1 0 1 1 1 0 1 0 0 0 0 0 1 0 0 1 1 0 0 0 0 0 0 0 0 0 0 0 0]\n",
      "[0 0 0 0 0 0 0 0 0 1 0 0 0 0 0 0 0 0 0 0 0 1 0 0 0 0 0 0 0 0 0 0 0]\n",
      "[0 0 0 0 0 0 0 0 0 0 0 1 0 0 0 0 0 0 0 0 0 0 0 1 0 0 0 0 0 0 0 0 0]\n",
      "[0 0 0 0 0 0 0 0 0 0 0 0 0 0 0 0 0 0 0 0 0 0 0 0 1 0 0 0 0 0 0 0 0]\n",
      "[0 0 0 0 0 0 0 0 0 0 0 0 1 0 0 0 0 0 0 0 0 0 0 0 0 1 0 0 0 0 0 0 0]\n",
      "[0 0 0 0 0 0 0 0 0 0 0 0 0 0 0 0 0 0 0 0 0 0 0 0 0 0 1 0 0 0 0 0 0]\n",
      "[0 0 0 0 0 0 0 0 0 0 0 0 0 1 0 0 0 0 0 0 0 0 0 0 0 0 0 1 0 0 0 0 0]\n",
      "[0 0 0 0 0 0 0 0 0 0 0 0 0 0 0 0 0 0 0 0 0 0 0 0 0 0 0 0 1 0 0 0 0]\n",
      "[0 0 0 0 0 0 0 0 0 0 0 0 0 0 1 0 0 0 0 0 0 0 0 0 0 0 0 0 0 1 0 0 0]\n",
      "[0 0 0 0 0 0 0 0 0 0 0 0 0 0 0 0 0 0 0 0 0 0 0 0 0 0 0 0 0 0 1 0 0]\n",
      "[0 0 0 0 0 0 0 0 0 0 0 0 0 0 0 1 0 0 0 0 0 0 0 0 0 0 0 0 0 0 0 1 0]\n",
      "[0 0 0 0 0 0 0 0 0 0 0 0 0 0 0 0 0 0 0 0 0 0 0 0 0 0 0 0 0 0 0 0 1]\n"
     ]
    }
   ],
   "source": [
    "syn0_mod_p = Matrix(GF(2),syn_cplx.syn0)\n",
    "print(syn0_mod_p)"
   ]
  },
  {
   "cell_type": "code",
   "execution_count": 76,
   "metadata": {},
   "outputs": [
    {
     "data": {
      "text/plain": [
       "(0, 0, 0, 0, 0, 0, 0, 0, 0, 0, 0, 0, 0, 0, 0, 0, 0, 0, 0, 1, 1, 0, 0, 0, 0, 0, 0, 0, 0, 1, 0, 0, 0)"
      ]
     },
     "execution_count": 76,
     "metadata": {},
     "output_type": "execute_result"
    }
   ],
   "source": [
    "syn0_mod_p.column(18) + syn0_mod_p.column(14)"
   ]
  },
  {
   "cell_type": "code",
   "execution_count": 58,
   "metadata": {},
   "outputs": [
    {
     "name": "stdout",
     "output_type": "stream",
     "text": [
      "           \n",
      "           \n",
      "           \n",
      "           \n",
      "           \n",
      "           \n",
      "           \n",
      "           \n",
      "           \n",
      "           \n",
      "           \n",
      "           \n",
      "           \n",
      "           \n",
      "           \n",
      "           \n",
      "           \n",
      "           \n",
      "           \n",
      "           \n",
      "           \n",
      "           \n",
      "           \n",
      "           \n",
      "           \n",
      "           \n",
      "           \n",
      "           \n",
      "           \n",
      "           \n",
      "           \n",
      "           \n",
      "           \n",
      "           \n",
      "           \n",
      "           \n",
      "           \n",
      "           \n",
      "           \n",
      "           \n",
      "           \n",
      "           \n",
      "           \n",
      "           \n",
      "           \n",
      "           \n",
      " 0 <-- C_2 \n",
      "\n",
      "                                                                                               \n",
      "                                                                                               \n",
      "                                                                                               \n",
      "                                                                                               \n",
      "                                                                                               \n",
      "                                                                                               \n",
      "                                                                                               \n",
      "                                                                                               \n",
      "                                                                                               \n",
      "                                                                                               \n",
      "                                                                                               \n",
      "                                                                                               \n",
      "                                                                                               \n",
      "                                                                                               \n",
      "                                                                                               \n",
      "                                                                                               \n",
      "                                                                                               \n",
      "                                                                                               \n",
      "                                                                                               \n",
      "                                                                                               \n",
      "                                                                                               \n",
      "                                                                                               \n",
      "                                                                                               \n",
      " [1 0 0 0 0 0 0 0 0 0 0 0 0 0 0 0 0 0 0 0 0 0 0 0 0 0 0 0 0 0 0 0 0 0 0 0 0 0 0 0 0 0 0 0 0 0] \n",
      " [0 0 0 0 0 0 0 0 0 0 0 0 0 0 0 0 0 0 0 0 0 0 0 1 0 0 0 0 0 0 0 0 0 0 0 0 0 0 0 0 0 0 0 0 0 0] \n",
      " [0 0 1 0 0 0 0 0 0 0 0 0 0 0 0 0 0 0 0 0 0 0 0 0 0 0 0 0 0 0 0 0 0 0 0 0 0 0 0 0 0 0 0 0 0 0] \n",
      " [0 1 0 0 0 0 0 0 0 0 0 0 0 0 0 0 0 0 0 0 0 0 0 0 1 0 0 0 0 0 0 0 0 0 0 0 0 0 0 0 0 0 0 0 0 0] \n",
      " [0 0 1 0 1 0 0 0 0 0 0 0 0 0 0 0 0 0 0 0 0 0 0 0 0 0 0 0 0 0 0 0 0 0 0 0 0 0 0 0 0 0 0 0 0 0] \n",
      " [0 1 0 0 0 1 0 0 0 0 0 0 0 0 0 0 0 0 0 0 0 0 0 1 1 1 0 0 0 0 0 0 0 0 0 0 0 0 0 0 0 0 0 0 0 0] \n",
      " [0 0 0 0 0 0 1 0 0 0 0 0 0 0 0 0 0 0 0 0 0 0 0 0 0 0 0 0 0 0 0 0 0 0 0 0 0 0 0 0 0 0 0 0 0 0] \n",
      " [0 0 0 0 0 1 0 0 0 0 0 0 0 0 0 0 0 0 0 0 0 0 0 0 0 0 1 0 0 0 0 0 0 0 0 0 0 0 0 0 0 0 0 0 0 0] \n",
      " [0 0 0 0 0 0 0 0 1 0 0 0 0 0 0 0 0 0 0 0 0 0 0 0 0 0 0 0 0 0 0 0 0 0 0 0 0 0 0 0 0 0 0 0 0 0] \n",
      " [0 1 0 0 0 0 0 1 0 0 0 0 0 0 0 0 0 0 0 0 0 0 0 0 1 0 0 1 0 0 0 0 0 0 0 0 0 0 0 0 0 0 0 0 0 0] \n",
      " [0 0 1 0 0 0 0 0 1 0 1 0 0 0 0 0 0 0 0 0 0 0 0 0 1 0 0 0 0 0 0 0 0 0 0 0 0 0 0 0 0 0 0 0 0 0] \n",
      " [0 1 0 1 0 1 0 1 0 0 0 1 0 0 0 0 0 0 0 0 0 0 0 0 1 0 0 1 1 1 0 0 0 0 0 0 0 0 0 0 0 0 0 0 0 0] \n",
      " [0 0 0 0 0 0 0 0 0 0 0 0 1 0 0 0 0 0 0 0 0 0 0 0 0 0 0 0 0 0 0 0 0 0 0 0 0 0 0 0 0 0 0 0 0 0] \n",
      " [0 0 0 0 0 0 0 0 0 0 0 0 0 0 0 0 0 0 0 0 0 0 0 0 0 0 0 0 0 1 0 0 0 0 0 0 0 0 0 0 0 0 0 0 0 0] \n",
      " [0 0 0 0 0 0 0 0 0 0 0 0 0 0 1 0 0 0 0 0 0 0 0 0 0 0 0 0 0 0 0 0 0 0 0 0 0 0 0 0 0 0 0 0 0 0] \n",
      " [0 0 0 0 0 0 0 0 0 0 0 0 0 1 0 0 0 0 0 0 0 0 0 0 0 0 0 0 0 0 1 0 0 0 0 1 0 0 0 0 0 0 0 0 0 0] \n",
      " [0 0 0 0 0 0 0 0 0 0 0 0 0 0 1 0 1 0 0 0 0 0 0 0 0 0 0 0 0 0 0 0 0 0 0 0 1 0 0 0 0 0 0 0 0 0] \n",
      " [0 0 0 0 0 0 0 0 0 0 0 0 0 1 0 0 0 1 0 0 0 0 0 0 0 0 0 0 0 1 1 1 0 0 0 0 0 1 1 0 0 0 0 0 0 0] \n",
      " [0 0 0 0 0 0 0 0 0 0 0 0 0 0 0 0 0 0 1 0 0 0 0 0 0 0 0 0 0 0 0 0 0 0 0 0 0 0 0 0 0 0 0 0 0 0] \n",
      " [0 0 0 0 0 0 0 0 0 0 0 0 0 0 0 0 0 1 0 0 0 0 0 0 0 0 0 0 0 0 0 0 1 0 0 0 0 0 0 0 0 1 0 0 0 0] \n",
      " [0 0 0 0 1 0 1 0 0 0 0 0 1 0 0 0 0 0 0 0 1 0 0 0 0 0 0 1 0 0 1 0 0 0 0 0 0 0 0 1 0 0 1 0 0 0] \n",
      " [0 1 0 0 0 0 0 0 0 0 0 1 0 0 0 0 0 0 0 1 0 0 0 0 1 0 0 1 1 1 1 1 1 1 0 0 0 0 0 0 1 0 0 1 1 0] \n",
      " [0 0 1 0 1 0 1 0 0 0 0 0 0 0 0 0 0 0 0 0 1 0 1 0 0 0 0 0 0 0 0 0 0 1 0 0 0 0 0 0 0 0 0 0 0 1] \n",
      "<----------------------------------------------------------------------------------------------\n",
      "\n",
      "      [0 0 0 0 0 0 0 0 0 0 0 0 0 0 0 0 0 0 0 0 0 0 0]      \n",
      "      [1 0 0 0 0 0 0 0 0 0 0 0 0 0 0 0 0 0 0 0 0 0 0]      \n",
      "      [0 0 0 0 0 0 0 0 0 0 0 0 0 0 0 0 0 0 0 0 0 0 0]      \n",
      "      [0 1 0 0 0 0 0 0 0 0 0 0 0 0 0 0 0 0 0 0 0 0 0]      \n",
      "      [0 0 0 0 0 0 0 0 0 0 0 0 0 0 0 0 0 0 0 0 0 0 0]      \n",
      "      [0 0 1 0 0 0 0 0 0 0 0 0 0 0 0 0 0 0 0 0 0 0 0]      \n",
      "      [0 0 0 0 0 0 0 0 0 0 0 0 0 0 0 0 0 0 0 0 0 0 0]      \n",
      "      [0 0 0 1 0 0 0 0 0 0 0 0 0 0 0 0 0 0 0 0 0 0 0]      \n",
      "      [0 0 0 0 0 0 0 0 0 0 0 0 0 0 0 0 0 0 0 0 0 0 0]      \n",
      "      [0 0 0 0 1 0 0 0 0 0 0 0 0 0 0 0 0 0 0 0 0 0 0]      \n",
      "      [1 0 0 0 0 0 0 0 0 0 0 0 0 0 0 0 0 0 0 0 0 0 0]      \n",
      "      [0 0 0 0 0 1 0 0 0 0 0 0 0 0 0 0 0 0 0 0 0 0 0]      \n",
      "      [0 0 0 0 0 0 0 0 0 0 0 0 0 0 0 0 0 0 0 0 0 0 0]      \n",
      "      [0 0 0 0 0 0 1 0 0 0 0 0 0 0 0 0 0 0 0 0 0 0 0]      \n",
      "      [0 0 0 0 0 0 0 0 0 0 0 0 0 0 0 0 0 0 0 0 0 0 0]      \n",
      "      [0 0 0 0 0 0 0 1 0 0 0 1 0 0 0 0 0 0 0 0 0 0 0]      \n",
      "      [0 0 0 0 0 0 0 0 0 0 0 0 1 0 0 0 0 0 0 0 0 0 0]      \n",
      "      [0 0 0 0 0 0 0 0 1 0 0 0 0 0 0 0 0 0 0 0 0 0 0]      \n",
      "      [0 0 0 0 0 0 0 0 0 0 0 0 0 0 0 0 0 0 0 0 0 0 0]      \n",
      "      [0 1 1 0 0 0 0 0 0 1 0 0 0 1 1 0 0 1 0 0 0 0 0]      \n",
      "      [0 0 0 1 0 0 1 0 0 0 0 0 0 0 0 1 0 0 1 0 0 0 0]      \n",
      "      [0 0 0 0 1 0 1 1 1 0 1 0 0 0 0 0 1 0 0 1 1 0 0]      \n",
      "      [0 0 0 0 0 0 0 0 0 1 0 0 0 0 0 0 0 0 0 0 0 1 0]      \n",
      "      [0 0 0 0 0 0 0 0 0 0 0 0 0 0 0 0 0 0 0 0 0 0 0]      \n",
      "      [1 0 0 0 0 0 0 0 0 0 0 0 0 0 0 0 0 0 0 0 0 0 0]      \n",
      "      [0 0 1 0 0 0 0 0 0 0 0 0 0 0 0 0 0 0 0 0 0 0 0]      \n",
      "      [0 0 1 0 0 0 0 0 0 0 0 0 0 0 0 0 0 0 0 0 0 0 0]      \n",
      "      [0 0 0 1 0 0 0 0 0 0 0 0 0 0 0 0 0 0 0 0 0 0 0]      \n",
      "      [0 1 1 0 0 1 0 0 0 0 0 0 0 0 0 0 0 0 0 0 0 0 0]      \n",
      "      [0 0 0 0 0 0 0 0 0 0 0 0 0 0 0 0 0 0 0 0 0 0 0]      \n",
      "      [0 0 0 0 0 0 1 0 0 0 0 0 0 0 0 0 0 0 0 0 0 0 0]      \n",
      "      [0 0 0 0 0 0 0 0 1 0 0 0 0 0 0 0 0 0 0 0 0 0 0]      \n",
      "      [0 0 0 0 0 0 0 0 1 0 0 0 0 0 0 0 0 0 0 0 0 0 0]      \n",
      "      [0 0 0 1 0 0 1 0 0 1 0 0 0 0 0 0 0 0 0 0 0 0 0]      \n",
      "      [0 1 1 0 0 1 0 0 0 0 0 1 0 0 0 0 0 0 0 0 0 0 0]      \n",
      "      [0 0 0 0 0 0 0 0 0 0 0 0 0 0 0 0 0 0 0 0 0 0 0]      \n",
      "      [0 0 0 0 0 0 0 0 0 0 0 0 1 0 0 0 0 0 0 0 0 0 0]      \n",
      "      [0 0 0 0 0 0 0 0 0 0 0 0 0 0 1 0 0 0 0 0 0 0 0]      \n",
      "      [0 0 0 0 0 0 0 0 0 0 0 0 0 0 1 0 0 0 0 0 0 0 0]      \n",
      "      [0 0 0 0 0 0 0 0 0 0 0 0 0 0 0 1 0 0 0 0 0 0 0]      \n",
      "      [0 0 0 0 0 0 0 0 0 0 0 0 0 1 1 0 0 1 0 0 0 0 0]      \n",
      "      [0 0 0 0 0 0 0 0 0 0 0 0 0 0 0 0 0 0 0 0 0 0 0]      \n",
      "      [0 0 0 0 0 0 0 0 0 0 0 0 0 0 0 0 0 0 1 0 0 0 0]      \n",
      "      [0 0 0 0 0 0 0 0 0 0 0 0 0 0 0 0 0 0 0 0 1 0 0]      \n",
      "      [0 0 0 0 0 0 0 0 0 0 0 0 0 0 0 0 0 0 0 0 1 0 0]      \n",
      "      [0 0 0 0 0 0 0 0 0 0 0 0 0 0 0 1 0 0 1 0 0 1 0]      \n",
      " C_1 <------------------------------------------------ C_0 <-- 0 \n",
      "           \n",
      "           \n",
      "           \n",
      "           \n",
      "           \n",
      "           \n",
      "           \n",
      "           \n",
      "           \n",
      "           \n",
      "           \n",
      "           \n",
      "           \n",
      "           \n",
      "           \n",
      "           \n",
      "           \n",
      "           \n",
      "           \n",
      "           \n",
      "           \n",
      "           \n",
      "           \n",
      "           \n",
      "           \n",
      "           \n",
      "           \n",
      "           \n",
      "           \n",
      "           \n",
      "           \n",
      "           \n",
      "           \n",
      "           \n",
      "           \n",
      "           \n",
      "           \n",
      "           \n",
      "           \n",
      "           \n",
      "           \n",
      "           \n",
      "           \n",
      "           \n",
      "           \n",
      "           \n",
      " 0 <-- C_2 \n",
      "\n",
      "                                                                                               \n",
      "                                                                                               \n",
      "                                                                                               \n",
      "                                                                                               \n",
      "                                                                                               \n",
      "                                                                                               \n",
      "                                                                                               \n",
      "                                                                                               \n",
      "                                                                                               \n",
      "                                                                                               \n",
      "                                                                                               \n",
      "                                                                                               \n",
      "                                                                                               \n",
      "                                                                                               \n",
      "                                                                                               \n",
      "                                                                                               \n",
      "                                                                                               \n",
      "                                                                                               \n",
      "                                                                                               \n",
      "                                                                                               \n",
      "                                                                                               \n",
      "                                                                                               \n",
      "                                                                                               \n",
      " [1 0 0 0 0 0 0 0 0 0 0 0 0 0 0 0 0 0 0 0 0 0 0 0 0 0 0 0 0 0 0 0 0 0 0 0 0 0 0 0 0 0 0 0 0 0] \n",
      " [0 0 0 0 0 0 0 0 0 0 0 0 0 0 0 0 0 0 0 0 0 0 0 1 0 0 0 0 0 0 0 0 0 0 0 0 0 0 0 0 0 0 0 0 0 0] \n",
      " [1 0 1 0 0 0 0 0 0 0 0 0 0 0 0 0 0 0 0 0 0 0 0 0 0 0 0 0 0 0 0 0 0 0 0 0 0 0 0 0 0 0 0 0 0 0] \n",
      " [0 0 0 0 0 0 0 0 0 0 0 0 0 0 0 0 0 0 0 0 0 0 0 1 1 0 0 0 0 0 0 0 0 0 0 0 0 0 0 0 0 0 0 0 0 0] \n",
      " [0 0 0 0 1 0 0 0 0 0 0 0 0 0 0 0 0 0 0 0 0 0 0 0 0 0 0 0 0 0 0 0 0 0 0 0 0 0 0 0 0 0 0 0 0 0] \n",
      " [0 0 0 1 0 1 0 0 0 0 0 0 0 0 0 0 0 0 0 0 0 0 0 1 0 1 0 0 0 0 0 0 0 0 0 0 0 0 0 0 0 0 0 0 0 0] \n",
      " [0 0 0 0 0 0 1 0 0 0 0 0 0 0 0 0 0 0 0 0 0 0 0 0 0 0 0 0 0 0 0 0 0 0 0 0 0 0 0 0 0 0 0 0 0 0] \n",
      " [0 0 0 0 0 0 0 0 0 0 0 0 0 0 0 0 0 0 0 0 0 0 0 0 0 0 1 0 0 0 0 0 0 0 0 0 0 0 0 0 0 0 0 0 0 0] \n",
      " [1 0 0 0 1 0 1 0 1 0 0 0 0 0 0 0 0 0 0 0 0 0 0 1 0 0 0 0 0 0 0 0 0 0 0 0 0 0 0 0 0 0 0 0 0 0] \n",
      " [0 1 0 1 0 1 0 0 0 0 0 0 0 0 0 0 0 0 0 0 0 0 0 1 0 1 1 1 0 0 0 0 0 0 0 0 0 0 0 0 0 0 0 0 0 0] \n",
      " [0 0 1 0 0 0 0 0 0 0 1 0 0 0 0 0 0 0 0 0 0 0 0 0 0 1 1 0 0 1 0 0 0 0 0 0 0 0 0 0 0 0 0 0 0 0] \n",
      " [0 0 0 0 0 0 0 0 0 1 0 1 0 0 0 0 0 0 0 0 0 0 0 1 0 1 1 1 1 0 1 0 0 0 0 0 0 0 0 0 0 0 0 0 0 0] \n",
      " [0 0 0 0 0 0 0 0 0 0 0 0 1 0 0 0 0 0 0 0 0 0 0 0 0 0 0 0 0 0 0 0 0 0 0 0 0 0 0 0 0 0 0 0 0 0] \n",
      " [0 0 0 0 0 0 0 0 0 0 0 1 0 0 0 0 0 0 0 0 0 0 0 0 0 0 0 0 0 1 0 0 0 0 0 0 0 0 0 0 0 0 0 0 0 0] \n",
      " [0 0 0 0 0 0 0 0 0 0 0 0 1 0 1 0 0 0 0 0 0 0 0 0 0 0 0 0 0 0 0 0 0 0 0 1 0 0 0 0 0 0 0 0 0 0] \n",
      " [0 0 0 0 0 0 0 0 0 0 0 1 0 0 0 0 0 0 0 0 0 0 0 0 0 0 0 0 0 1 1 0 0 0 0 0 1 0 0 0 0 0 0 0 0 0] \n",
      " [0 0 0 0 0 0 0 0 0 0 0 0 0 0 0 0 1 0 0 0 0 0 0 0 0 0 0 0 0 0 0 0 0 0 0 0 0 1 1 0 0 0 0 0 0 0] \n",
      " [0 0 0 0 0 0 0 0 0 0 0 1 0 0 0 1 0 1 0 0 0 0 0 0 0 0 0 0 0 1 0 1 0 0 0 0 0 0 0 1 0 0 0 0 0 0] \n",
      " [0 0 0 0 0 0 0 0 0 0 0 0 0 0 0 0 0 0 1 0 0 0 0 0 0 0 0 0 0 0 0 0 0 0 0 0 0 0 0 0 0 1 0 0 0 0] \n",
      " [0 0 0 0 0 0 0 0 0 0 0 0 0 0 0 0 0 0 0 0 0 0 0 0 0 0 0 0 0 0 0 0 1 0 0 0 0 0 0 0 0 0 1 0 0 0] \n",
      " [1 0 1 0 0 0 0 0 0 0 1 0 0 0 0 0 1 0 1 0 1 0 0 0 0 0 0 0 1 0 0 1 1 0 0 0 0 0 0 0 1 0 0 1 0 0] \n",
      " [0 0 0 1 0 1 0 0 0 1 0 0 0 0 0 1 0 1 0 0 0 0 0 1 0 0 0 1 1 1 1 1 1 0 0 0 0 0 0 0 0 0 0 0 1 0] \n",
      " [0 0 1 0 1 0 1 0 0 0 0 0 0 0 0 0 0 0 0 0 0 0 1 0 0 0 0 0 0 0 0 0 0 0 1 0 0 0 0 0 0 0 0 0 0 1] \n",
      "<----------------------------------------------------------------------------------------------\n",
      "\n",
      "      [0 0 0 0 0 0 0 0 0 0 0 0 0 0 0 0 0 0 0 0 0 0 0]      \n",
      "      [1 0 0 0 0 0 0 0 0 0 0 0 0 0 0 0 0 0 0 0 0 0 0]      \n",
      "      [0 0 0 0 0 0 0 0 0 0 0 0 0 0 0 0 0 0 0 0 0 0 0]      \n",
      "      [0 1 0 0 0 0 0 0 0 0 0 0 0 0 0 0 0 0 0 0 0 0 0]      \n",
      "      [0 0 0 0 0 0 0 0 0 0 0 0 0 0 0 0 0 0 0 0 0 0 0]      \n",
      "      [0 0 1 0 0 0 0 0 0 0 0 0 0 0 0 0 0 0 0 0 0 0 0]      \n",
      "      [0 0 0 0 0 0 0 0 0 0 0 0 0 0 0 0 0 0 0 0 0 0 0]      \n",
      "      [0 0 0 1 0 0 0 0 0 0 0 0 0 0 0 0 0 0 0 0 0 0 0]      \n",
      "      [0 0 0 0 0 0 0 0 0 0 0 0 0 0 0 0 0 0 0 0 0 0 0]      \n",
      "      [1 0 0 0 1 0 0 0 0 0 0 0 0 0 0 0 0 0 0 0 0 0 0]      \n",
      "      [0 1 1 0 0 1 0 0 0 0 0 0 0 0 0 0 0 0 0 0 0 0 0]      \n",
      "      [0 0 0 0 0 1 0 0 0 0 0 0 0 0 0 0 0 0 0 0 0 0 0]      \n",
      "      [0 0 0 0 0 0 0 0 0 0 0 0 0 0 0 0 0 0 0 0 0 0 0]      \n",
      "      [0 0 0 0 0 0 1 0 0 0 0 0 0 0 0 0 0 0 0 0 0 0 0]      \n",
      "      [0 0 0 0 0 0 0 0 0 0 0 1 0 0 0 0 0 0 0 0 0 0 0]      \n",
      "      [0 0 0 0 0 0 0 1 0 0 0 0 1 0 0 0 0 0 0 0 0 0 0]      \n",
      "      [0 0 0 0 0 0 0 0 0 0 0 0 0 1 1 0 0 0 0 0 0 0 0]      \n",
      "      [0 0 0 0 0 0 0 0 1 0 0 0 0 0 0 0 0 0 0 0 0 0 0]      \n",
      "      [0 0 0 0 0 0 0 0 0 0 0 0 0 0 0 0 0 1 0 0 0 0 0]      \n",
      "      [0 0 0 1 0 1 1 0 0 1 0 0 0 0 0 1 0 0 1 0 0 0 0]      \n",
      "      [0 0 0 0 1 0 0 1 1 0 0 0 0 0 0 0 1 0 0 1 1 0 0]      \n",
      "      [0 0 0 0 0 0 1 0 0 1 1 0 0 0 0 0 0 0 0 0 0 1 0]      \n",
      "      [0 0 0 0 0 0 0 0 0 0 1 0 0 0 0 0 0 0 0 0 0 0 1]      \n",
      "      [0 0 0 0 0 0 0 0 0 0 0 0 0 0 0 0 0 0 0 0 0 0 0]      \n",
      "      [0 0 0 0 0 0 0 0 0 0 0 0 0 0 0 0 0 0 0 0 0 0 0]      \n",
      "      [0 1 1 0 0 0 0 0 0 0 0 0 0 0 0 0 0 0 0 0 0 0 0]      \n",
      "      [0 0 0 0 0 0 0 0 0 0 0 0 0 0 0 0 0 0 0 0 0 0 0]      \n",
      "      [1 0 0 0 0 0 0 0 0 0 0 0 0 0 0 0 0 0 0 0 0 0 0]      \n",
      "      [0 1 1 0 1 1 0 0 0 0 0 0 0 0 0 0 0 0 0 0 0 0 0]      \n",
      "      [0 0 0 0 0 1 0 0 0 0 0 0 0 0 0 0 0 0 0 0 0 0 0]      \n",
      "      [0 0 0 0 0 0 0 0 0 0 0 0 0 0 0 0 0 0 0 0 0 0 0]      \n",
      "      [0 0 0 0 0 0 0 1 1 0 0 0 0 0 0 0 0 0 0 0 0 0 0]      \n",
      "      [0 0 0 0 0 0 0 0 0 0 0 0 0 0 0 0 0 0 0 0 0 0 0]      \n",
      "      [1 0 0 0 0 0 0 0 0 0 0 0 0 0 0 0 0 0 0 0 0 0 0]      \n",
      "      [0 0 0 0 0 0 0 0 0 0 1 1 0 0 0 0 0 0 0 0 0 0 0]      \n",
      "      [0 0 0 0 0 0 0 0 0 0 0 1 0 0 0 0 0 0 0 0 0 0 0]      \n",
      "      [0 0 0 0 0 0 0 0 0 0 0 0 0 0 0 0 0 0 0 0 0 0 0]      \n",
      "      [0 0 0 0 0 0 0 0 0 0 0 0 0 1 1 0 0 0 0 0 0 0 0]      \n",
      "      [0 0 0 0 0 0 0 0 0 0 0 0 0 0 0 0 0 0 0 0 0 0 0]      \n",
      "      [0 0 0 0 0 0 0 0 0 0 0 0 1 0 0 0 0 0 0 0 0 0 0]      \n",
      "      [0 0 0 0 0 0 0 0 0 0 0 0 0 1 1 0 1 1 0 0 0 0 0]      \n",
      "      [0 0 0 0 0 0 0 0 0 0 0 0 0 0 0 0 0 1 0 0 0 0 0]      \n",
      "      [0 0 0 0 0 0 0 0 0 0 0 0 0 0 0 0 0 0 0 0 0 0 0]      \n",
      "      [0 0 0 0 0 0 0 0 0 0 0 0 0 0 0 0 0 0 0 1 1 0 0]      \n",
      "      [0 0 0 0 0 0 0 0 0 0 0 0 1 0 0 0 0 0 0 0 0 0 0]      \n",
      "      [0 0 0 0 0 0 0 0 0 0 0 1 0 0 0 0 0 0 0 0 0 0 1]      \n",
      " C_1 <------------------------------------------------ C_0 <-- 0 \n"
     ]
    },
    {
     "name": "stderr",
     "output_type": "stream",
     "text": [
      "/nix/store/xfj8hwl16qkr5w9gq2jr18pxd1jkd2ch-python3-3.10.13-env/lib/python3.10/site-packages/sage/typeset/character_art.py:397: UserWarning: the console size is smaller than the pretty representation of the object\n",
      "  warnings.warn(\"the console size is smaller than the pretty \"\n"
     ]
    }
   ],
   "source": [
    "print(ascii_art(syn_cplx.complex_mod_p))\n",
    "print(ascii_art(syn_cplx_lower.complex_mod_p))"
   ]
  },
  {
   "cell_type": "markdown",
   "metadata": {},
   "source": [
    "# Computing v1"
   ]
  },
  {
   "cell_type": "code",
   "execution_count": 10,
   "metadata": {},
   "outputs": [
    {
     "name": "stderr",
     "output_type": "stream",
     "text": [
      "<string>:903: DeprecationWarning: __getitem__ is changing to match the behavior of number fields. Please use expansion instead.\n",
      "See https://github.com/sagemath/sage/issues/14825 for details.\n",
      "<string>:912: DeprecationWarning: __getitem__ is changing to match the behavior of number fields. Please use expansion instead.\n",
      "See https://github.com/sagemath/sage/issues/14825 for details.\n",
      "<string>:924: DeprecationWarning: __getitem__ is changing to match the behavior of number fields. Please use expansion instead.\n",
      "See https://github.com/sagemath/sage/issues/14825 for details.\n",
      "<string>:936: DeprecationWarning: __getitem__ is changing to match the behavior of number fields. Please use expansion instead.\n",
      "See https://github.com/sagemath/sage/issues/14825 for details.\n",
      "<string>:948: DeprecationWarning: __getitem__ is changing to match the behavior of number fields. Please use expansion instead.\n",
      "See https://github.com/sagemath/sage/issues/14825 for details.\n",
      "<string>:957: DeprecationWarning: __getitem__ is changing to match the behavior of number fields. Please use expansion instead.\n",
      "See https://github.com/sagemath/sage/issues/14825 for details.\n",
      "<string>:969: DeprecationWarning: __getitem__ is changing to match the behavior of number fields. Please use expansion instead.\n",
      "See https://github.com/sagemath/sage/issues/14825 for details.\n",
      "<string>:981: DeprecationWarning: __getitem__ is changing to match the behavior of number fields. Please use expansion instead.\n",
      "See https://github.com/sagemath/sage/issues/14825 for details.\n"
     ]
    }
   ],
   "source": [
    "v1N0,v1P0,v1N1,v1P1=v1_matrices(p,i,n,E,total_precision,Fprec,debug=False)"
   ]
  },
  {
   "cell_type": "code",
   "execution_count": 11,
   "metadata": {},
   "outputs": [],
   "source": [
    "v1N0_Fp=Matrix(GF(p),v1N0)\n",
    "v1P0_Fp=Matrix(GF(p),v1P0)\n",
    "v1N1_Fp=Matrix(GF(p),v1N1)\n",
    "v1P1_Fp=Matrix(GF(p),v1P1)"
   ]
  },
  {
   "cell_type": "code",
   "execution_count": 12,
   "metadata": {},
   "outputs": [
    {
     "data": {
      "text/plain": [
       "[0 0 0 0 0]\n",
       "[1 0 0 0 0]\n",
       "[0 0 0 0 0]\n",
       "[0 1 1 0 0]\n",
       "[0 0 0 1 0]"
      ]
     },
     "execution_count": 12,
     "metadata": {},
     "output_type": "execute_result"
    }
   ],
   "source": [
    "v1N0_Fp"
   ]
  },
  {
   "cell_type": "code",
   "execution_count": 13,
   "metadata": {},
   "outputs": [
    {
     "data": {
      "text/plain": [
       "[0 0 0 0 0]\n",
       "[0 0 0 0 0]\n",
       "[1 0 0 0 0]\n",
       "[0 1 0 0 0]\n",
       "[0 0 1 0 0]"
      ]
     },
     "execution_count": 13,
     "metadata": {},
     "output_type": "execute_result"
    }
   ],
   "source": [
    "v1P0_Fp"
   ]
  },
  {
   "cell_type": "code",
   "execution_count": 14,
   "metadata": {},
   "outputs": [
    {
     "data": {
      "text/plain": [
       "[0 0 0 0 0]\n",
       "[1 0 0 0 0]\n",
       "[0 1 0 0 0]\n",
       "[0 0 0 0 0]\n",
       "[0 0 1 0 0]"
      ]
     },
     "execution_count": 14,
     "metadata": {},
     "output_type": "execute_result"
    }
   ],
   "source": [
    "v1N1_Fp"
   ]
  },
  {
   "cell_type": "code",
   "execution_count": 15,
   "metadata": {},
   "outputs": [
    {
     "data": {
      "text/plain": [
       "[0 0 0 0 0]\n",
       "[0 0 0 0 0]\n",
       "[1 0 0 0 0]\n",
       "[0 1 0 0 0]\n",
       "[0 0 1 0 0]"
      ]
     },
     "execution_count": 15,
     "metadata": {},
     "output_type": "execute_result"
    }
   ],
   "source": [
    "v1P1_Fp"
   ]
  },
  {
   "cell_type": "code",
   "execution_count": 16,
   "metadata": {},
   "outputs": [],
   "source": [
    "v1_0=Matrix(GF(p),v1N0)\n",
    "v1_1=Matrix(GF(p),block_matrix([[v1P0,0],[0,v1N1]]))\n",
    "v1_2=Matrix(GF(p),v1P1)"
   ]
  },
  {
   "cell_type": "code",
   "execution_count": 17,
   "metadata": {},
   "outputs": [
    {
     "data": {
      "text/plain": [
       "[0 0 0 0 0]\n",
       "[1 0 0 0 0]\n",
       "[0 0 0 0 0]\n",
       "[0 1 1 0 0]\n",
       "[0 0 0 1 0]"
      ]
     },
     "execution_count": 17,
     "metadata": {},
     "output_type": "execute_result"
    }
   ],
   "source": [
    "v1_0"
   ]
  },
  {
   "cell_type": "code",
   "execution_count": 18,
   "metadata": {},
   "outputs": [
    {
     "data": {
      "text/plain": [
       "[0 0 0 0 0 0 0 0 0 0]\n",
       "[0 0 0 0 0 0 0 0 0 0]\n",
       "[1 0 0 0 0 0 0 0 0 0]\n",
       "[0 1 0 0 0 0 0 0 0 0]\n",
       "[0 0 1 0 0 0 0 0 0 0]\n",
       "[0 0 0 0 0 0 0 0 0 0]\n",
       "[0 0 0 0 0 1 0 0 0 0]\n",
       "[0 0 0 0 0 0 1 0 0 0]\n",
       "[0 0 0 0 0 0 0 0 0 0]\n",
       "[0 0 0 0 0 0 0 1 0 0]"
      ]
     },
     "execution_count": 18,
     "metadata": {},
     "output_type": "execute_result"
    }
   ],
   "source": [
    "v1_1"
   ]
  },
  {
   "cell_type": "code",
   "execution_count": 19,
   "metadata": {},
   "outputs": [
    {
     "data": {
      "text/plain": [
       "[0 0 0 0 0]\n",
       "[0 0 0 0 0]\n",
       "[1 0 0 0 0]\n",
       "[0 1 0 0 0]\n",
       "[0 0 1 0 0]"
      ]
     },
     "execution_count": 19,
     "metadata": {},
     "output_type": "execute_result"
    }
   ],
   "source": [
    "v1_2"
   ]
  },
  {
   "cell_type": "code",
   "execution_count": 20,
   "metadata": {},
   "outputs": [
    {
     "data": {
      "text/plain": [
       "True"
      ]
     },
     "execution_count": 20,
     "metadata": {},
     "output_type": "execute_result"
    }
   ],
   "source": [
    "v1_2*syn_cplx_lower.complex_mod_p.differential()[1]==syn_cplx.complex_mod_p.differential()[1]*v1_1"
   ]
  },
  {
   "cell_type": "code",
   "execution_count": 21,
   "metadata": {},
   "outputs": [
    {
     "name": "stdout",
     "output_type": "stream",
     "text": [
      "[0 1]\n",
      "[1 0]\n",
      "\n",
      "\n",
      "[1 1]\n",
      "[1 0]\n",
      "[0 0]\n",
      "\n",
      "\n",
      "[]\n",
      "\n",
      "\n"
     ]
    }
   ],
   "source": [
    "v1={0:v1_0,1:v1_1,2:v1_2}\n",
    "mor = MorphismHomology(syn_cplx_lower.homology_mod_p, syn_cplx.homology_mod_p, v1)\n",
    "\n",
    "for h in mor.hF.values():\n",
    "    print(ascii_art(h))\n",
    "    print('\\n')"
   ]
  },
  {
   "cell_type": "code",
   "execution_count": 22,
   "metadata": {},
   "outputs": [
    {
     "name": "stdout",
     "output_type": "stream",
     "text": [
      "Generators of mod p H^0 (weight 1, Z/2^3):\n",
      "\n",
      "\n",
      "E^1z^2+E^0f0+E^0zf0+O(F>=6)\n",
      "\n",
      "E^1z+O(F>=6)\n",
      "\n"
     ]
    }
   ],
   "source": [
    "print(\"Generators of mod p H^0 (weight {}, Z/{}^{}):\\n\\n\".format(syn_cplx_lower.i, syn_cplx_lower.p, syn_cplx_lower.n))\n",
    "\n",
    "for gen in syn_cplx_lower.homology_mod_p_generators[0]:\n",
    "    print(gen + \"\\n\")"
   ]
  },
  {
   "cell_type": "code",
   "execution_count": 23,
   "metadata": {},
   "outputs": [
    {
     "name": "stdout",
     "output_type": "stream",
     "text": [
      "v1 * E^1z^2+E^0f0+E^0zf0+O(F>=6)\n",
      "           = E^1z^2f0+O(F>=6)\n",
      "v1 * E^1z+O(F>=6)\n",
      "           = E^2z^2+O(F>=6)\n"
     ]
    }
   ],
   "source": [
    "h = mor.hF[0]\n",
    "for i in range(h.ncols()):\n",
    "    cycle = syn_cplx.homology_mod_p.compute_cycle(0,h.column(i))\n",
    "    print(\"v1 * {}\\n           = {}\".format(syn_cplx_lower.homology_mod_p_generators[0][i], syn_cplx.name_element(0,cycle)))"
   ]
  },
  {
   "cell_type": "code",
   "execution_count": 46,
   "metadata": {},
   "outputs": [],
   "source": [
    "def compute_v1(i):\n",
    "    Fprec,total_precision=target_total_precision(p,i,n)\n",
    "    W=Zp(p,total_precision,type='capped-abs',print_mode='digits',show_prec=False)\n",
    "    A.<z>=PowerSeriesRing(W,Fprec)\n",
    "    E=A(z+p)\n",
    "    syn_cplx_lower=SyntomicComplex(p,i-p+1,n,E,total_precision,Fprec,debug=False)\n",
    "    syn_cplx=SyntomicComplex(p,i,n,E,total_precision,Fprec,debug=False)\n",
    "    syn_cplx.compute_mod_p_homology()\n",
    "    syn_cplx_lower.compute_mod_p_homology()\n",
    "    v1N0,v1P0,v1N1,v1P1=v1_matrices(p,i,n,E,total_precision,Fprec,debug=False)\n",
    "    v1_0=Matrix(GF(p),v1N0)\n",
    "    v1_1=Matrix(GF(p),block_matrix([[v1P0,0],[0,v1N1]]))\n",
    "    v1_2=Matrix(GF(p),v1P1)\n",
    "    v1={0:v1_0,1:v1_1,2:v1_2}\n",
    "    mor = MorphismHomology(syn_cplx_lower.homology_mod_p, syn_cplx.homology_mod_p, v1)\n",
    "\n",
    "    print(\"Generators of mod p H^0 (weight {}, Z/{}^{}):\\n\\n\".format(syn_cplx_lower.i, syn_cplx_lower.p, syn_cplx_lower.n))\n",
    "\n",
    "    for gen in syn_cplx_lower.homology_mod_p_generators[0]:\n",
    "        print(gen + \"\\n\")\n",
    "    print(\"v1 action:\")\n",
    "    h = mor.hF[0]\n",
    "    for i in range(h.ncols()):\n",
    "        cycle = syn_cplx.homology_mod_p.compute_cycle(0,h.column(i))\n",
    "        print(\"v1*( {} )\\n           = {}\".format(syn_cplx_lower.homology_mod_p_generators[0][i], syn_cplx.name_element(0,cycle)))\n",
    "    print(\"-------------------------------------\\n\\n\")    "
   ]
  },
  {
   "cell_type": "code",
   "execution_count": 48,
   "metadata": {
    "scrolled": true
   },
   "outputs": [
    {
     "name": "stderr",
     "output_type": "stream",
     "text": [
      "<string>:750: DeprecationWarning: __getitem__ is changing to match the behavior of number fields. Please use expansion instead.\n",
      "See https://github.com/sagemath/sage/issues/14825 for details.\n",
      "<string>:769: DeprecationWarning: __getitem__ is changing to match the behavior of number fields. Please use expansion instead.\n",
      "See https://github.com/sagemath/sage/issues/14825 for details.\n",
      "<string>:786: DeprecationWarning: __getitem__ is changing to match the behavior of number fields. Please use expansion instead.\n",
      "See https://github.com/sagemath/sage/issues/14825 for details.\n",
      "<string>:796: DeprecationWarning: __getitem__ is changing to match the behavior of number fields. Please use expansion instead.\n",
      "See https://github.com/sagemath/sage/issues/14825 for details.\n",
      "<string>:810: DeprecationWarning: __getitem__ is changing to match the behavior of number fields. Please use expansion instead.\n",
      "See https://github.com/sagemath/sage/issues/14825 for details.\n",
      "<string>:829: DeprecationWarning: __getitem__ is changing to match the behavior of number fields. Please use expansion instead.\n",
      "See https://github.com/sagemath/sage/issues/14825 for details.\n",
      "<string>:853: DeprecationWarning: __getitem__ is changing to match the behavior of number fields. Please use expansion instead.\n",
      "See https://github.com/sagemath/sage/issues/14825 for details.\n",
      "<string>:866: DeprecationWarning: __getitem__ is changing to match the behavior of number fields. Please use expansion instead.\n",
      "See https://github.com/sagemath/sage/issues/14825 for details.\n",
      "<string>:903: DeprecationWarning: __getitem__ is changing to match the behavior of number fields. Please use expansion instead.\n",
      "See https://github.com/sagemath/sage/issues/14825 for details.\n",
      "<string>:912: DeprecationWarning: __getitem__ is changing to match the behavior of number fields. Please use expansion instead.\n",
      "See https://github.com/sagemath/sage/issues/14825 for details.\n",
      "<string>:924: DeprecationWarning: __getitem__ is changing to match the behavior of number fields. Please use expansion instead.\n",
      "See https://github.com/sagemath/sage/issues/14825 for details.\n",
      "<string>:936: DeprecationWarning: __getitem__ is changing to match the behavior of number fields. Please use expansion instead.\n",
      "See https://github.com/sagemath/sage/issues/14825 for details.\n",
      "<string>:948: DeprecationWarning: __getitem__ is changing to match the behavior of number fields. Please use expansion instead.\n",
      "See https://github.com/sagemath/sage/issues/14825 for details.\n",
      "<string>:957: DeprecationWarning: __getitem__ is changing to match the behavior of number fields. Please use expansion instead.\n",
      "See https://github.com/sagemath/sage/issues/14825 for details.\n",
      "<string>:969: DeprecationWarning: __getitem__ is changing to match the behavior of number fields. Please use expansion instead.\n",
      "See https://github.com/sagemath/sage/issues/14825 for details.\n",
      "<string>:981: DeprecationWarning: __getitem__ is changing to match the behavior of number fields. Please use expansion instead.\n",
      "See https://github.com/sagemath/sage/issues/14825 for details.\n"
     ]
    },
    {
     "name": "stdout",
     "output_type": "stream",
     "text": [
      "Generators of mod p H^0 (weight 1, Z/2^2):\n",
      "\n",
      "\n",
      "E^1z+O(F>=4)\n",
      "\n",
      "v1 action:\n",
      "v1*( E^1z+O(F>=4) )\n",
      "           = E^1zf0+O(F>=4)\n",
      "-------------------------------------\n",
      "\n",
      "\n",
      "Generators of mod p H^0 (weight 2, Z/2^2):\n",
      "\n",
      "\n",
      "E^1zf0+O(F>=6)\n",
      "\n",
      "v1 action:\n",
      "v1*( E^1zf0+O(F>=6) )\n",
      "           = 0+O(F>=6)\n",
      "-------------------------------------\n",
      "\n",
      "\n",
      "Generators of mod p H^0 (weight 3, Z/2^2):\n",
      "\n",
      "\n",
      "E^1zf1+E^0f0*f1+O(F>=8)\n",
      "\n",
      "v1 action:\n",
      "v1*( E^1zf1+E^0f0*f1+O(F>=8) )\n",
      "           = 0+O(F>=8)\n",
      "-------------------------------------\n",
      "\n",
      "\n",
      "Generators of mod p H^0 (weight 4, Z/2^2):\n",
      "\n",
      "\n",
      "E^3zf0+E^2f1+E^0f2+O(F>=10)\n",
      "\n",
      "E^1zf0*f1+O(F>=10)\n",
      "\n",
      "v1 action:\n",
      "v1*( E^3zf0+E^2f1+E^0f2+O(F>=10) )\n",
      "           = E^3zf1+E^1zf2+O(F>=10)\n",
      "v1*( E^1zf0*f1+O(F>=10) )\n",
      "           = 0+O(F>=10)\n",
      "-------------------------------------\n",
      "\n",
      "\n",
      "Generators of mod p H^0 (weight 5, Z/2^2):\n",
      "\n",
      "\n",
      "E^3zf1+E^1zf2+O(F>=12)\n",
      "\n",
      "E^3zf1+E^0f0*f2+O(F>=12)\n",
      "\n",
      "E^2f0*f1+O(F>=12)\n",
      "\n",
      "v1 action:\n",
      "v1*( E^3zf1+E^1zf2+O(F>=12) )\n",
      "           = E^3zf0*f1+E^1zf0*f2+O(F>=12)\n",
      "v1*( E^3zf1+E^0f0*f2+O(F>=12) )\n",
      "           = E^3zf0*f1+E^1zf0*f2+O(F>=12)\n",
      "v1*( E^2f0*f1+O(F>=12) )\n",
      "           = E^3zf0*f1+O(F>=12)\n",
      "-------------------------------------\n",
      "\n",
      "\n",
      "Generators of mod p H^0 (weight 6, Z/2^2):\n",
      "\n",
      "\n",
      "E^3zf0*f1+O(F>=14)\n",
      "\n",
      "E^1zf0*f2+O(F>=14)\n",
      "\n",
      "v1 action:\n",
      "v1*( E^3zf0*f1+O(F>=14) )\n",
      "           = 0+O(F>=14)\n",
      "v1*( E^1zf0*f2+O(F>=14) )\n",
      "           = 0+O(F>=14)\n",
      "-------------------------------------\n",
      "\n",
      "\n",
      "Generators of mod p H^0 (weight 7, Z/2^2):\n",
      "\n",
      "\n",
      "E^3zf2+E^1zf1*f2+O(F>=16)\n",
      "\n",
      "E^3zf2+E^0f0*f1*f2+O(F>=16)\n",
      "\n",
      "E^3zf2+E^2f0*f2+O(F>=16)\n",
      "\n",
      "v1 action:\n",
      "v1*( E^3zf2+E^1zf1*f2+O(F>=16) )\n",
      "           = E^3zf0*f2+E^1zf0*f1*f2+O(F>=16)\n",
      "v1*( E^3zf2+E^0f0*f1*f2+O(F>=16) )\n",
      "           = E^3zf0*f2+E^1zf0*f1*f2+O(F>=16)\n",
      "v1*( E^3zf2+E^2f0*f2+O(F>=16) )\n",
      "           = 0+O(F>=16)\n",
      "-------------------------------------\n",
      "\n",
      "\n",
      "Generators of mod p H^0 (weight 8, Z/2^2):\n",
      "\n",
      "\n",
      "E^5zf0*f1+E^2f1*f2+O(F>=18)\n",
      "\n",
      "E^1zf0*f1*f2+O(F>=18)\n",
      "\n",
      "E^5zf0*f1+E^4f2+E^0f3+O(F>=18)\n",
      "\n",
      "E^3zf0*f2+O(F>=18)\n",
      "\n",
      "v1 action:\n",
      "v1*( E^5zf0*f1+E^2f1*f2+O(F>=18) )\n",
      "           = E^3zf1*f2+O(F>=18)\n",
      "v1*( E^1zf0*f1*f2+O(F>=18) )\n",
      "           = 0+O(F>=18)\n",
      "v1*( E^5zf0*f1+E^4f2+E^0f3+O(F>=18) )\n",
      "           = E^5zf2+E^1zf3+O(F>=18)\n",
      "v1*( E^3zf0*f2+O(F>=18) )\n",
      "           = 0+O(F>=18)\n",
      "-------------------------------------\n",
      "\n",
      "\n"
     ]
    }
   ],
   "source": [
    "n=2\n",
    "\n",
    "for i in range(2,10):\n",
    "    compute_v1(i)"
   ]
  },
  {
   "cell_type": "code",
   "execution_count": null,
   "metadata": {},
   "outputs": [],
   "source": []
  }
 ],
 "metadata": {
  "kernelspec": {
   "display_name": "SageMath 10.0",
   "language": "sagemath",
   "name": "sagemath"
  },
  "language_info": {
   "codemirror_mode": {
    "name": "ipython",
    "version": 3
   },
   "file_extension": ".py",
   "mimetype": "text/x-python",
   "name": "python",
   "nbconvert_exporter": "python",
   "pygments_lexer": "ipython3",
   "version": "3.10.13"
  }
 },
 "nbformat": 4,
 "nbformat_minor": 4
}
