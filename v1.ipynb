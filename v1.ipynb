{
 "cells": [
  {
   "cell_type": "code",
   "execution_count": 1,
   "metadata": {},
   "outputs": [],
   "source": [
    "# Imports\n",
    "load('prismatic_envelope.sage')\n",
    "load('homology.sage')\n",
    "load('precision.py')"
   ]
  },
  {
   "cell_type": "markdown",
   "metadata": {},
   "source": [
    "### User-defined input"
   ]
  },
  {
   "cell_type": "code",
   "execution_count": 2,
   "metadata": {},
   "outputs": [
    {
     "name": "stdout",
     "output_type": "stream",
     "text": [
      "total p-adic precision is 92\n",
      "Fprec is 16\n"
     ]
    }
   ],
   "source": [
    "# The prime p\n",
    "p=2\n",
    "\n",
    "# The motivic weight i in F_p(i)^red\n",
    "i=8\n",
    "\n",
    "# The power of the uniformizer n\n",
    "n=2\n",
    "\n",
    "# The residual degree f\n",
    "# The present code only supports totally ramified extensions of Qp,\n",
    "# i.e., where f=1\n",
    "f=1\n",
    "\n",
    "Fprec,total_precision=target_total_precision(p,i,n)\n",
    "\n",
    "print(\"total p-adic precision is {}\".format(total_precision))\n",
    "print(\"Fprec is {}\".format(Fprec))\n",
    "\n",
    "# The coefficient ring W\n",
    "if f==1:\n",
    "    W=Zp(p,total_precision,type='capped-abs',print_mode='digits',show_prec=False)\n",
    "else:\n",
    "    W=Zq(p**f,total_precision,names='a',type='capped-abs',print_mode='series',show_prec=False)\n",
    "    \n",
    "# The Breuil-Kisin ring A\n",
    "A.<z>=PowerSeriesRing(W,Fprec)\n",
    "\n",
    "# The Eisenstein polynomial E\n",
    "# USER DEFINED\n",
    "E=A(z+p)"
   ]
  },
  {
   "cell_type": "code",
   "execution_count": 54,
   "metadata": {},
   "outputs": [
    {
     "data": {
      "text/plain": [
       "(1010100111010011010010110001111000001001001001000111010101100000001000000111001111000001011 + 11100100000011110010011011000001111100110110010100000101111001011100011001111101100110100110*z + 11010010101111011111010011010000010100101011100000100111011001111000000110010000111000001011*z^2 + 10001001010000011001000000110010101011110100101101001111011001011100100111011000010111011110*z^3 + 11110100011001100011110000110011010011100001011111110011010000101100010110101100101101001101*z^4 + 101001101011010000011011101100011111111101010100001100111001100010111110100010110111111110*z^5 + 110111000100101101111110110001001110100000101001000010011110011101110010000111000011111111*z^6 + 11111010100000000110101101111110110110010000100111100010100011111001111000111001011010101110*z^7 + 10010001101110110011100101110001010001111110000000110110011111000110001000011101110101011001*z^8 + 1111110110000010011001000100001100110110111001000011110011010010000011100100101101111111001*z^9 + 101011110100000000100101010111101001010000100110110000011100000011001100101001011000010110*z^10 + 11100011101100000100111010100111011101111101010111101100011011100100110110010000110110011100*z^11 + 111111100101111100101100110111000111111110100010111100100100100110100000000100111101101100*z^12 + 1000010010100001000001000100101011100000010100101101010010001010101010101100100101011100001*z^13 + 1100000101110001100110110111100010001111000111001111000001111100100000001111100101100101*z^14 + 1101000100011101110010010000101011010111011110011010100000100011010000101110011111011100110*z^15 + O(z^16))*d + 101010011010111111000100000000001000000011101001110010101111000001110101000001010001000000 + 11001011011000011011110110100100011011101000001010001110100100101100110000010111110110001101*z + 10001100001110000011011100111110100100000000001000100100111111011101101101110100000001111101*z^2 + 10000000011100111010111110111110001111111000100001001001101001001010001101001110001110000001*z^3 + 11110001011111010110010111111001001010111110101100111001001111110010001001000100011000001*z^4 + 10001101110110101001101000011101110010111010011000000100101011100101001010001001000111111101*z^5 + 11111010011010011100000011101001011001101011110010101011001011110110110001101000110100111101*z^6 + 1101010101111100000010001011001010011100101111001011101010001001111011000111111000100110010*z^7 + 1000000011101100100111100110000111111101111010111101011000000110101100000100001101010011000*z^8 + 1101100011101100000010111101100001101101101010111011101011110010110101111011000010000001010*z^9 + 1011110111110101110011100001110010001001010001110110001100101000111010001101101010101011010*z^10 + 11100001011100000000100011111001110100000111100110101011111111001010111001000100001000111011*z^11 + 1100110000100101110000111100001101101011110001111111110000001000000010001111110001011110101*z^12 + 1010111011001011100011101111100101101110011010100110001111100000000100011111101001001100011*z^13 + 1101011111000100101001010001001010110001000110010010010100101100111000110010000100111000*z^14 + 111001101101101000000010010001010111110101010100110100001101000100011101001111110001011011*z^15 + O(z^16)"
      ]
     },
     "execution_count": 54,
     "metadata": {},
     "output_type": "execute_result"
    }
   ],
   "source": [
    "R=PolynomialRing(W,'f',4);fa=R.random_element()\n",
    "S=PolynomialRing(A,'d');ga=S.random_element();ga"
   ]
  },
  {
   "cell_type": "markdown",
   "metadata": {},
   "source": [
    "### The main calculation"
   ]
  },
  {
   "cell_type": "code",
   "execution_count": null,
   "metadata": {},
   "outputs": [],
   "source": [
    "#%%capture\n",
    "# Suppresses some Python warnings and SAGE variable injections\n",
    "\n",
    "# The normalized Eisenstein polynomial\n",
    "# The normalization is to bring the Eisenstein polynomial into the form E(0)=p\n",
    "E=eisenstein_normalization(p,E)\n",
    "\n",
    "#if i-p+1>0:\n",
    "#    a_syn0,a_syn1,a_nablaN,a_nablaP,a_gens_N0,a_gens_P0,a_gens_N1,a_gens_P1=syntomic_matrices(p,i-p+1,n,E,total_precision,Fprec,debug=False)\n",
    "#    b_syn0,b_syn1,b_nablaN,b_nablaP,b_gens_N0,b_gens_P0,b_gens_N1,b_gens_P1=syntomic_matrices(p,i,n,E,total_precision,Fprec,debug=False)"
   ]
  },
  {
   "cell_type": "code",
   "execution_count": null,
   "metadata": {},
   "outputs": [],
   "source": [
    "syn_cplx_lower=SyntomicComplex(p,i-p+1,n,E,total_precision,Fprec,debug=False)\n",
    "syn_cplx=SyntomicComplex(p,i,n,E,total_precision,Fprec,debug=False)"
   ]
  },
  {
   "cell_type": "code",
   "execution_count": null,
   "metadata": {},
   "outputs": [],
   "source": []
  },
  {
   "cell_type": "code",
   "execution_count": null,
   "metadata": {},
   "outputs": [],
   "source": [
    "syn_cplx.compute_mod_p_homology()\n",
    "syn_cplx_lower.compute_mod_p_homology()"
   ]
  },
  {
   "cell_type": "code",
   "execution_count": null,
   "metadata": {},
   "outputs": [],
   "source": [
    "#syn_cplx.print_mod_p_homology()"
   ]
  },
  {
   "cell_type": "code",
   "execution_count": null,
   "metadata": {},
   "outputs": [],
   "source": [
    "nablaN_mod_p=Matrix(GF(2),syn_cplx.nablaN)\n",
    "\n",
    "print(syn_cplx.name_element('N0',23*[0] + [1]))\n",
    "syn_cplx.name_element('N1',nablaN_mod_p.column(24))"
   ]
  },
  {
   "cell_type": "code",
   "execution_count": null,
   "metadata": {},
   "outputs": [],
   "source": [
    "print(nablaN_mod_p)"
   ]
  },
  {
   "cell_type": "code",
   "execution_count": null,
   "metadata": {},
   "outputs": [],
   "source": [
    "print(ascii_art(syn_cplx.complex_mod_p))\n",
    "print(ascii_art(syn_cplx_lower.complex_mod_p))"
   ]
  },
  {
   "cell_type": "markdown",
   "metadata": {},
   "source": [
    "# Computing v1"
   ]
  },
  {
   "cell_type": "code",
   "execution_count": null,
   "metadata": {},
   "outputs": [],
   "source": [
    "v1N0,v1P0,v1N1,v1P1=v1_matrices(p,i,n,E,total_precision,Fprec,debug=False)"
   ]
  },
  {
   "cell_type": "code",
   "execution_count": null,
   "metadata": {},
   "outputs": [],
   "source": [
    "v1N0_Fp=Matrix(GF(p),v1N0)\n",
    "v1P0_Fp=Matrix(GF(p),v1P0)\n",
    "v1N1_Fp=Matrix(GF(p),v1N1)\n",
    "v1P1_Fp=Matrix(GF(p),v1P1)"
   ]
  },
  {
   "cell_type": "code",
   "execution_count": null,
   "metadata": {},
   "outputs": [],
   "source": [
    "v1N0_Fp"
   ]
  },
  {
   "cell_type": "code",
   "execution_count": null,
   "metadata": {},
   "outputs": [],
   "source": [
    "v1P0_Fp"
   ]
  },
  {
   "cell_type": "code",
   "execution_count": null,
   "metadata": {},
   "outputs": [],
   "source": [
    "v1N1_Fp"
   ]
  },
  {
   "cell_type": "code",
   "execution_count": null,
   "metadata": {},
   "outputs": [],
   "source": [
    "v1P1_Fp"
   ]
  },
  {
   "cell_type": "code",
   "execution_count": null,
   "metadata": {},
   "outputs": [],
   "source": [
    "v1_0=Matrix(GF(p),v1N0)\n",
    "v1_1=Matrix(GF(p),block_matrix([[v1P0,0],[0,v1N1]]))\n",
    "v1_2=Matrix(GF(p),v1P1)"
   ]
  },
  {
   "cell_type": "code",
   "execution_count": null,
   "metadata": {},
   "outputs": [],
   "source": [
    "v1_0"
   ]
  },
  {
   "cell_type": "code",
   "execution_count": null,
   "metadata": {},
   "outputs": [],
   "source": [
    "v1_1"
   ]
  },
  {
   "cell_type": "code",
   "execution_count": null,
   "metadata": {},
   "outputs": [],
   "source": [
    "v1_2"
   ]
  },
  {
   "cell_type": "code",
   "execution_count": null,
   "metadata": {},
   "outputs": [],
   "source": [
    "v1_2*syn_cplx_lower.complex_mod_p.differential()[1]==syn_cplx.complex_mod_p.differential()[1]*v1_1"
   ]
  },
  {
   "cell_type": "code",
   "execution_count": null,
   "metadata": {},
   "outputs": [],
   "source": [
    "v1={0:v1_0,1:v1_1,2:v1_2}\n",
    "mor = MorphismHomology(syn_cplx_lower.homology_mod_p, syn_cplx.homology_mod_p, v1)\n",
    "\n",
    "for h in mor.hF.values():\n",
    "    print(ascii_art(h))\n",
    "    print('\\n')"
   ]
  },
  {
   "cell_type": "code",
   "execution_count": null,
   "metadata": {},
   "outputs": [],
   "source": [
    "print(\"Generators of mod p H^0 (weight {}, Z/{}^{}):\\n\\n\".format(syn_cplx_lower.i, syn_cplx_lower.p, syn_cplx_lower.n))\n",
    "\n",
    "for gen in syn_cplx_lower.homology_mod_p_generators[0]:\n",
    "    print(gen + \"\\n\")"
   ]
  },
  {
   "cell_type": "code",
   "execution_count": null,
   "metadata": {},
   "outputs": [],
   "source": [
    "h = mor.hF[0]\n",
    "for i in range(h.ncols()):\n",
    "    cycle = syn_cplx.homology_mod_p.compute_cycle(0,h.column(i))\n",
    "    print(\"v1 * {}\\n           = {}\".format(syn_cplx_lower.homology_mod_p_generators[0][i], syn_cplx.name_element(0,cycle)))"
   ]
  },
  {
   "cell_type": "code",
   "execution_count": null,
   "metadata": {},
   "outputs": [],
   "source": [
    "def compute_v1(i):\n",
    "    Fprec,total_precision=target_total_precision(p,i,n)\n",
    "    W=Zp(p,total_precision,type='capped-abs',print_mode='digits',show_prec=False)\n",
    "    A.<z>=PowerSeriesRing(W,Fprec)\n",
    "    E=A(z+p)\n",
    "    syn_cplx_lower=SyntomicComplex(p,i-p+1,n,E,total_precision,Fprec,debug=False)\n",
    "    syn_cplx=SyntomicComplex(p,i,n,E,total_precision,Fprec,debug=False)\n",
    "    syn_cplx.compute_mod_p_homology()\n",
    "    syn_cplx_lower.compute_mod_p_homology()\n",
    "    v1N0,v1P0,v1N1,v1P1=v1_matrices(p,i,n,E,total_precision,Fprec,debug=False)\n",
    "    v1_0=Matrix(GF(p),v1N0)\n",
    "    v1_1=Matrix(GF(p),block_matrix([[v1P0,0],[0,v1N1]]))\n",
    "    v1_2=Matrix(GF(p),v1P1)\n",
    "    v1={0:v1_0,1:v1_1,2:v1_2}\n",
    "    mor = MorphismHomology(syn_cplx_lower.homology_mod_p, syn_cplx.homology_mod_p, v1)\n",
    "\n",
    "    print(\"Generators of mod p H^0 (weight {}, Z/{}^{}):\\n\\n\".format(syn_cplx_lower.i, syn_cplx_lower.p, syn_cplx_lower.n))\n",
    "\n",
    "    for gen in syn_cplx_lower.homology_mod_p_generators[0]:\n",
    "        print(gen + \"\\n\")\n",
    "    print(\"v1 action:\")\n",
    "    h = mor.hF[0]\n",
    "    for i in range(h.ncols()):\n",
    "        cycle = syn_cplx.homology_mod_p.compute_cycle(0,h.column(i))\n",
    "        print(\"v1*( {} )\\n           = {}\".format(syn_cplx_lower.homology_mod_p_generators[0][i], syn_cplx.name_element(0,cycle)))\n",
    "    print(\"-------------------------------------\\n\\n\")    "
   ]
  },
  {
   "cell_type": "code",
   "execution_count": null,
   "metadata": {
    "scrolled": true
   },
   "outputs": [],
   "source": [
    "n=2\n",
    "\n",
    "for i in range(2,10):\n",
    "    compute_v1(i)"
   ]
  },
  {
   "cell_type": "code",
   "execution_count": null,
   "metadata": {},
   "outputs": [],
   "source": []
  }
 ],
 "metadata": {
  "kernelspec": {
   "display_name": "SageMath 10.2",
   "language": "sage",
   "name": "sagemath"
  },
  "language_info": {
   "codemirror_mode": {
    "name": "ipython",
    "version": 3
   },
   "file_extension": ".py",
   "mimetype": "text/x-python",
   "name": "python",
   "nbconvert_exporter": "python",
   "pygments_lexer": "ipython3",
   "version": "3.11.1"
  }
 },
 "nbformat": 4,
 "nbformat_minor": 4
}
