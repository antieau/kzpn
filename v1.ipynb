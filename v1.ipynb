{
 "cells": [
  {
   "cell_type": "code",
   "execution_count": 1,
   "metadata": {},
   "outputs": [],
   "source": [
    "# Imports\n",
    "load('prismatic_envelope.sage')\n",
    "load('precision.py')"
   ]
  },
  {
   "cell_type": "markdown",
   "metadata": {},
   "source": [
    "### User-defined input"
   ]
  },
  {
   "cell_type": "code",
   "execution_count": 2,
   "metadata": {},
   "outputs": [],
   "source": [
    "# The prime p\n",
    "p=2\n",
    "\n",
    "# The motivic weight i in F_p(i)^red\n",
    "i=4\n",
    "\n",
    "# The power of the uniformizer n\n",
    "n=2\n",
    "\n",
    "# The residual degree f\n",
    "# The present code only supports totally ramified extensions of Qp,\n",
    "# i.e., where f=1\n",
    "f=1"
   ]
  },
  {
   "cell_type": "markdown",
   "metadata": {},
   "source": [
    "### Some precision calculations"
   ]
  },
  {
   "cell_type": "code",
   "execution_count": 3,
   "metadata": {},
   "outputs": [
    {
     "name": "stdout",
     "output_type": "stream",
     "text": [
      "total p-adic precision is 31\n",
      "Fprec is 8\n"
     ]
    }
   ],
   "source": [
    "# The calculated F-precision needed to compute at this weight\n",
    "Fprec=n*i\n",
    "\n",
    "# The target precision\n",
    "target_precision=nygaard_exponent(p,i,n)\n",
    "\n",
    "####################\n",
    "# Precision losses #\n",
    "####################\n",
    "\n",
    "### From \\delta\n",
    "precision_loss_delta=math.floor(math.log(Fprec-1,p))\n",
    "\n",
    "### From passing from OK to OK/pi^n\n",
    "precision_loss_quotient=0\n",
    "for q in range(p,i):\n",
    "    precision_loss_quotient+=n*valuation(p,math.factorial(q))\n",
    "    \n",
    "### From lifting nabla to Nygaard\n",
    "precision_loss_nygaard=n*math.floor(i*(i-1)/2)\n",
    "\n",
    "### From computing can-phi on primitives\n",
    "precision_loss_primitives=target_precision\n",
    "\n",
    "### From renormalizing the Eisenstein polynomial\n",
    "precision_loss_from_Eisenstein=1\n",
    "\n",
    "### Probably this precision can be taken to be lower since we will only need the\n",
    "### Fp-coefficient calculation\n",
    "total_precision=(target_precision+precision_loss_delta\n",
    "                 +precision_loss_quotient\n",
    "                 +precision_loss_nygaard\n",
    "                 +precision_loss_primitives\n",
    "                 +precision_loss_from_Eisenstein)\n",
    "\n",
    "print(\"total p-adic precision is {}\".format(total_precision))\n",
    "print(\"Fprec is {}\".format(Fprec))\n",
    "\n",
    "# The coefficient ring W\n",
    "if f==1:\n",
    "    W=Zp(p,total_precision,type='capped-abs',print_mode='digits',show_prec=False)\n",
    "else:\n",
    "    W=Zq(p**f,total_precision,names='a',type='capped-abs',print_mode='series',show_prec=False)\n",
    "    \n",
    "# The Breuil-Kisin ring A\n",
    "A.<z>=PowerSeriesRing(W,Fprec)"
   ]
  },
  {
   "cell_type": "markdown",
   "metadata": {},
   "source": [
    "### User-defined input: the Eisenstein polynomial\n",
    "\n",
    "Note that in order for this to be created in a power series ring with the correct p-adic and F-adic precisions,\n",
    "the elements p,i,n,f should be set above *before* defining the Eisenstein polynomial."
   ]
  },
  {
   "cell_type": "code",
   "execution_count": 4,
   "metadata": {},
   "outputs": [],
   "source": [
    "# The Eisenstein polynomial E\n",
    "E=A(z+p)"
   ]
  },
  {
   "cell_type": "markdown",
   "metadata": {},
   "source": [
    "### The main calculation"
   ]
  },
  {
   "cell_type": "code",
   "execution_count": 5,
   "metadata": {},
   "outputs": [
    {
     "name": "stderr",
     "output_type": "stream",
     "text": [
      "<ipython-input-5-c1f0ee4b902c>:9: DeprecationWarning: __getitem__ is changing to match the behavior of number fields. Please use expansion instead.\n",
      "See http://trac.sagemath.org/14825 for details.\n",
      "  a_syn0,a_syn1,a_nablaN,a_nablaP=syntomic_matrices(p,i-p+Integer(1),n,E,total_precision,Fprec,debug=False)\n",
      "<ipython-input-5-c1f0ee4b902c>:10: DeprecationWarning: __getitem__ is changing to match the behavior of number fields. Please use expansion instead.\n",
      "See http://trac.sagemath.org/14825 for details.\n",
      "  b_syn0,b_syn1,b_nablaN,b_nablaP=syntomic_matrices(p,i,n,E,total_precision,Fprec,debug=False)\n"
     ]
    }
   ],
   "source": [
    "#%%capture\n",
    "# Suppresses some Python warnings and SAGE variable injections\n",
    "\n",
    "# The normalized Eisenstein polynomial\n",
    "# The normalization is to bring the Eisenstein polynomial into the form E(0)=p\n",
    "E=eisenstein_normalization(p,E)\n",
    "\n",
    "if i-p+1>0:\n",
    "    a_syn0,a_syn1,a_nablaN,a_nablaP=syntomic_matrices(p,i-p+1,n,E,total_precision,Fprec,debug=False)\n",
    "    b_syn0,b_syn1,b_nablaN,b_nablaP=syntomic_matrices(p,i,n,E,total_precision,Fprec,debug=False)"
   ]
  },
  {
   "cell_type": "markdown",
   "metadata": {},
   "source": [
    "### Assembling the syntomic complex and computing its cohomology"
   ]
  },
  {
   "cell_type": "code",
   "execution_count": 6,
   "metadata": {},
   "outputs": [
    {
     "name": "stdout",
     "output_type": "stream",
     "text": [
      "Elementary divisors of K_4(R;Z_p) are []\n",
      "Elementary divisors of K_5(R;Z_p) are [1000]\n",
      "Target precision is 7 and final precision is 23\n"
     ]
    }
   ],
   "source": [
    "# The K-groups (cohomology of the p-adic syntomic complex)\n",
    "# New\n",
    "coh_dict,final_precision=syntomic_cohomology(a_syn0,a_syn1,a_nablaN,a_nablaP)\n",
    "\n",
    "print('Elementary divisors of K_{}(R;Z_p)'.format(2*(i-p+1)-2)+' are {}'.format(coh_dict['h2'][1]))\n",
    "print('Elementary divisors of K_{}(R;Z_p)'.format(2*(i-p+1)-1)+' are {}'.format(coh_dict['h1'][1]))\n",
    "print('Target precision is {} and final precision is {}'.format(target_precision,final_precision))"
   ]
  },
  {
   "cell_type": "code",
   "execution_count": 7,
   "metadata": {},
   "outputs": [
    {
     "name": "stdout",
     "output_type": "stream",
     "text": [
      "Elementary divisors of K_6(R;Z_p) are []\n",
      "Elementary divisors of K_7(R;Z_p) are [10, 1000]\n",
      "Target precision is 7 and final precision is 19\n"
     ]
    }
   ],
   "source": [
    "# The K-groups (cohomology of the p-adic syntomic complex)\n",
    "# New\n",
    "coh_dict,final_precision=syntomic_cohomology(b_syn0,b_syn1,b_nablaN,b_nablaP)\n",
    "\n",
    "print('Elementary divisors of K_{}(R;Z_p)'.format(2*i-2)+' are {}'.format(coh_dict['h2'][1]))\n",
    "print('Elementary divisors of K_{}(R;Z_p)'.format(2*i-1)+' are {}'.format(coh_dict['h1'][1]))\n",
    "print('Target precision is {} and final precision is {}'.format(target_precision,final_precision))"
   ]
  },
  {
   "cell_type": "code",
   "execution_count": 8,
   "metadata": {},
   "outputs": [
    {
     "data": {
      "text/plain": [
       "{0: Vector space of dimension 1 over Finite Field of size 2,\n",
       " 1: Vector space of dimension 1 over Finite Field of size 2,\n",
       " 2: Vector space of dimension 0 over Finite Field of size 2}"
      ]
     },
     "execution_count": 8,
     "metadata": {},
     "output_type": "execute_result"
    }
   ],
   "source": [
    "a_d0=block_matrix([[a_syn0],[a_nablaN]])\n",
    "a_d1=block_matrix([[a_nablaP,-a_syn1]])\n",
    "a_d0_Fp=Matrix(GF(p),a_d0)\n",
    "a_d1_Fp=Matrix(GF(p),a_d1)\n",
    "a_C=ChainComplex({0:a_d0_Fp,1:a_d1_Fp})\n",
    "a_C.homology()"
   ]
  },
  {
   "cell_type": "code",
   "execution_count": 9,
   "metadata": {},
   "outputs": [
    {
     "data": {
      "text/plain": [
       "{0: Vector space of dimension 2 over Finite Field of size 2,\n",
       " 1: Vector space of dimension 2 over Finite Field of size 2,\n",
       " 2: Vector space of dimension 0 over Finite Field of size 2}"
      ]
     },
     "execution_count": 9,
     "metadata": {},
     "output_type": "execute_result"
    }
   ],
   "source": [
    "b_d0=block_matrix([[b_syn0],[b_nablaN]])\n",
    "b_d1=block_matrix([[b_nablaP,-b_syn1]])\n",
    "b_d0_Fp=Matrix(GF(p),b_d0)\n",
    "b_d1_Fp=Matrix(GF(p),b_d1)\n",
    "b_C=ChainComplex({0:b_d0_Fp,1:b_d1_Fp})\n",
    "b_C.homology()"
   ]
  },
  {
   "cell_type": "code",
   "execution_count": 10,
   "metadata": {},
   "outputs": [
    {
     "data": {
      "text/plain": [
       "                                        [0 0 0 0 0]      \n",
       "                                        [1 0 0 0 0]      \n",
       "                                        [0 0 0 0 0]      \n",
       "                                        [0 1 0 0 0]      \n",
       "                                        [0 0 0 1 0]      \n",
       "            [1 0 0 0 0 0 0 0 0 0]       [0 0 0 0 0]      \n",
       "            [0 0 0 0 0 1 0 0 0 0]       [0 0 0 0 0]      \n",
       "            [1 0 1 0 0 1 0 0 0 0]       [0 0 0 0 0]      \n",
       "            [0 0 0 0 0 1 0 1 0 0]       [0 0 1 0 0]      \n",
       "            [0 0 0 0 1 0 0 0 0 1]       [0 0 0 1 0]      \n",
       " 0 <-- C_2 <---------------------- C_1 <------------ C_0 <-- 0 "
      ]
     },
     "execution_count": 10,
     "metadata": {},
     "output_type": "execute_result"
    }
   ],
   "source": [
    "ascii_art(a_C)"
   ]
  },
  {
   "cell_type": "code",
   "execution_count": 11,
   "metadata": {},
   "outputs": [
    {
     "data": {
      "text/plain": [
       "                                                [0 0 0 0 0 0 0]      \n",
       "                                                [1 0 0 0 0 0 0]      \n",
       "                                                [0 0 0 0 0 0 0]      \n",
       "                                                [0 1 0 0 0 0 0]      \n",
       "                                                [0 0 0 0 0 0 0]      \n",
       "                                                [0 0 1 1 0 0 0]      \n",
       "                                                [1 1 0 0 1 1 0]      \n",
       "            [1 0 0 0 0 0 0 0 0 0 0 0 0 0]       [0 0 0 0 0 0 0]      \n",
       "            [0 0 0 0 0 0 0 1 0 0 0 0 0 0]       [1 0 0 0 0 0 0]      \n",
       "            [0 0 1 0 0 0 0 0 0 0 0 0 0 0]       [0 1 0 0 0 0 0]      \n",
       "            [0 1 0 0 0 0 0 1 1 0 0 0 0 0]       [0 0 0 0 0 0 0]      \n",
       "            [0 0 0 0 1 0 0 0 0 0 0 0 0 0]       [0 0 0 0 0 0 0]      \n",
       "            [0 0 0 1 0 0 0 0 0 1 0 1 0 0]       [0 0 0 0 1 0 0]      \n",
       "            [0 0 1 0 1 0 1 0 1 1 0 0 1 1]       [0 0 0 0 0 1 0]      \n",
       " 0 <-- C_2 <------------------------------ C_1 <---------------- C_0 <-- 0 "
      ]
     },
     "execution_count": 11,
     "metadata": {},
     "output_type": "execute_result"
    }
   ],
   "source": [
    "ascii_art(b_C)"
   ]
  },
  {
   "cell_type": "markdown",
   "metadata": {},
   "source": [
    "# Computing v1"
   ]
  },
  {
   "cell_type": "code",
   "execution_count": 12,
   "metadata": {},
   "outputs": [
    {
     "name": "stdout",
     "output_type": "stream",
     "text": [
      "\n",
      "\n",
      "\n",
      "\n",
      "\n",
      "\n",
      "\n",
      "\n",
      "\n",
      "\n",
      "z*d_tilde^5\n",
      "(10*z + O(z^8))*d_tilde^4 + ((10 + z + O(z^6))*f0)*d_tilde^3\n",
      "f0*d_tilde^4\n",
      "((10 + z + O(z^6))*f0)*d_tilde^3\n",
      "z*f0*d_tilde^4\n",
      "((10*z + O(z^6))*f0)*d_tilde^3 + ((100 + 1111111111111111111111111111010*z + O(z^4))*f1)*d_tilde^2 + ((11100 + 1111111111111111111111111011000*z + O(z^2))*f0*f1)*d_tilde\n",
      "f1*d_tilde^3\n",
      "((10 + z + O(z^4))*f1)*d_tilde^2\n",
      "z*f1*d_tilde^3\n",
      "((10*z + O(z^4))*f1)*d_tilde^2 + ((10 + z + O(z^2))*f0*f1)*d_tilde\n"
     ]
    },
    {
     "name": "stderr",
     "output_type": "stream",
     "text": [
      "<ipython-input-12-59b81f9b3840>:1: DeprecationWarning: __getitem__ is changing to match the behavior of number fields. Please use expansion instead.\n",
      "See http://trac.sagemath.org/14825 for details.\n",
      "  v1N0,v1P0,v1N1,v1P1=v1_matrices(p,i,n,E,total_precision,Fprec,debug=False)\n"
     ]
    }
   ],
   "source": [
    "v1N0,v1P0,v1N1,v1P1=v1_matrices(p,i,n,E,total_precision,Fprec,debug=False)"
   ]
  },
  {
   "cell_type": "code",
   "execution_count": 13,
   "metadata": {},
   "outputs": [],
   "source": [
    "v1N0_Fp=Matrix(GF(p),v1N0)\n",
    "v1P0_Fp=Matrix(GF(p),v1P0)\n",
    "v1N1_Fp=Matrix(GF(p),v1N1)\n",
    "v1P1_Fp=Matrix(GF(p),v1P1)"
   ]
  },
  {
   "cell_type": "code",
   "execution_count": 14,
   "metadata": {},
   "outputs": [
    {
     "data": {
      "text/plain": [
       "[0 0 0 0 0]\n",
       "[0 0 0 0 0]\n",
       "[1 1 0 0 0]\n",
       "[0 0 0 0 0]\n",
       "[0 0 0 1 0]\n",
       "[0 0 0 0 0]\n",
       "[0 0 0 0 1]"
      ]
     },
     "execution_count": 14,
     "metadata": {},
     "output_type": "execute_result"
    }
   ],
   "source": [
    "v1N0_Fp"
   ]
  },
  {
   "cell_type": "code",
   "execution_count": 15,
   "metadata": {},
   "outputs": [
    {
     "data": {
      "text/plain": [
       "[0 0 0 0 0]\n",
       "[0 0 0 0 0]\n",
       "[1 0 0 0 0]\n",
       "[0 0 0 0 0]\n",
       "[0 0 0 0 0]\n",
       "[0 1 0 1 0]\n",
       "[0 0 1 0 1]"
      ]
     },
     "execution_count": 15,
     "metadata": {},
     "output_type": "execute_result"
    }
   ],
   "source": [
    "v1P0_Fp"
   ]
  },
  {
   "cell_type": "code",
   "execution_count": 16,
   "metadata": {},
   "outputs": [
    {
     "data": {
      "text/plain": [
       "[0 0 0 0 0]\n",
       "[1 0 0 0 0]\n",
       "[0 0 0 0 0]\n",
       "[0 1 1 0 0]\n",
       "[0 0 0 0 0]\n",
       "[0 0 0 0 1]\n",
       "[0 0 0 0 0]"
      ]
     },
     "execution_count": 16,
     "metadata": {},
     "output_type": "execute_result"
    }
   ],
   "source": [
    "v1N1_Fp"
   ]
  },
  {
   "cell_type": "code",
   "execution_count": 17,
   "metadata": {},
   "outputs": [
    {
     "data": {
      "text/plain": [
       "[0 0 0 0 0]\n",
       "[0 0 0 0 0]\n",
       "[1 0 0 0 0]\n",
       "[0 1 0 0 0]\n",
       "[0 0 0 0 0]\n",
       "[0 0 0 0 0]\n",
       "[0 0 1 0 1]"
      ]
     },
     "execution_count": 17,
     "metadata": {},
     "output_type": "execute_result"
    }
   ],
   "source": [
    "v1P1_Fp"
   ]
  },
  {
   "cell_type": "code",
   "execution_count": 18,
   "metadata": {},
   "outputs": [],
   "source": [
    "v1_0=Matrix(GF(p),v1N0)\n",
    "v1_1=Matrix(GF(p),block_matrix([[v1P0,0],[0,v1N1]]))\n",
    "v1_2=Matrix(GF(p),v1P1)"
   ]
  },
  {
   "cell_type": "code",
   "execution_count": 19,
   "metadata": {},
   "outputs": [
    {
     "data": {
      "text/plain": [
       "[0 0 0 0 0]\n",
       "[0 0 0 0 0]\n",
       "[1 1 0 0 0]\n",
       "[0 0 0 0 0]\n",
       "[0 0 0 1 0]\n",
       "[0 0 0 0 0]\n",
       "[0 0 0 0 1]"
      ]
     },
     "execution_count": 19,
     "metadata": {},
     "output_type": "execute_result"
    }
   ],
   "source": [
    "v1_0"
   ]
  },
  {
   "cell_type": "code",
   "execution_count": 20,
   "metadata": {},
   "outputs": [
    {
     "data": {
      "text/plain": [
       "[0 0 0 0 0 0 0 0 0 0]\n",
       "[0 0 0 0 0 0 0 0 0 0]\n",
       "[1 0 0 0 0 0 0 0 0 0]\n",
       "[0 0 0 0 0 0 0 0 0 0]\n",
       "[0 0 0 0 0 0 0 0 0 0]\n",
       "[0 1 0 1 0 0 0 0 0 0]\n",
       "[0 0 1 0 1 0 0 0 0 0]\n",
       "[0 0 0 0 0 0 0 0 0 0]\n",
       "[0 0 0 0 0 1 0 0 0 0]\n",
       "[0 0 0 0 0 0 0 0 0 0]\n",
       "[0 0 0 0 0 0 1 1 0 0]\n",
       "[0 0 0 0 0 0 0 0 0 0]\n",
       "[0 0 0 0 0 0 0 0 0 1]\n",
       "[0 0 0 0 0 0 0 0 0 0]"
      ]
     },
     "execution_count": 20,
     "metadata": {},
     "output_type": "execute_result"
    }
   ],
   "source": [
    "v1_1"
   ]
  },
  {
   "cell_type": "code",
   "execution_count": 21,
   "metadata": {},
   "outputs": [
    {
     "data": {
      "text/plain": [
       "[0 0 0 0 0]\n",
       "[0 0 0 0 0]\n",
       "[1 0 0 0 0]\n",
       "[0 1 0 0 0]\n",
       "[0 0 0 0 0]\n",
       "[0 0 0 0 0]\n",
       "[0 0 1 0 1]"
      ]
     },
     "execution_count": 21,
     "metadata": {},
     "output_type": "execute_result"
    }
   ],
   "source": [
    "v1_2"
   ]
  },
  {
   "cell_type": "code",
   "execution_count": 22,
   "metadata": {},
   "outputs": [
    {
     "data": {
      "text/plain": [
       "True"
      ]
     },
     "execution_count": 22,
     "metadata": {},
     "output_type": "execute_result"
    }
   ],
   "source": [
    "v1_1*a_C.differential()[0]==b_C.differential()[0]*v1_0"
   ]
  },
  {
   "cell_type": "code",
   "execution_count": 23,
   "metadata": {},
   "outputs": [
    {
     "data": {
      "text/plain": [
       "True"
      ]
     },
     "execution_count": 23,
     "metadata": {},
     "output_type": "execute_result"
    }
   ],
   "source": [
    "v1_2*a_C.differential()[1]==b_C.differential()[1]*v1_1"
   ]
  },
  {
   "cell_type": "code",
   "execution_count": 24,
   "metadata": {},
   "outputs": [],
   "source": [
    "class Homology():\n",
    "    def __init__(self,C):\n",
    "        self.complex = C\n",
    "        self.compute_homology()\n",
    "    def compute_homology(self):\n",
    "        self.complex_smith_form()\n",
    "        nz=self.complex.nonzero_degrees()\n",
    "        deg_min=min(nz)\n",
    "        deg_max=max(nz)\n",
    "        self.homology_orders={}\n",
    "        self.homology_representatives={}\n",
    "        for i in range(deg_min,deg_max+1):\n",
    "            self.homology_orders[i] = self.homology_smith_form(i)\n",
    "            self.homology_representatives[i] = self.compute_homology_representatives(i)\n",
    "        \n",
    "    def complex_smith_form(self):\n",
    "        # Returns a triple (D,f,g) where each differential is in ``Smith form''\n",
    "        # and f is a map of chain complexes C -> D.\n",
    "        # Assumes that the degree of the differential is +1.\n",
    "        nz=self.complex.nonzero_degrees()\n",
    "        deg_min=min(nz)\n",
    "        deg_max=max(nz)\n",
    "        # The number of differentials\n",
    "        lt=deg_max-deg_min\n",
    "        self.f_dict={}\n",
    "        self.g_dict={}\n",
    "        for i in range(deg_min,deg_max+1):\n",
    "            self.f_dict[i]=identity_matrix(self.complex.free_module_rank(i))\n",
    "            self.g_dict[i]=identity_matrix(self.complex.free_module_rank(i))\n",
    "        D_dict={}\n",
    "        j=0\n",
    "        S,U,V=self.complex.differential()[deg_max-(j+1)].smith_form()\n",
    "        D_dict[deg_max-(j+1)]=S\n",
    "        self.f_dict[deg_max-j]=U*self.f_dict[deg_max-j]\n",
    "        self.f_dict[deg_max-(j+1)]=V^(-1)*self.f_dict[deg_max-(j+1)]\n",
    "        self.g_dict[deg_max-j]=self.g_dict[deg_max-j]*U^(-1)\n",
    "        self.g_dict[deg_max-(j+1)]=self.g_dict[deg_max-(j+1)]*V    \n",
    "        for j in range(1,lt):\n",
    "            new_d=self.f_dict[deg_max-j]*self.complex.differential()[deg_max-(j+1)]\n",
    "            col_offset=0\n",
    "            row_offset=D_dict[deg_max-j].transpose().rank()\n",
    "            col_num=self.complex.differential()[deg_max-(j+1)].dimensions()[1]\n",
    "            row_num=D_dict[deg_max-j].transpose().nullity()\n",
    "            new_d_sub=new_d.submatrix(row_offset,col_offset,row_num,col_num)\n",
    "            S_sub,U_sub,V=new_d_sub.smith_form()\n",
    "            S=block_matrix([[Matrix(row_offset,col_num)],[S_sub]])\n",
    "            U=block_matrix([[identity_matrix(row_offset),0],[0,U_sub]])\n",
    "            self.f_dict[deg_max-j]=U*self.f_dict[deg_max-j]\n",
    "            self.f_dict[deg_max-(j+1)]=V^(-1)*self.f_dict[deg_max-(j+1)]\n",
    "            self.g_dict[deg_max-j]=self.g_dict[deg_max-j]*U^(-1)\n",
    "            self.g_dict[deg_max-(j+1)]=self.g_dict[deg_max-(j+1)]*V\n",
    "            D_dict[deg_max-(j+1)]=S\n",
    "        self.complex_smith = ChainComplex(D_dict)\n",
    "    def homology_smith_form(self,i):\n",
    "        nz=self.complex_smith.nonzero_degrees()\n",
    "        deg_min=min(nz)\n",
    "        deg_max=max(nz)\n",
    "        if i<deg_min or i>deg_max:\n",
    "            return []\n",
    "        elif i==deg_max:\n",
    "            num_gens=self.complex_smith.differential()[i-1].nrows()\n",
    "            offset=0\n",
    "            l=[]\n",
    "            for j in range(num_gens):\n",
    "                if j<self.complex_smith.differential()[i-1].ncols() and j+offset<self.complex_smith.differential()[i-1].nrows():\n",
    "                    div=self.complex_smith.differential()[i-1][j+offset,j]\n",
    "                    if not div.is_unit():\n",
    "                        l.append(div)\n",
    "                else:\n",
    "                    l.append(0)\n",
    "            return l\n",
    "        elif i>deg_min:\n",
    "            num_gens=self.complex_smith.differential()[i].ncols()-self.complex_smith.differential()[i].rank()\n",
    "            l=[]\n",
    "            offset=self.complex_smith.differential()[i].rank()\n",
    "            for j in range(num_gens):\n",
    "                if j<self.complex_smith.differential()[i-1].ncols() and j+offset<self.complex_smith.differential()[i-1].nrows():\n",
    "                    div=self.complex_smith.differential()[i-1][j+offset,j]\n",
    "                    if not div.is_unit():\n",
    "                        l.append(div)\n",
    "                else:\n",
    "                    l.append(0)\n",
    "            return l\n",
    "        elif i==deg_min:\n",
    "            num_gens=self.complex_smith.differential()[i].ncols()-self.complex_smith.differential()[i].rank()\n",
    "            l=[0]*num_gens\n",
    "            return l\n",
    "    def compute_homology_representatives(self,i):\n",
    "        nz=self.complex_smith.nonzero_degrees()\n",
    "        deg_min=min(nz)\n",
    "        deg_max=max(nz)\n",
    "        if i<deg_min or i>deg_max:\n",
    "            return []\n",
    "        h = self.homology_orders[i]\n",
    "        return self.g_dict[i].submatrix(0,self.g_dict[i].ncols() - len(h))\n",
    "\n",
    "class MorphismHomology():\n",
    "    def __init__(self, hA, hB, F):\n",
    "        self.hA = hA\n",
    "        self.hB = hB\n",
    "        self.F = F\n",
    "        self.compute_morphisms()\n",
    "    def compute_morphisms(self):\n",
    "        nz=self.F.keys()\n",
    "        deg_min=min(nz)\n",
    "        deg_max=max(nz)\n",
    "        self.hF = {}\n",
    "        for i in range(deg_min, deg_max+1):\n",
    "            new_F=self.hB.f_dict[i]*self.F[i]*self.hA.g_dict[i]\n",
    "            x=len(self.hA.homology_orders[i])\n",
    "            y=len(self.hB.homology_orders[i])\n",
    "            self.hF[i] = new_F.submatrix(new_F.nrows()-y,new_F.ncols()-x)\n"
   ]
  },
  {
   "cell_type": "code",
   "execution_count": 25,
   "metadata": {},
   "outputs": [
    {
     "name": "stdout",
     "output_type": "stream",
     "text": [
      "[0]\n",
      "[1]\n",
      "\n",
      "\n",
      "[1]\n",
      "[0]\n",
      "\n",
      "\n",
      "[]\n",
      "\n",
      "\n"
     ]
    }
   ],
   "source": [
    "v1={0:v1_0,1:v1_1,2:v1_2}\n",
    "ha_C = Homology(a_C)\n",
    "hb_C = Homology(b_C)\n",
    "mor = MorphismHomology(ha_C, hb_C, v1)\n",
    "\n",
    "for h in mor.hF.values():\n",
    "    print(ascii_art(h))\n",
    "    print('\\n')"
   ]
  },
  {
   "cell_type": "code",
   "execution_count": 26,
   "metadata": {},
   "outputs": [
    {
     "data": {
      "text/plain": [
       "                                        [0 0 0 0 0]      \n",
       "                                        [0 0 0 0 0]      \n",
       "                                        [0 0 0 0 0]      \n",
       "                                        [0 0 0 0 0]      \n",
       "                                        [0 0 0 0 0]      \n",
       "                                        [---------]      \n",
       "            [1 0 0 0 0 0 0 0 0 0]       [1 0 0 0 0]      \n",
       "            [0 1 0 0 0 0 0 0 0 0]       [0 1 0 0 0]      \n",
       "            [0 0 1 0 0 0 0 0 0 0]       [0 0 1 0 0]      \n",
       "            [0 0 0 1 0 0 0 0 0 0]       [0 0 0 1 0]      \n",
       "            [0 0 0 0 1 0 0 0 0 0]       [0 0 0 0 0]      \n",
       " 0 <-- C_2 <---------------------- C_1 <------------ C_0 <-- 0 "
      ]
     },
     "execution_count": 26,
     "metadata": {},
     "output_type": "execute_result"
    }
   ],
   "source": [
    "ascii_art(ha_C.complex_smith)"
   ]
  },
  {
   "cell_type": "code",
   "execution_count": 27,
   "metadata": {},
   "outputs": [
    {
     "data": {
      "text/plain": [
       "                                                [0 0 0 0 0 0 0]      \n",
       "                                                [0 0 0 0 0 0 0]      \n",
       "                                                [0 0 0 0 0 0 0]      \n",
       "                                                [0 0 0 0 0 0 0]      \n",
       "                                                [0 0 0 0 0 0 0]      \n",
       "                                                [0 0 0 0 0 0 0]      \n",
       "                                                [0 0 0 0 0 0 0]      \n",
       "                                                [-------------]      \n",
       "            [1 0 0 0 0 0 0 0 0 0 0 0 0 0]       [1 0 0 0 0 0 0]      \n",
       "            [0 1 0 0 0 0 0 0 0 0 0 0 0 0]       [0 1 0 0 0 0 0]      \n",
       "            [0 0 1 0 0 0 0 0 0 0 0 0 0 0]       [0 0 1 0 0 0 0]      \n",
       "            [0 0 0 1 0 0 0 0 0 0 0 0 0 0]       [0 0 0 1 0 0 0]      \n",
       "            [0 0 0 0 1 0 0 0 0 0 0 0 0 0]       [0 0 0 0 1 0 0]      \n",
       "            [0 0 0 0 0 1 0 0 0 0 0 0 0 0]       [0 0 0 0 0 0 0]      \n",
       "            [0 0 0 0 0 0 1 0 0 0 0 0 0 0]       [0 0 0 0 0 0 0]      \n",
       " 0 <-- C_2 <------------------------------ C_1 <---------------- C_0 <-- 0 "
      ]
     },
     "execution_count": 27,
     "metadata": {},
     "output_type": "execute_result"
    }
   ],
   "source": [
    "ascii_art(hb_C.complex_smith)"
   ]
  },
  {
   "cell_type": "code",
   "execution_count": 28,
   "metadata": {},
   "outputs": [
    {
     "data": {
      "text/plain": [
       "[0]\n",
       "[0]\n",
       "[0]\n",
       "[0]\n",
       "[0]\n",
       "[0]\n",
       "[1]\n",
       "[0]\n",
       "[0]\n",
       "[0]"
      ]
     },
     "execution_count": 28,
     "metadata": {},
     "output_type": "execute_result"
    }
   ],
   "source": [
    "ha_C.homology_representatives[1]"
   ]
  },
  {
   "cell_type": "code",
   "execution_count": 29,
   "metadata": {},
   "outputs": [
    {
     "data": {
      "text/plain": [
       "[0]"
      ]
     },
     "execution_count": 29,
     "metadata": {},
     "output_type": "execute_result"
    }
   ],
   "source": [
    "ha_C.homology_orders[1]"
   ]
  },
  {
   "cell_type": "code",
   "execution_count": 30,
   "metadata": {},
   "outputs": [
    {
     "data": {
      "text/plain": [
       "                                                         \n",
       "                                                         \n",
       "                                                         \n",
       "                                                         \n",
       "                                                         \n",
       "                                                         \n",
       "                                                         \n",
       "                                                         \n",
       "                                                         \n",
       "                                                         \n",
       "                                                         \n",
       "                                                         \n",
       "                                                         \n",
       "            [0 0 0 0 0|1 0 0 0 0 0 0 0 0 0 0 0 0 0]      \n",
       "            [0 0 0 0 0|0 0 0 0 0 0 0 1 0 0 0 0 0 0]      \n",
       "            [1 0 0 0 0|0 0 1 0 0 0 0 0 0 0 0 0 0 0]      \n",
       "            [0 1 0 0 0|0 1 0 0 0 0 0 1 1 0 0 0 0 0]      \n",
       "            [0 0 0 0 0|0 0 0 0 1 0 0 0 0 0 0 0 0 0]      \n",
       "            [0 0 0 0 0|0 0 0 1 0 0 0 0 0 1 0 1 0 0]      \n",
       "            [0 0 1 0 1|0 0 1 0 1 0 1 0 1 1 0 0 1 1]      \n",
       " 0 <-- C_2 <---------------------------------------- C_1 \n",
       "\n",
       " [1 0 0 0 0 0 0 0 0 0|0 0 0 0 0 0 0]                         \n",
       " [0 0 0 0 0 1 0 0 0 0|0 0 0 0 0 0 0]                         \n",
       " [1 0 1 0 0 1 0 0 0 0|0 0 0 0 0 0 0]       [0 0 0 0 0]       \n",
       " [0 0 0 0 0 1 0 1 0 0|0 0 0 0 0 0 0]       [1 0 0 0 0]       \n",
       " [0 0 0 0 1 0 0 0 0 1|0 0 0 0 0 0 0]       [0 0 0 0 0]       \n",
       " [-------------------+-------------]       [0 1 0 0 0]       \n",
       " [0 0 0 0 0 0 0 0 0 0|0 0 0 0 0 0 0]       [0 0 0 1 0]       \n",
       " [0 0 0 0 0 0 0 0 0 0|1 0 0 0 0 0 0]       [0 0 0 0 0]       \n",
       " [1 0 0 0 0 0 0 0 0 0|0 0 0 0 0 0 0]       [0 0 0 0 0]       \n",
       " [0 0 0 0 0 0 0 0 0 0|0 1 0 0 0 0 0]       [0 0 0 0 0]       \n",
       " [0 0 0 0 0 0 0 0 0 0|0 0 0 0 0 0 0]       [0 0 1 0 0]       \n",
       " [0 1 0 1 0 0 0 0 0 0|0 0 1 1 0 0 0]       [0 0 0 1 0]       \n",
       " [0 0 1 0 1 0 0 0 0 0|1 1 0 0 1 1 0]       [---------]       \n",
       " [0 0 0 0 0 0 0 0 0 0|0 0 0 0 0 0 0]       [0 0 0 0 0]       \n",
       " [0 0 0 0 0 1 0 0 0 0|1 0 0 0 0 0 0]       [0 0 0 0 0]       \n",
       " [0 0 0 0 0 0 0 0 0 0|0 1 0 0 0 0 0]       [1 1 0 0 0]       \n",
       " [0 0 0 0 0 0 1 1 0 0|0 0 0 0 0 0 0]       [0 0 0 0 0]       \n",
       " [0 0 0 0 0 0 0 0 0 0|0 0 0 0 0 0 0]       [0 0 0 1 0]       \n",
       " [0 0 0 0 0 0 0 0 0 1|0 0 0 0 1 0 0]       [0 0 0 0 0]       \n",
       " [0 0 0 0 0 0 0 0 0 0|0 0 0 0 0 1 0]       [0 0 0 0 1]       \n",
       "<------------------------------------ C_0 <------------ C_-1 <-- 0 "
      ]
     },
     "execution_count": 30,
     "metadata": {},
     "output_type": "execute_result"
    }
   ],
   "source": [
    "red_0=block_matrix([[-a_C.differential()[0]],[-v1[0]]])\n",
    "red_1=block_matrix([[-a_C.differential()[1],0],[-v1[1],b_C.differential()[0]]])\n",
    "red_2=block_matrix([[-v1[2],b_C.differential()[1]]])\n",
    "reduced_complex=ChainComplex({-1:red_0,0:red_1,1:red_2})\n",
    "ascii_art(reduced_complex)"
   ]
  },
  {
   "cell_type": "code",
   "execution_count": 31,
   "metadata": {},
   "outputs": [],
   "source": [
    "reduced_homology=Homology(reduced_complex)"
   ]
  },
  {
   "cell_type": "code",
   "execution_count": 32,
   "metadata": {},
   "outputs": [
    {
     "data": {
      "text/plain": [
       "{-1: [], 0: [0], 1: [0], 2: []}"
      ]
     },
     "execution_count": 32,
     "metadata": {},
     "output_type": "execute_result"
    }
   ],
   "source": [
    "reduced_homology.homology_orders"
   ]
  },
  {
   "cell_type": "code",
   "execution_count": 33,
   "metadata": {},
   "outputs": [],
   "source": [
    "B,C,fvars,weightB,phiBtilde,phi_dividedB,deltaBtilde,reduceB,recreduceB,recreduceN=prismatic_envelope_f(p,E,n,total_precision,Fprec,debug=False)"
   ]
  },
  {
   "cell_type": "code",
   "execution_count": 34,
   "metadata": {},
   "outputs": [
    {
     "data": {
      "text/plain": [
       "(6, 2)"
      ]
     },
     "execution_count": 34,
     "metadata": {},
     "output_type": "execute_result"
    }
   ],
   "source": []
  },
  {
   "cell_type": "code",
   "execution_count": null,
   "metadata": {},
   "outputs": [],
   "source": []
  }
 ],
 "metadata": {
  "kernelspec": {
   "display_name": "SageMath 9.4",
   "language": "sage",
   "name": "sagemath-9.4"
  },
  "language_info": {
   "codemirror_mode": {
    "name": "ipython",
    "version": 3
   },
   "file_extension": ".py",
   "mimetype": "text/x-python",
   "name": "python",
   "nbconvert_exporter": "python",
   "pygments_lexer": "ipython3",
   "version": "3.9.5"
  }
 },
 "nbformat": 4,
 "nbformat_minor": 4
}
